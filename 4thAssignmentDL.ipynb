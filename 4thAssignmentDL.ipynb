{
  "nbformat": 4,
  "nbformat_minor": 0,
  "metadata": {
    "colab": {
      "name": "4thAssignmentDL.ipynb",
      "provenance": [],
      "collapsed_sections": [
        "bCDHqdwb74dq",
        "BAzmAHMVAklv",
        "bUD7iIU_0ngc"
      ]
    },
    "kernelspec": {
      "name": "python3",
      "display_name": "Python 3"
    },
    "language_info": {
      "name": "python"
    },
    "widgets": {
      "application/vnd.jupyter.widget-state+json": {
        "dcb5d2484c1d4b608578fbfaf39adc6d": {
          "model_module": "@jupyter-widgets/controls",
          "model_name": "HBoxModel",
          "model_module_version": "1.5.0",
          "state": {
            "_dom_classes": [],
            "_model_module": "@jupyter-widgets/controls",
            "_model_module_version": "1.5.0",
            "_model_name": "HBoxModel",
            "_view_count": null,
            "_view_module": "@jupyter-widgets/controls",
            "_view_module_version": "1.5.0",
            "_view_name": "HBoxView",
            "box_style": "",
            "children": [
              "IPY_MODEL_3ba192dacec24a3fb20fa15b5a63e6b4",
              "IPY_MODEL_1b5a14d6135646aa90f7f4ba06e05649",
              "IPY_MODEL_92df3a6c5064433bbc11d2d9d426ec0e"
            ],
            "layout": "IPY_MODEL_0d8e14b9bfbb4ad2b5db5c8ef02cefbe"
          }
        },
        "3ba192dacec24a3fb20fa15b5a63e6b4": {
          "model_module": "@jupyter-widgets/controls",
          "model_name": "HTMLModel",
          "model_module_version": "1.5.0",
          "state": {
            "_dom_classes": [],
            "_model_module": "@jupyter-widgets/controls",
            "_model_module_version": "1.5.0",
            "_model_name": "HTMLModel",
            "_view_count": null,
            "_view_module": "@jupyter-widgets/controls",
            "_view_module_version": "1.5.0",
            "_view_name": "HTMLView",
            "description": "",
            "description_tooltip": null,
            "layout": "IPY_MODEL_fe6eb9240ff7490ab756cfcae1102fb8",
            "placeholder": "​",
            "style": "IPY_MODEL_0934f3b630df49af9dec6a30d7b8496b",
            "value": "Downloading builder script: "
          }
        },
        "1b5a14d6135646aa90f7f4ba06e05649": {
          "model_module": "@jupyter-widgets/controls",
          "model_name": "FloatProgressModel",
          "model_module_version": "1.5.0",
          "state": {
            "_dom_classes": [],
            "_model_module": "@jupyter-widgets/controls",
            "_model_module_version": "1.5.0",
            "_model_name": "FloatProgressModel",
            "_view_count": null,
            "_view_module": "@jupyter-widgets/controls",
            "_view_module_version": "1.5.0",
            "_view_name": "ProgressView",
            "bar_style": "success",
            "description": "",
            "description_tooltip": null,
            "layout": "IPY_MODEL_9e0a364683c14e889cc84181ae7ef1b0",
            "max": 7777,
            "min": 0,
            "orientation": "horizontal",
            "style": "IPY_MODEL_5e085d0ae4a4486199d001ae598dd2c1",
            "value": 7777
          }
        },
        "92df3a6c5064433bbc11d2d9d426ec0e": {
          "model_module": "@jupyter-widgets/controls",
          "model_name": "HTMLModel",
          "model_module_version": "1.5.0",
          "state": {
            "_dom_classes": [],
            "_model_module": "@jupyter-widgets/controls",
            "_model_module_version": "1.5.0",
            "_model_name": "HTMLModel",
            "_view_count": null,
            "_view_module": "@jupyter-widgets/controls",
            "_view_module_version": "1.5.0",
            "_view_name": "HTMLView",
            "description": "",
            "description_tooltip": null,
            "layout": "IPY_MODEL_604a82fc00c44f839b036f3c7d4910a0",
            "placeholder": "​",
            "style": "IPY_MODEL_ac5c40d471704d868d6169516d27920a",
            "value": " 28.8k/? [00:00&lt;00:00, 392kB/s]"
          }
        },
        "0d8e14b9bfbb4ad2b5db5c8ef02cefbe": {
          "model_module": "@jupyter-widgets/base",
          "model_name": "LayoutModel",
          "model_module_version": "1.2.0",
          "state": {
            "_model_module": "@jupyter-widgets/base",
            "_model_module_version": "1.2.0",
            "_model_name": "LayoutModel",
            "_view_count": null,
            "_view_module": "@jupyter-widgets/base",
            "_view_module_version": "1.2.0",
            "_view_name": "LayoutView",
            "align_content": null,
            "align_items": null,
            "align_self": null,
            "border": null,
            "bottom": null,
            "display": null,
            "flex": null,
            "flex_flow": null,
            "grid_area": null,
            "grid_auto_columns": null,
            "grid_auto_flow": null,
            "grid_auto_rows": null,
            "grid_column": null,
            "grid_gap": null,
            "grid_row": null,
            "grid_template_areas": null,
            "grid_template_columns": null,
            "grid_template_rows": null,
            "height": null,
            "justify_content": null,
            "justify_items": null,
            "left": null,
            "margin": null,
            "max_height": null,
            "max_width": null,
            "min_height": null,
            "min_width": null,
            "object_fit": null,
            "object_position": null,
            "order": null,
            "overflow": null,
            "overflow_x": null,
            "overflow_y": null,
            "padding": null,
            "right": null,
            "top": null,
            "visibility": null,
            "width": null
          }
        },
        "fe6eb9240ff7490ab756cfcae1102fb8": {
          "model_module": "@jupyter-widgets/base",
          "model_name": "LayoutModel",
          "model_module_version": "1.2.0",
          "state": {
            "_model_module": "@jupyter-widgets/base",
            "_model_module_version": "1.2.0",
            "_model_name": "LayoutModel",
            "_view_count": null,
            "_view_module": "@jupyter-widgets/base",
            "_view_module_version": "1.2.0",
            "_view_name": "LayoutView",
            "align_content": null,
            "align_items": null,
            "align_self": null,
            "border": null,
            "bottom": null,
            "display": null,
            "flex": null,
            "flex_flow": null,
            "grid_area": null,
            "grid_auto_columns": null,
            "grid_auto_flow": null,
            "grid_auto_rows": null,
            "grid_column": null,
            "grid_gap": null,
            "grid_row": null,
            "grid_template_areas": null,
            "grid_template_columns": null,
            "grid_template_rows": null,
            "height": null,
            "justify_content": null,
            "justify_items": null,
            "left": null,
            "margin": null,
            "max_height": null,
            "max_width": null,
            "min_height": null,
            "min_width": null,
            "object_fit": null,
            "object_position": null,
            "order": null,
            "overflow": null,
            "overflow_x": null,
            "overflow_y": null,
            "padding": null,
            "right": null,
            "top": null,
            "visibility": null,
            "width": null
          }
        },
        "0934f3b630df49af9dec6a30d7b8496b": {
          "model_module": "@jupyter-widgets/controls",
          "model_name": "DescriptionStyleModel",
          "model_module_version": "1.5.0",
          "state": {
            "_model_module": "@jupyter-widgets/controls",
            "_model_module_version": "1.5.0",
            "_model_name": "DescriptionStyleModel",
            "_view_count": null,
            "_view_module": "@jupyter-widgets/base",
            "_view_module_version": "1.2.0",
            "_view_name": "StyleView",
            "description_width": ""
          }
        },
        "9e0a364683c14e889cc84181ae7ef1b0": {
          "model_module": "@jupyter-widgets/base",
          "model_name": "LayoutModel",
          "model_module_version": "1.2.0",
          "state": {
            "_model_module": "@jupyter-widgets/base",
            "_model_module_version": "1.2.0",
            "_model_name": "LayoutModel",
            "_view_count": null,
            "_view_module": "@jupyter-widgets/base",
            "_view_module_version": "1.2.0",
            "_view_name": "LayoutView",
            "align_content": null,
            "align_items": null,
            "align_self": null,
            "border": null,
            "bottom": null,
            "display": null,
            "flex": null,
            "flex_flow": null,
            "grid_area": null,
            "grid_auto_columns": null,
            "grid_auto_flow": null,
            "grid_auto_rows": null,
            "grid_column": null,
            "grid_gap": null,
            "grid_row": null,
            "grid_template_areas": null,
            "grid_template_columns": null,
            "grid_template_rows": null,
            "height": null,
            "justify_content": null,
            "justify_items": null,
            "left": null,
            "margin": null,
            "max_height": null,
            "max_width": null,
            "min_height": null,
            "min_width": null,
            "object_fit": null,
            "object_position": null,
            "order": null,
            "overflow": null,
            "overflow_x": null,
            "overflow_y": null,
            "padding": null,
            "right": null,
            "top": null,
            "visibility": null,
            "width": null
          }
        },
        "5e085d0ae4a4486199d001ae598dd2c1": {
          "model_module": "@jupyter-widgets/controls",
          "model_name": "ProgressStyleModel",
          "model_module_version": "1.5.0",
          "state": {
            "_model_module": "@jupyter-widgets/controls",
            "_model_module_version": "1.5.0",
            "_model_name": "ProgressStyleModel",
            "_view_count": null,
            "_view_module": "@jupyter-widgets/base",
            "_view_module_version": "1.2.0",
            "_view_name": "StyleView",
            "bar_color": null,
            "description_width": ""
          }
        },
        "604a82fc00c44f839b036f3c7d4910a0": {
          "model_module": "@jupyter-widgets/base",
          "model_name": "LayoutModel",
          "model_module_version": "1.2.0",
          "state": {
            "_model_module": "@jupyter-widgets/base",
            "_model_module_version": "1.2.0",
            "_model_name": "LayoutModel",
            "_view_count": null,
            "_view_module": "@jupyter-widgets/base",
            "_view_module_version": "1.2.0",
            "_view_name": "LayoutView",
            "align_content": null,
            "align_items": null,
            "align_self": null,
            "border": null,
            "bottom": null,
            "display": null,
            "flex": null,
            "flex_flow": null,
            "grid_area": null,
            "grid_auto_columns": null,
            "grid_auto_flow": null,
            "grid_auto_rows": null,
            "grid_column": null,
            "grid_gap": null,
            "grid_row": null,
            "grid_template_areas": null,
            "grid_template_columns": null,
            "grid_template_rows": null,
            "height": null,
            "justify_content": null,
            "justify_items": null,
            "left": null,
            "margin": null,
            "max_height": null,
            "max_width": null,
            "min_height": null,
            "min_width": null,
            "object_fit": null,
            "object_position": null,
            "order": null,
            "overflow": null,
            "overflow_x": null,
            "overflow_y": null,
            "padding": null,
            "right": null,
            "top": null,
            "visibility": null,
            "width": null
          }
        },
        "ac5c40d471704d868d6169516d27920a": {
          "model_module": "@jupyter-widgets/controls",
          "model_name": "DescriptionStyleModel",
          "model_module_version": "1.5.0",
          "state": {
            "_model_module": "@jupyter-widgets/controls",
            "_model_module_version": "1.5.0",
            "_model_name": "DescriptionStyleModel",
            "_view_count": null,
            "_view_module": "@jupyter-widgets/base",
            "_view_module_version": "1.2.0",
            "_view_name": "StyleView",
            "description_width": ""
          }
        },
        "b54eb3ca0cf6470fa28eed98f5171687": {
          "model_module": "@jupyter-widgets/controls",
          "model_name": "HBoxModel",
          "model_module_version": "1.5.0",
          "state": {
            "_dom_classes": [],
            "_model_module": "@jupyter-widgets/controls",
            "_model_module_version": "1.5.0",
            "_model_name": "HBoxModel",
            "_view_count": null,
            "_view_module": "@jupyter-widgets/controls",
            "_view_module_version": "1.5.0",
            "_view_name": "HBoxView",
            "box_style": "",
            "children": [
              "IPY_MODEL_2487f5bf45a14dccbe7a252abcfd0c20",
              "IPY_MODEL_441099491b0e42feaa588ef9db9b99a6",
              "IPY_MODEL_e64437763ea84ed6a304d1d35777f366"
            ],
            "layout": "IPY_MODEL_d2ad2ad8b3fd41baa7018da38c01ddcb"
          }
        },
        "2487f5bf45a14dccbe7a252abcfd0c20": {
          "model_module": "@jupyter-widgets/controls",
          "model_name": "HTMLModel",
          "model_module_version": "1.5.0",
          "state": {
            "_dom_classes": [],
            "_model_module": "@jupyter-widgets/controls",
            "_model_module_version": "1.5.0",
            "_model_name": "HTMLModel",
            "_view_count": null,
            "_view_module": "@jupyter-widgets/controls",
            "_view_module_version": "1.5.0",
            "_view_name": "HTMLView",
            "description": "",
            "description_tooltip": null,
            "layout": "IPY_MODEL_d3a1584d4176415eb988b11eb2130cd1",
            "placeholder": "​",
            "style": "IPY_MODEL_9022bbb69df94954b869321897e46e2b",
            "value": "Downloading metadata: "
          }
        },
        "441099491b0e42feaa588ef9db9b99a6": {
          "model_module": "@jupyter-widgets/controls",
          "model_name": "FloatProgressModel",
          "model_module_version": "1.5.0",
          "state": {
            "_dom_classes": [],
            "_model_module": "@jupyter-widgets/controls",
            "_model_module_version": "1.5.0",
            "_model_name": "FloatProgressModel",
            "_view_count": null,
            "_view_module": "@jupyter-widgets/controls",
            "_view_module_version": "1.5.0",
            "_view_name": "ProgressView",
            "bar_style": "success",
            "description": "",
            "description_tooltip": null,
            "layout": "IPY_MODEL_fc24a029eb0f4f80a09ec84580a69694",
            "max": 4473,
            "min": 0,
            "orientation": "horizontal",
            "style": "IPY_MODEL_afeeccf705c24ee8afad5594658222ea",
            "value": 4473
          }
        },
        "e64437763ea84ed6a304d1d35777f366": {
          "model_module": "@jupyter-widgets/controls",
          "model_name": "HTMLModel",
          "model_module_version": "1.5.0",
          "state": {
            "_dom_classes": [],
            "_model_module": "@jupyter-widgets/controls",
            "_model_module_version": "1.5.0",
            "_model_name": "HTMLModel",
            "_view_count": null,
            "_view_module": "@jupyter-widgets/controls",
            "_view_module_version": "1.5.0",
            "_view_name": "HTMLView",
            "description": "",
            "description_tooltip": null,
            "layout": "IPY_MODEL_0b681d2ddfba4c79a0bcb1a3af40ca88",
            "placeholder": "​",
            "style": "IPY_MODEL_92846e7f4e6546afbb551db4a3bb8581",
            "value": " 28.7k/? [00:00&lt;00:00, 657kB/s]"
          }
        },
        "d2ad2ad8b3fd41baa7018da38c01ddcb": {
          "model_module": "@jupyter-widgets/base",
          "model_name": "LayoutModel",
          "model_module_version": "1.2.0",
          "state": {
            "_model_module": "@jupyter-widgets/base",
            "_model_module_version": "1.2.0",
            "_model_name": "LayoutModel",
            "_view_count": null,
            "_view_module": "@jupyter-widgets/base",
            "_view_module_version": "1.2.0",
            "_view_name": "LayoutView",
            "align_content": null,
            "align_items": null,
            "align_self": null,
            "border": null,
            "bottom": null,
            "display": null,
            "flex": null,
            "flex_flow": null,
            "grid_area": null,
            "grid_auto_columns": null,
            "grid_auto_flow": null,
            "grid_auto_rows": null,
            "grid_column": null,
            "grid_gap": null,
            "grid_row": null,
            "grid_template_areas": null,
            "grid_template_columns": null,
            "grid_template_rows": null,
            "height": null,
            "justify_content": null,
            "justify_items": null,
            "left": null,
            "margin": null,
            "max_height": null,
            "max_width": null,
            "min_height": null,
            "min_width": null,
            "object_fit": null,
            "object_position": null,
            "order": null,
            "overflow": null,
            "overflow_x": null,
            "overflow_y": null,
            "padding": null,
            "right": null,
            "top": null,
            "visibility": null,
            "width": null
          }
        },
        "d3a1584d4176415eb988b11eb2130cd1": {
          "model_module": "@jupyter-widgets/base",
          "model_name": "LayoutModel",
          "model_module_version": "1.2.0",
          "state": {
            "_model_module": "@jupyter-widgets/base",
            "_model_module_version": "1.2.0",
            "_model_name": "LayoutModel",
            "_view_count": null,
            "_view_module": "@jupyter-widgets/base",
            "_view_module_version": "1.2.0",
            "_view_name": "LayoutView",
            "align_content": null,
            "align_items": null,
            "align_self": null,
            "border": null,
            "bottom": null,
            "display": null,
            "flex": null,
            "flex_flow": null,
            "grid_area": null,
            "grid_auto_columns": null,
            "grid_auto_flow": null,
            "grid_auto_rows": null,
            "grid_column": null,
            "grid_gap": null,
            "grid_row": null,
            "grid_template_areas": null,
            "grid_template_columns": null,
            "grid_template_rows": null,
            "height": null,
            "justify_content": null,
            "justify_items": null,
            "left": null,
            "margin": null,
            "max_height": null,
            "max_width": null,
            "min_height": null,
            "min_width": null,
            "object_fit": null,
            "object_position": null,
            "order": null,
            "overflow": null,
            "overflow_x": null,
            "overflow_y": null,
            "padding": null,
            "right": null,
            "top": null,
            "visibility": null,
            "width": null
          }
        },
        "9022bbb69df94954b869321897e46e2b": {
          "model_module": "@jupyter-widgets/controls",
          "model_name": "DescriptionStyleModel",
          "model_module_version": "1.5.0",
          "state": {
            "_model_module": "@jupyter-widgets/controls",
            "_model_module_version": "1.5.0",
            "_model_name": "DescriptionStyleModel",
            "_view_count": null,
            "_view_module": "@jupyter-widgets/base",
            "_view_module_version": "1.2.0",
            "_view_name": "StyleView",
            "description_width": ""
          }
        },
        "fc24a029eb0f4f80a09ec84580a69694": {
          "model_module": "@jupyter-widgets/base",
          "model_name": "LayoutModel",
          "model_module_version": "1.2.0",
          "state": {
            "_model_module": "@jupyter-widgets/base",
            "_model_module_version": "1.2.0",
            "_model_name": "LayoutModel",
            "_view_count": null,
            "_view_module": "@jupyter-widgets/base",
            "_view_module_version": "1.2.0",
            "_view_name": "LayoutView",
            "align_content": null,
            "align_items": null,
            "align_self": null,
            "border": null,
            "bottom": null,
            "display": null,
            "flex": null,
            "flex_flow": null,
            "grid_area": null,
            "grid_auto_columns": null,
            "grid_auto_flow": null,
            "grid_auto_rows": null,
            "grid_column": null,
            "grid_gap": null,
            "grid_row": null,
            "grid_template_areas": null,
            "grid_template_columns": null,
            "grid_template_rows": null,
            "height": null,
            "justify_content": null,
            "justify_items": null,
            "left": null,
            "margin": null,
            "max_height": null,
            "max_width": null,
            "min_height": null,
            "min_width": null,
            "object_fit": null,
            "object_position": null,
            "order": null,
            "overflow": null,
            "overflow_x": null,
            "overflow_y": null,
            "padding": null,
            "right": null,
            "top": null,
            "visibility": null,
            "width": null
          }
        },
        "afeeccf705c24ee8afad5594658222ea": {
          "model_module": "@jupyter-widgets/controls",
          "model_name": "ProgressStyleModel",
          "model_module_version": "1.5.0",
          "state": {
            "_model_module": "@jupyter-widgets/controls",
            "_model_module_version": "1.5.0",
            "_model_name": "ProgressStyleModel",
            "_view_count": null,
            "_view_module": "@jupyter-widgets/base",
            "_view_module_version": "1.2.0",
            "_view_name": "StyleView",
            "bar_color": null,
            "description_width": ""
          }
        },
        "0b681d2ddfba4c79a0bcb1a3af40ca88": {
          "model_module": "@jupyter-widgets/base",
          "model_name": "LayoutModel",
          "model_module_version": "1.2.0",
          "state": {
            "_model_module": "@jupyter-widgets/base",
            "_model_module_version": "1.2.0",
            "_model_name": "LayoutModel",
            "_view_count": null,
            "_view_module": "@jupyter-widgets/base",
            "_view_module_version": "1.2.0",
            "_view_name": "LayoutView",
            "align_content": null,
            "align_items": null,
            "align_self": null,
            "border": null,
            "bottom": null,
            "display": null,
            "flex": null,
            "flex_flow": null,
            "grid_area": null,
            "grid_auto_columns": null,
            "grid_auto_flow": null,
            "grid_auto_rows": null,
            "grid_column": null,
            "grid_gap": null,
            "grid_row": null,
            "grid_template_areas": null,
            "grid_template_columns": null,
            "grid_template_rows": null,
            "height": null,
            "justify_content": null,
            "justify_items": null,
            "left": null,
            "margin": null,
            "max_height": null,
            "max_width": null,
            "min_height": null,
            "min_width": null,
            "object_fit": null,
            "object_position": null,
            "order": null,
            "overflow": null,
            "overflow_x": null,
            "overflow_y": null,
            "padding": null,
            "right": null,
            "top": null,
            "visibility": null,
            "width": null
          }
        },
        "92846e7f4e6546afbb551db4a3bb8581": {
          "model_module": "@jupyter-widgets/controls",
          "model_name": "DescriptionStyleModel",
          "model_module_version": "1.5.0",
          "state": {
            "_model_module": "@jupyter-widgets/controls",
            "_model_module_version": "1.5.0",
            "_model_name": "DescriptionStyleModel",
            "_view_count": null,
            "_view_module": "@jupyter-widgets/base",
            "_view_module_version": "1.2.0",
            "_view_name": "StyleView",
            "description_width": ""
          }
        },
        "e45ffdec3d8a4054acf61ba8a3d07aea": {
          "model_module": "@jupyter-widgets/controls",
          "model_name": "HBoxModel",
          "model_module_version": "1.5.0",
          "state": {
            "_dom_classes": [],
            "_model_module": "@jupyter-widgets/controls",
            "_model_module_version": "1.5.0",
            "_model_name": "HBoxModel",
            "_view_count": null,
            "_view_module": "@jupyter-widgets/controls",
            "_view_module_version": "1.5.0",
            "_view_name": "HBoxView",
            "box_style": "",
            "children": [
              "IPY_MODEL_986dbece4f404da4b0795f246884df80",
              "IPY_MODEL_99c193102b1e45308c542932affb40e9",
              "IPY_MODEL_680e49025ae24b3f807a3a69e7c41260"
            ],
            "layout": "IPY_MODEL_be25815778654fab8d762c06e85a146b"
          }
        },
        "986dbece4f404da4b0795f246884df80": {
          "model_module": "@jupyter-widgets/controls",
          "model_name": "HTMLModel",
          "model_module_version": "1.5.0",
          "state": {
            "_dom_classes": [],
            "_model_module": "@jupyter-widgets/controls",
            "_model_module_version": "1.5.0",
            "_model_name": "HTMLModel",
            "_view_count": null,
            "_view_module": "@jupyter-widgets/controls",
            "_view_module_version": "1.5.0",
            "_view_name": "HTMLView",
            "description": "",
            "description_tooltip": null,
            "layout": "IPY_MODEL_9c45378c7a2f40c9b4cbab263dec938b",
            "placeholder": "​",
            "style": "IPY_MODEL_9d0b3bcbd51743a2a95ae747a427e648",
            "value": "Downloading data: 100%"
          }
        },
        "99c193102b1e45308c542932affb40e9": {
          "model_module": "@jupyter-widgets/controls",
          "model_name": "FloatProgressModel",
          "model_module_version": "1.5.0",
          "state": {
            "_dom_classes": [],
            "_model_module": "@jupyter-widgets/controls",
            "_model_module_version": "1.5.0",
            "_model_name": "FloatProgressModel",
            "_view_count": null,
            "_view_module": "@jupyter-widgets/controls",
            "_view_module_version": "1.5.0",
            "_view_name": "ProgressView",
            "bar_style": "success",
            "description": "",
            "description_tooltip": null,
            "layout": "IPY_MODEL_47f9c0bf0c0a44f49db84941da5ea1c7",
            "max": 7439277,
            "min": 0,
            "orientation": "horizontal",
            "style": "IPY_MODEL_901e506745cf4851ba02ea9b35359807",
            "value": 7439277
          }
        },
        "680e49025ae24b3f807a3a69e7c41260": {
          "model_module": "@jupyter-widgets/controls",
          "model_name": "HTMLModel",
          "model_module_version": "1.5.0",
          "state": {
            "_dom_classes": [],
            "_model_module": "@jupyter-widgets/controls",
            "_model_module_version": "1.5.0",
            "_model_name": "HTMLModel",
            "_view_count": null,
            "_view_module": "@jupyter-widgets/controls",
            "_view_module_version": "1.5.0",
            "_view_name": "HTMLView",
            "description": "",
            "description_tooltip": null,
            "layout": "IPY_MODEL_b8a395e8567f4a99803dfc455ac5b9f1",
            "placeholder": "​",
            "style": "IPY_MODEL_69954b58645e4298a64618d1d7830f3a",
            "value": " 7.44M/7.44M [00:01&lt;00:00, 8.20MB/s]"
          }
        },
        "be25815778654fab8d762c06e85a146b": {
          "model_module": "@jupyter-widgets/base",
          "model_name": "LayoutModel",
          "model_module_version": "1.2.0",
          "state": {
            "_model_module": "@jupyter-widgets/base",
            "_model_module_version": "1.2.0",
            "_model_name": "LayoutModel",
            "_view_count": null,
            "_view_module": "@jupyter-widgets/base",
            "_view_module_version": "1.2.0",
            "_view_name": "LayoutView",
            "align_content": null,
            "align_items": null,
            "align_self": null,
            "border": null,
            "bottom": null,
            "display": null,
            "flex": null,
            "flex_flow": null,
            "grid_area": null,
            "grid_auto_columns": null,
            "grid_auto_flow": null,
            "grid_auto_rows": null,
            "grid_column": null,
            "grid_gap": null,
            "grid_row": null,
            "grid_template_areas": null,
            "grid_template_columns": null,
            "grid_template_rows": null,
            "height": null,
            "justify_content": null,
            "justify_items": null,
            "left": null,
            "margin": null,
            "max_height": null,
            "max_width": null,
            "min_height": null,
            "min_width": null,
            "object_fit": null,
            "object_position": null,
            "order": null,
            "overflow": null,
            "overflow_x": null,
            "overflow_y": null,
            "padding": null,
            "right": null,
            "top": null,
            "visibility": null,
            "width": null
          }
        },
        "9c45378c7a2f40c9b4cbab263dec938b": {
          "model_module": "@jupyter-widgets/base",
          "model_name": "LayoutModel",
          "model_module_version": "1.2.0",
          "state": {
            "_model_module": "@jupyter-widgets/base",
            "_model_module_version": "1.2.0",
            "_model_name": "LayoutModel",
            "_view_count": null,
            "_view_module": "@jupyter-widgets/base",
            "_view_module_version": "1.2.0",
            "_view_name": "LayoutView",
            "align_content": null,
            "align_items": null,
            "align_self": null,
            "border": null,
            "bottom": null,
            "display": null,
            "flex": null,
            "flex_flow": null,
            "grid_area": null,
            "grid_auto_columns": null,
            "grid_auto_flow": null,
            "grid_auto_rows": null,
            "grid_column": null,
            "grid_gap": null,
            "grid_row": null,
            "grid_template_areas": null,
            "grid_template_columns": null,
            "grid_template_rows": null,
            "height": null,
            "justify_content": null,
            "justify_items": null,
            "left": null,
            "margin": null,
            "max_height": null,
            "max_width": null,
            "min_height": null,
            "min_width": null,
            "object_fit": null,
            "object_position": null,
            "order": null,
            "overflow": null,
            "overflow_x": null,
            "overflow_y": null,
            "padding": null,
            "right": null,
            "top": null,
            "visibility": null,
            "width": null
          }
        },
        "9d0b3bcbd51743a2a95ae747a427e648": {
          "model_module": "@jupyter-widgets/controls",
          "model_name": "DescriptionStyleModel",
          "model_module_version": "1.5.0",
          "state": {
            "_model_module": "@jupyter-widgets/controls",
            "_model_module_version": "1.5.0",
            "_model_name": "DescriptionStyleModel",
            "_view_count": null,
            "_view_module": "@jupyter-widgets/base",
            "_view_module_version": "1.2.0",
            "_view_name": "StyleView",
            "description_width": ""
          }
        },
        "47f9c0bf0c0a44f49db84941da5ea1c7": {
          "model_module": "@jupyter-widgets/base",
          "model_name": "LayoutModel",
          "model_module_version": "1.2.0",
          "state": {
            "_model_module": "@jupyter-widgets/base",
            "_model_module_version": "1.2.0",
            "_model_name": "LayoutModel",
            "_view_count": null,
            "_view_module": "@jupyter-widgets/base",
            "_view_module_version": "1.2.0",
            "_view_name": "LayoutView",
            "align_content": null,
            "align_items": null,
            "align_self": null,
            "border": null,
            "bottom": null,
            "display": null,
            "flex": null,
            "flex_flow": null,
            "grid_area": null,
            "grid_auto_columns": null,
            "grid_auto_flow": null,
            "grid_auto_rows": null,
            "grid_column": null,
            "grid_gap": null,
            "grid_row": null,
            "grid_template_areas": null,
            "grid_template_columns": null,
            "grid_template_rows": null,
            "height": null,
            "justify_content": null,
            "justify_items": null,
            "left": null,
            "margin": null,
            "max_height": null,
            "max_width": null,
            "min_height": null,
            "min_width": null,
            "object_fit": null,
            "object_position": null,
            "order": null,
            "overflow": null,
            "overflow_x": null,
            "overflow_y": null,
            "padding": null,
            "right": null,
            "top": null,
            "visibility": null,
            "width": null
          }
        },
        "901e506745cf4851ba02ea9b35359807": {
          "model_module": "@jupyter-widgets/controls",
          "model_name": "ProgressStyleModel",
          "model_module_version": "1.5.0",
          "state": {
            "_model_module": "@jupyter-widgets/controls",
            "_model_module_version": "1.5.0",
            "_model_name": "ProgressStyleModel",
            "_view_count": null,
            "_view_module": "@jupyter-widgets/base",
            "_view_module_version": "1.2.0",
            "_view_name": "StyleView",
            "bar_color": null,
            "description_width": ""
          }
        },
        "b8a395e8567f4a99803dfc455ac5b9f1": {
          "model_module": "@jupyter-widgets/base",
          "model_name": "LayoutModel",
          "model_module_version": "1.2.0",
          "state": {
            "_model_module": "@jupyter-widgets/base",
            "_model_module_version": "1.2.0",
            "_model_name": "LayoutModel",
            "_view_count": null,
            "_view_module": "@jupyter-widgets/base",
            "_view_module_version": "1.2.0",
            "_view_name": "LayoutView",
            "align_content": null,
            "align_items": null,
            "align_self": null,
            "border": null,
            "bottom": null,
            "display": null,
            "flex": null,
            "flex_flow": null,
            "grid_area": null,
            "grid_auto_columns": null,
            "grid_auto_flow": null,
            "grid_auto_rows": null,
            "grid_column": null,
            "grid_gap": null,
            "grid_row": null,
            "grid_template_areas": null,
            "grid_template_columns": null,
            "grid_template_rows": null,
            "height": null,
            "justify_content": null,
            "justify_items": null,
            "left": null,
            "margin": null,
            "max_height": null,
            "max_width": null,
            "min_height": null,
            "min_width": null,
            "object_fit": null,
            "object_position": null,
            "order": null,
            "overflow": null,
            "overflow_x": null,
            "overflow_y": null,
            "padding": null,
            "right": null,
            "top": null,
            "visibility": null,
            "width": null
          }
        },
        "69954b58645e4298a64618d1d7830f3a": {
          "model_module": "@jupyter-widgets/controls",
          "model_name": "DescriptionStyleModel",
          "model_module_version": "1.5.0",
          "state": {
            "_model_module": "@jupyter-widgets/controls",
            "_model_module_version": "1.5.0",
            "_model_name": "DescriptionStyleModel",
            "_view_count": null,
            "_view_module": "@jupyter-widgets/base",
            "_view_module_version": "1.2.0",
            "_view_name": "StyleView",
            "description_width": ""
          }
        },
        "c724131eb3554b7bad9425b268bcb02b": {
          "model_module": "@jupyter-widgets/controls",
          "model_name": "HBoxModel",
          "model_module_version": "1.5.0",
          "state": {
            "_dom_classes": [],
            "_model_module": "@jupyter-widgets/controls",
            "_model_module_version": "1.5.0",
            "_model_name": "HBoxModel",
            "_view_count": null,
            "_view_module": "@jupyter-widgets/controls",
            "_view_module_version": "1.5.0",
            "_view_name": "HBoxView",
            "box_style": "",
            "children": [
              "IPY_MODEL_c5ead33f9d8c4f2187efe1a2511f2172",
              "IPY_MODEL_e207a10a7ced41ac9eb40d6d470d6c7d",
              "IPY_MODEL_57effb51f90c4b92b4042f47adff3b23"
            ],
            "layout": "IPY_MODEL_1584789de2144925adb99e169c3094c2"
          }
        },
        "c5ead33f9d8c4f2187efe1a2511f2172": {
          "model_module": "@jupyter-widgets/controls",
          "model_name": "HTMLModel",
          "model_module_version": "1.5.0",
          "state": {
            "_dom_classes": [],
            "_model_module": "@jupyter-widgets/controls",
            "_model_module_version": "1.5.0",
            "_model_name": "HTMLModel",
            "_view_count": null,
            "_view_module": "@jupyter-widgets/controls",
            "_view_module_version": "1.5.0",
            "_view_name": "HTMLView",
            "description": "",
            "description_tooltip": null,
            "layout": "IPY_MODEL_8cdb2671f2f04dcc84d7ed6d8928ef6a",
            "placeholder": "​",
            "style": "IPY_MODEL_68e9121a830d454c8c875c63d5763930",
            "value": "Generating train split: 100%"
          }
        },
        "e207a10a7ced41ac9eb40d6d470d6c7d": {
          "model_module": "@jupyter-widgets/controls",
          "model_name": "FloatProgressModel",
          "model_module_version": "1.5.0",
          "state": {
            "_dom_classes": [],
            "_model_module": "@jupyter-widgets/controls",
            "_model_module_version": "1.5.0",
            "_model_name": "FloatProgressModel",
            "_view_count": null,
            "_view_module": "@jupyter-widgets/controls",
            "_view_module_version": "1.5.0",
            "_view_name": "ProgressView",
            "bar_style": "",
            "description": "",
            "description_tooltip": null,
            "layout": "IPY_MODEL_f9ed7c03e1884b49ad9d4a362d4b6221",
            "max": 67349,
            "min": 0,
            "orientation": "horizontal",
            "style": "IPY_MODEL_ebed298925804b91bd25fa513537547c",
            "value": 67349
          }
        },
        "57effb51f90c4b92b4042f47adff3b23": {
          "model_module": "@jupyter-widgets/controls",
          "model_name": "HTMLModel",
          "model_module_version": "1.5.0",
          "state": {
            "_dom_classes": [],
            "_model_module": "@jupyter-widgets/controls",
            "_model_module_version": "1.5.0",
            "_model_name": "HTMLModel",
            "_view_count": null,
            "_view_module": "@jupyter-widgets/controls",
            "_view_module_version": "1.5.0",
            "_view_name": "HTMLView",
            "description": "",
            "description_tooltip": null,
            "layout": "IPY_MODEL_980d6ae67be04ffe9482ee23423eb389",
            "placeholder": "​",
            "style": "IPY_MODEL_b7fbdee93d3b409986a107f81585564c",
            "value": " 67197/67349 [00:07&lt;00:00, 7305.43 examples/s]"
          }
        },
        "1584789de2144925adb99e169c3094c2": {
          "model_module": "@jupyter-widgets/base",
          "model_name": "LayoutModel",
          "model_module_version": "1.2.0",
          "state": {
            "_model_module": "@jupyter-widgets/base",
            "_model_module_version": "1.2.0",
            "_model_name": "LayoutModel",
            "_view_count": null,
            "_view_module": "@jupyter-widgets/base",
            "_view_module_version": "1.2.0",
            "_view_name": "LayoutView",
            "align_content": null,
            "align_items": null,
            "align_self": null,
            "border": null,
            "bottom": null,
            "display": null,
            "flex": null,
            "flex_flow": null,
            "grid_area": null,
            "grid_auto_columns": null,
            "grid_auto_flow": null,
            "grid_auto_rows": null,
            "grid_column": null,
            "grid_gap": null,
            "grid_row": null,
            "grid_template_areas": null,
            "grid_template_columns": null,
            "grid_template_rows": null,
            "height": null,
            "justify_content": null,
            "justify_items": null,
            "left": null,
            "margin": null,
            "max_height": null,
            "max_width": null,
            "min_height": null,
            "min_width": null,
            "object_fit": null,
            "object_position": null,
            "order": null,
            "overflow": null,
            "overflow_x": null,
            "overflow_y": null,
            "padding": null,
            "right": null,
            "top": null,
            "visibility": null,
            "width": null
          }
        },
        "8cdb2671f2f04dcc84d7ed6d8928ef6a": {
          "model_module": "@jupyter-widgets/base",
          "model_name": "LayoutModel",
          "model_module_version": "1.2.0",
          "state": {
            "_model_module": "@jupyter-widgets/base",
            "_model_module_version": "1.2.0",
            "_model_name": "LayoutModel",
            "_view_count": null,
            "_view_module": "@jupyter-widgets/base",
            "_view_module_version": "1.2.0",
            "_view_name": "LayoutView",
            "align_content": null,
            "align_items": null,
            "align_self": null,
            "border": null,
            "bottom": null,
            "display": null,
            "flex": null,
            "flex_flow": null,
            "grid_area": null,
            "grid_auto_columns": null,
            "grid_auto_flow": null,
            "grid_auto_rows": null,
            "grid_column": null,
            "grid_gap": null,
            "grid_row": null,
            "grid_template_areas": null,
            "grid_template_columns": null,
            "grid_template_rows": null,
            "height": null,
            "justify_content": null,
            "justify_items": null,
            "left": null,
            "margin": null,
            "max_height": null,
            "max_width": null,
            "min_height": null,
            "min_width": null,
            "object_fit": null,
            "object_position": null,
            "order": null,
            "overflow": null,
            "overflow_x": null,
            "overflow_y": null,
            "padding": null,
            "right": null,
            "top": null,
            "visibility": null,
            "width": null
          }
        },
        "68e9121a830d454c8c875c63d5763930": {
          "model_module": "@jupyter-widgets/controls",
          "model_name": "DescriptionStyleModel",
          "model_module_version": "1.5.0",
          "state": {
            "_model_module": "@jupyter-widgets/controls",
            "_model_module_version": "1.5.0",
            "_model_name": "DescriptionStyleModel",
            "_view_count": null,
            "_view_module": "@jupyter-widgets/base",
            "_view_module_version": "1.2.0",
            "_view_name": "StyleView",
            "description_width": ""
          }
        },
        "f9ed7c03e1884b49ad9d4a362d4b6221": {
          "model_module": "@jupyter-widgets/base",
          "model_name": "LayoutModel",
          "model_module_version": "1.2.0",
          "state": {
            "_model_module": "@jupyter-widgets/base",
            "_model_module_version": "1.2.0",
            "_model_name": "LayoutModel",
            "_view_count": null,
            "_view_module": "@jupyter-widgets/base",
            "_view_module_version": "1.2.0",
            "_view_name": "LayoutView",
            "align_content": null,
            "align_items": null,
            "align_self": null,
            "border": null,
            "bottom": null,
            "display": null,
            "flex": null,
            "flex_flow": null,
            "grid_area": null,
            "grid_auto_columns": null,
            "grid_auto_flow": null,
            "grid_auto_rows": null,
            "grid_column": null,
            "grid_gap": null,
            "grid_row": null,
            "grid_template_areas": null,
            "grid_template_columns": null,
            "grid_template_rows": null,
            "height": null,
            "justify_content": null,
            "justify_items": null,
            "left": null,
            "margin": null,
            "max_height": null,
            "max_width": null,
            "min_height": null,
            "min_width": null,
            "object_fit": null,
            "object_position": null,
            "order": null,
            "overflow": null,
            "overflow_x": null,
            "overflow_y": null,
            "padding": null,
            "right": null,
            "top": null,
            "visibility": null,
            "width": null
          }
        },
        "ebed298925804b91bd25fa513537547c": {
          "model_module": "@jupyter-widgets/controls",
          "model_name": "ProgressStyleModel",
          "model_module_version": "1.5.0",
          "state": {
            "_model_module": "@jupyter-widgets/controls",
            "_model_module_version": "1.5.0",
            "_model_name": "ProgressStyleModel",
            "_view_count": null,
            "_view_module": "@jupyter-widgets/base",
            "_view_module_version": "1.2.0",
            "_view_name": "StyleView",
            "bar_color": null,
            "description_width": ""
          }
        },
        "980d6ae67be04ffe9482ee23423eb389": {
          "model_module": "@jupyter-widgets/base",
          "model_name": "LayoutModel",
          "model_module_version": "1.2.0",
          "state": {
            "_model_module": "@jupyter-widgets/base",
            "_model_module_version": "1.2.0",
            "_model_name": "LayoutModel",
            "_view_count": null,
            "_view_module": "@jupyter-widgets/base",
            "_view_module_version": "1.2.0",
            "_view_name": "LayoutView",
            "align_content": null,
            "align_items": null,
            "align_self": null,
            "border": null,
            "bottom": null,
            "display": null,
            "flex": null,
            "flex_flow": null,
            "grid_area": null,
            "grid_auto_columns": null,
            "grid_auto_flow": null,
            "grid_auto_rows": null,
            "grid_column": null,
            "grid_gap": null,
            "grid_row": null,
            "grid_template_areas": null,
            "grid_template_columns": null,
            "grid_template_rows": null,
            "height": null,
            "justify_content": null,
            "justify_items": null,
            "left": null,
            "margin": null,
            "max_height": null,
            "max_width": null,
            "min_height": null,
            "min_width": null,
            "object_fit": null,
            "object_position": null,
            "order": null,
            "overflow": null,
            "overflow_x": null,
            "overflow_y": null,
            "padding": null,
            "right": null,
            "top": null,
            "visibility": null,
            "width": null
          }
        },
        "b7fbdee93d3b409986a107f81585564c": {
          "model_module": "@jupyter-widgets/controls",
          "model_name": "DescriptionStyleModel",
          "model_module_version": "1.5.0",
          "state": {
            "_model_module": "@jupyter-widgets/controls",
            "_model_module_version": "1.5.0",
            "_model_name": "DescriptionStyleModel",
            "_view_count": null,
            "_view_module": "@jupyter-widgets/base",
            "_view_module_version": "1.2.0",
            "_view_name": "StyleView",
            "description_width": ""
          }
        },
        "6c6241f83abe41d091cd94d321ed06fc": {
          "model_module": "@jupyter-widgets/controls",
          "model_name": "HBoxModel",
          "model_module_version": "1.5.0",
          "state": {
            "_dom_classes": [],
            "_model_module": "@jupyter-widgets/controls",
            "_model_module_version": "1.5.0",
            "_model_name": "HBoxModel",
            "_view_count": null,
            "_view_module": "@jupyter-widgets/controls",
            "_view_module_version": "1.5.0",
            "_view_name": "HBoxView",
            "box_style": "",
            "children": [
              "IPY_MODEL_10e8a501ad1a4d81bb61fccd5a4de22c",
              "IPY_MODEL_1530c582d01e43be8e286d57a771512a",
              "IPY_MODEL_5125db41776f469ba0812dca3a6485b4"
            ],
            "layout": "IPY_MODEL_fb3f5acfd308443ca21fad54f98d64dd"
          }
        },
        "10e8a501ad1a4d81bb61fccd5a4de22c": {
          "model_module": "@jupyter-widgets/controls",
          "model_name": "HTMLModel",
          "model_module_version": "1.5.0",
          "state": {
            "_dom_classes": [],
            "_model_module": "@jupyter-widgets/controls",
            "_model_module_version": "1.5.0",
            "_model_name": "HTMLModel",
            "_view_count": null,
            "_view_module": "@jupyter-widgets/controls",
            "_view_module_version": "1.5.0",
            "_view_name": "HTMLView",
            "description": "",
            "description_tooltip": null,
            "layout": "IPY_MODEL_904d27a943794cb08a724aee355e473b",
            "placeholder": "​",
            "style": "IPY_MODEL_bf7a61f6970d4bfc9d7b149e1f2845f5",
            "value": "Generating validation split:  89%"
          }
        },
        "1530c582d01e43be8e286d57a771512a": {
          "model_module": "@jupyter-widgets/controls",
          "model_name": "FloatProgressModel",
          "model_module_version": "1.5.0",
          "state": {
            "_dom_classes": [],
            "_model_module": "@jupyter-widgets/controls",
            "_model_module_version": "1.5.0",
            "_model_name": "FloatProgressModel",
            "_view_count": null,
            "_view_module": "@jupyter-widgets/controls",
            "_view_module_version": "1.5.0",
            "_view_name": "ProgressView",
            "bar_style": "",
            "description": "",
            "description_tooltip": null,
            "layout": "IPY_MODEL_0ada03691c7c4d3fa6501b58d008a2f7",
            "max": 872,
            "min": 0,
            "orientation": "horizontal",
            "style": "IPY_MODEL_42e7c61d98a34737a5edf5b0a44ad4b3",
            "value": 872
          }
        },
        "5125db41776f469ba0812dca3a6485b4": {
          "model_module": "@jupyter-widgets/controls",
          "model_name": "HTMLModel",
          "model_module_version": "1.5.0",
          "state": {
            "_dom_classes": [],
            "_model_module": "@jupyter-widgets/controls",
            "_model_module_version": "1.5.0",
            "_model_name": "HTMLModel",
            "_view_count": null,
            "_view_module": "@jupyter-widgets/controls",
            "_view_module_version": "1.5.0",
            "_view_name": "HTMLView",
            "description": "",
            "description_tooltip": null,
            "layout": "IPY_MODEL_2083e9ec2c314088a6a9a6f28d8e87ea",
            "placeholder": "​",
            "style": "IPY_MODEL_36671fc772e545e1921cede189773585",
            "value": " 774/872 [00:00&lt;00:00, 3885.69 examples/s]"
          }
        },
        "fb3f5acfd308443ca21fad54f98d64dd": {
          "model_module": "@jupyter-widgets/base",
          "model_name": "LayoutModel",
          "model_module_version": "1.2.0",
          "state": {
            "_model_module": "@jupyter-widgets/base",
            "_model_module_version": "1.2.0",
            "_model_name": "LayoutModel",
            "_view_count": null,
            "_view_module": "@jupyter-widgets/base",
            "_view_module_version": "1.2.0",
            "_view_name": "LayoutView",
            "align_content": null,
            "align_items": null,
            "align_self": null,
            "border": null,
            "bottom": null,
            "display": null,
            "flex": null,
            "flex_flow": null,
            "grid_area": null,
            "grid_auto_columns": null,
            "grid_auto_flow": null,
            "grid_auto_rows": null,
            "grid_column": null,
            "grid_gap": null,
            "grid_row": null,
            "grid_template_areas": null,
            "grid_template_columns": null,
            "grid_template_rows": null,
            "height": null,
            "justify_content": null,
            "justify_items": null,
            "left": null,
            "margin": null,
            "max_height": null,
            "max_width": null,
            "min_height": null,
            "min_width": null,
            "object_fit": null,
            "object_position": null,
            "order": null,
            "overflow": null,
            "overflow_x": null,
            "overflow_y": null,
            "padding": null,
            "right": null,
            "top": null,
            "visibility": null,
            "width": null
          }
        },
        "904d27a943794cb08a724aee355e473b": {
          "model_module": "@jupyter-widgets/base",
          "model_name": "LayoutModel",
          "model_module_version": "1.2.0",
          "state": {
            "_model_module": "@jupyter-widgets/base",
            "_model_module_version": "1.2.0",
            "_model_name": "LayoutModel",
            "_view_count": null,
            "_view_module": "@jupyter-widgets/base",
            "_view_module_version": "1.2.0",
            "_view_name": "LayoutView",
            "align_content": null,
            "align_items": null,
            "align_self": null,
            "border": null,
            "bottom": null,
            "display": null,
            "flex": null,
            "flex_flow": null,
            "grid_area": null,
            "grid_auto_columns": null,
            "grid_auto_flow": null,
            "grid_auto_rows": null,
            "grid_column": null,
            "grid_gap": null,
            "grid_row": null,
            "grid_template_areas": null,
            "grid_template_columns": null,
            "grid_template_rows": null,
            "height": null,
            "justify_content": null,
            "justify_items": null,
            "left": null,
            "margin": null,
            "max_height": null,
            "max_width": null,
            "min_height": null,
            "min_width": null,
            "object_fit": null,
            "object_position": null,
            "order": null,
            "overflow": null,
            "overflow_x": null,
            "overflow_y": null,
            "padding": null,
            "right": null,
            "top": null,
            "visibility": null,
            "width": null
          }
        },
        "bf7a61f6970d4bfc9d7b149e1f2845f5": {
          "model_module": "@jupyter-widgets/controls",
          "model_name": "DescriptionStyleModel",
          "model_module_version": "1.5.0",
          "state": {
            "_model_module": "@jupyter-widgets/controls",
            "_model_module_version": "1.5.0",
            "_model_name": "DescriptionStyleModel",
            "_view_count": null,
            "_view_module": "@jupyter-widgets/base",
            "_view_module_version": "1.2.0",
            "_view_name": "StyleView",
            "description_width": ""
          }
        },
        "0ada03691c7c4d3fa6501b58d008a2f7": {
          "model_module": "@jupyter-widgets/base",
          "model_name": "LayoutModel",
          "model_module_version": "1.2.0",
          "state": {
            "_model_module": "@jupyter-widgets/base",
            "_model_module_version": "1.2.0",
            "_model_name": "LayoutModel",
            "_view_count": null,
            "_view_module": "@jupyter-widgets/base",
            "_view_module_version": "1.2.0",
            "_view_name": "LayoutView",
            "align_content": null,
            "align_items": null,
            "align_self": null,
            "border": null,
            "bottom": null,
            "display": null,
            "flex": null,
            "flex_flow": null,
            "grid_area": null,
            "grid_auto_columns": null,
            "grid_auto_flow": null,
            "grid_auto_rows": null,
            "grid_column": null,
            "grid_gap": null,
            "grid_row": null,
            "grid_template_areas": null,
            "grid_template_columns": null,
            "grid_template_rows": null,
            "height": null,
            "justify_content": null,
            "justify_items": null,
            "left": null,
            "margin": null,
            "max_height": null,
            "max_width": null,
            "min_height": null,
            "min_width": null,
            "object_fit": null,
            "object_position": null,
            "order": null,
            "overflow": null,
            "overflow_x": null,
            "overflow_y": null,
            "padding": null,
            "right": null,
            "top": null,
            "visibility": null,
            "width": null
          }
        },
        "42e7c61d98a34737a5edf5b0a44ad4b3": {
          "model_module": "@jupyter-widgets/controls",
          "model_name": "ProgressStyleModel",
          "model_module_version": "1.5.0",
          "state": {
            "_model_module": "@jupyter-widgets/controls",
            "_model_module_version": "1.5.0",
            "_model_name": "ProgressStyleModel",
            "_view_count": null,
            "_view_module": "@jupyter-widgets/base",
            "_view_module_version": "1.2.0",
            "_view_name": "StyleView",
            "bar_color": null,
            "description_width": ""
          }
        },
        "2083e9ec2c314088a6a9a6f28d8e87ea": {
          "model_module": "@jupyter-widgets/base",
          "model_name": "LayoutModel",
          "model_module_version": "1.2.0",
          "state": {
            "_model_module": "@jupyter-widgets/base",
            "_model_module_version": "1.2.0",
            "_model_name": "LayoutModel",
            "_view_count": null,
            "_view_module": "@jupyter-widgets/base",
            "_view_module_version": "1.2.0",
            "_view_name": "LayoutView",
            "align_content": null,
            "align_items": null,
            "align_self": null,
            "border": null,
            "bottom": null,
            "display": null,
            "flex": null,
            "flex_flow": null,
            "grid_area": null,
            "grid_auto_columns": null,
            "grid_auto_flow": null,
            "grid_auto_rows": null,
            "grid_column": null,
            "grid_gap": null,
            "grid_row": null,
            "grid_template_areas": null,
            "grid_template_columns": null,
            "grid_template_rows": null,
            "height": null,
            "justify_content": null,
            "justify_items": null,
            "left": null,
            "margin": null,
            "max_height": null,
            "max_width": null,
            "min_height": null,
            "min_width": null,
            "object_fit": null,
            "object_position": null,
            "order": null,
            "overflow": null,
            "overflow_x": null,
            "overflow_y": null,
            "padding": null,
            "right": null,
            "top": null,
            "visibility": null,
            "width": null
          }
        },
        "36671fc772e545e1921cede189773585": {
          "model_module": "@jupyter-widgets/controls",
          "model_name": "DescriptionStyleModel",
          "model_module_version": "1.5.0",
          "state": {
            "_model_module": "@jupyter-widgets/controls",
            "_model_module_version": "1.5.0",
            "_model_name": "DescriptionStyleModel",
            "_view_count": null,
            "_view_module": "@jupyter-widgets/base",
            "_view_module_version": "1.2.0",
            "_view_name": "StyleView",
            "description_width": ""
          }
        },
        "a957196fa970414591b53005291f3848": {
          "model_module": "@jupyter-widgets/controls",
          "model_name": "HBoxModel",
          "model_module_version": "1.5.0",
          "state": {
            "_dom_classes": [],
            "_model_module": "@jupyter-widgets/controls",
            "_model_module_version": "1.5.0",
            "_model_name": "HBoxModel",
            "_view_count": null,
            "_view_module": "@jupyter-widgets/controls",
            "_view_module_version": "1.5.0",
            "_view_name": "HBoxView",
            "box_style": "",
            "children": [
              "IPY_MODEL_4566e7c2d05e453e9f85439d663d9faa",
              "IPY_MODEL_505be3c7643e436b96148ee3fcb1a4c9",
              "IPY_MODEL_ccdc005682ec4621a92c30a4a8acca60"
            ],
            "layout": "IPY_MODEL_4bdce984358d415e8cbf24b65cdf71fb"
          }
        },
        "4566e7c2d05e453e9f85439d663d9faa": {
          "model_module": "@jupyter-widgets/controls",
          "model_name": "HTMLModel",
          "model_module_version": "1.5.0",
          "state": {
            "_dom_classes": [],
            "_model_module": "@jupyter-widgets/controls",
            "_model_module_version": "1.5.0",
            "_model_name": "HTMLModel",
            "_view_count": null,
            "_view_module": "@jupyter-widgets/controls",
            "_view_module_version": "1.5.0",
            "_view_name": "HTMLView",
            "description": "",
            "description_tooltip": null,
            "layout": "IPY_MODEL_6f7f6efccf304c238dd20460beda4730",
            "placeholder": "​",
            "style": "IPY_MODEL_6ce6bbddb9b64e24bd4b388e6d09c658",
            "value": "Generating test split:  46%"
          }
        },
        "505be3c7643e436b96148ee3fcb1a4c9": {
          "model_module": "@jupyter-widgets/controls",
          "model_name": "FloatProgressModel",
          "model_module_version": "1.5.0",
          "state": {
            "_dom_classes": [],
            "_model_module": "@jupyter-widgets/controls",
            "_model_module_version": "1.5.0",
            "_model_name": "FloatProgressModel",
            "_view_count": null,
            "_view_module": "@jupyter-widgets/controls",
            "_view_module_version": "1.5.0",
            "_view_name": "ProgressView",
            "bar_style": "",
            "description": "",
            "description_tooltip": null,
            "layout": "IPY_MODEL_8b7028e9fbb749f49130282a2398d30b",
            "max": 1821,
            "min": 0,
            "orientation": "horizontal",
            "style": "IPY_MODEL_0eeb20cc03d348d38eb1afd1865da38e",
            "value": 1821
          }
        },
        "ccdc005682ec4621a92c30a4a8acca60": {
          "model_module": "@jupyter-widgets/controls",
          "model_name": "HTMLModel",
          "model_module_version": "1.5.0",
          "state": {
            "_dom_classes": [],
            "_model_module": "@jupyter-widgets/controls",
            "_model_module_version": "1.5.0",
            "_model_name": "HTMLModel",
            "_view_count": null,
            "_view_module": "@jupyter-widgets/controls",
            "_view_module_version": "1.5.0",
            "_view_name": "HTMLView",
            "description": "",
            "description_tooltip": null,
            "layout": "IPY_MODEL_a1d182485f454b6280295bfaad41a78f",
            "placeholder": "​",
            "style": "IPY_MODEL_0bcc1a0b331b4c28a9ed3c2e9a1b0e08",
            "value": " 830/1821 [00:00&lt;00:00, 4271.04 examples/s]"
          }
        },
        "4bdce984358d415e8cbf24b65cdf71fb": {
          "model_module": "@jupyter-widgets/base",
          "model_name": "LayoutModel",
          "model_module_version": "1.2.0",
          "state": {
            "_model_module": "@jupyter-widgets/base",
            "_model_module_version": "1.2.0",
            "_model_name": "LayoutModel",
            "_view_count": null,
            "_view_module": "@jupyter-widgets/base",
            "_view_module_version": "1.2.0",
            "_view_name": "LayoutView",
            "align_content": null,
            "align_items": null,
            "align_self": null,
            "border": null,
            "bottom": null,
            "display": null,
            "flex": null,
            "flex_flow": null,
            "grid_area": null,
            "grid_auto_columns": null,
            "grid_auto_flow": null,
            "grid_auto_rows": null,
            "grid_column": null,
            "grid_gap": null,
            "grid_row": null,
            "grid_template_areas": null,
            "grid_template_columns": null,
            "grid_template_rows": null,
            "height": null,
            "justify_content": null,
            "justify_items": null,
            "left": null,
            "margin": null,
            "max_height": null,
            "max_width": null,
            "min_height": null,
            "min_width": null,
            "object_fit": null,
            "object_position": null,
            "order": null,
            "overflow": null,
            "overflow_x": null,
            "overflow_y": null,
            "padding": null,
            "right": null,
            "top": null,
            "visibility": null,
            "width": null
          }
        },
        "6f7f6efccf304c238dd20460beda4730": {
          "model_module": "@jupyter-widgets/base",
          "model_name": "LayoutModel",
          "model_module_version": "1.2.0",
          "state": {
            "_model_module": "@jupyter-widgets/base",
            "_model_module_version": "1.2.0",
            "_model_name": "LayoutModel",
            "_view_count": null,
            "_view_module": "@jupyter-widgets/base",
            "_view_module_version": "1.2.0",
            "_view_name": "LayoutView",
            "align_content": null,
            "align_items": null,
            "align_self": null,
            "border": null,
            "bottom": null,
            "display": null,
            "flex": null,
            "flex_flow": null,
            "grid_area": null,
            "grid_auto_columns": null,
            "grid_auto_flow": null,
            "grid_auto_rows": null,
            "grid_column": null,
            "grid_gap": null,
            "grid_row": null,
            "grid_template_areas": null,
            "grid_template_columns": null,
            "grid_template_rows": null,
            "height": null,
            "justify_content": null,
            "justify_items": null,
            "left": null,
            "margin": null,
            "max_height": null,
            "max_width": null,
            "min_height": null,
            "min_width": null,
            "object_fit": null,
            "object_position": null,
            "order": null,
            "overflow": null,
            "overflow_x": null,
            "overflow_y": null,
            "padding": null,
            "right": null,
            "top": null,
            "visibility": null,
            "width": null
          }
        },
        "6ce6bbddb9b64e24bd4b388e6d09c658": {
          "model_module": "@jupyter-widgets/controls",
          "model_name": "DescriptionStyleModel",
          "model_module_version": "1.5.0",
          "state": {
            "_model_module": "@jupyter-widgets/controls",
            "_model_module_version": "1.5.0",
            "_model_name": "DescriptionStyleModel",
            "_view_count": null,
            "_view_module": "@jupyter-widgets/base",
            "_view_module_version": "1.2.0",
            "_view_name": "StyleView",
            "description_width": ""
          }
        },
        "8b7028e9fbb749f49130282a2398d30b": {
          "model_module": "@jupyter-widgets/base",
          "model_name": "LayoutModel",
          "model_module_version": "1.2.0",
          "state": {
            "_model_module": "@jupyter-widgets/base",
            "_model_module_version": "1.2.0",
            "_model_name": "LayoutModel",
            "_view_count": null,
            "_view_module": "@jupyter-widgets/base",
            "_view_module_version": "1.2.0",
            "_view_name": "LayoutView",
            "align_content": null,
            "align_items": null,
            "align_self": null,
            "border": null,
            "bottom": null,
            "display": null,
            "flex": null,
            "flex_flow": null,
            "grid_area": null,
            "grid_auto_columns": null,
            "grid_auto_flow": null,
            "grid_auto_rows": null,
            "grid_column": null,
            "grid_gap": null,
            "grid_row": null,
            "grid_template_areas": null,
            "grid_template_columns": null,
            "grid_template_rows": null,
            "height": null,
            "justify_content": null,
            "justify_items": null,
            "left": null,
            "margin": null,
            "max_height": null,
            "max_width": null,
            "min_height": null,
            "min_width": null,
            "object_fit": null,
            "object_position": null,
            "order": null,
            "overflow": null,
            "overflow_x": null,
            "overflow_y": null,
            "padding": null,
            "right": null,
            "top": null,
            "visibility": null,
            "width": null
          }
        },
        "0eeb20cc03d348d38eb1afd1865da38e": {
          "model_module": "@jupyter-widgets/controls",
          "model_name": "ProgressStyleModel",
          "model_module_version": "1.5.0",
          "state": {
            "_model_module": "@jupyter-widgets/controls",
            "_model_module_version": "1.5.0",
            "_model_name": "ProgressStyleModel",
            "_view_count": null,
            "_view_module": "@jupyter-widgets/base",
            "_view_module_version": "1.2.0",
            "_view_name": "StyleView",
            "bar_color": null,
            "description_width": ""
          }
        },
        "a1d182485f454b6280295bfaad41a78f": {
          "model_module": "@jupyter-widgets/base",
          "model_name": "LayoutModel",
          "model_module_version": "1.2.0",
          "state": {
            "_model_module": "@jupyter-widgets/base",
            "_model_module_version": "1.2.0",
            "_model_name": "LayoutModel",
            "_view_count": null,
            "_view_module": "@jupyter-widgets/base",
            "_view_module_version": "1.2.0",
            "_view_name": "LayoutView",
            "align_content": null,
            "align_items": null,
            "align_self": null,
            "border": null,
            "bottom": null,
            "display": null,
            "flex": null,
            "flex_flow": null,
            "grid_area": null,
            "grid_auto_columns": null,
            "grid_auto_flow": null,
            "grid_auto_rows": null,
            "grid_column": null,
            "grid_gap": null,
            "grid_row": null,
            "grid_template_areas": null,
            "grid_template_columns": null,
            "grid_template_rows": null,
            "height": null,
            "justify_content": null,
            "justify_items": null,
            "left": null,
            "margin": null,
            "max_height": null,
            "max_width": null,
            "min_height": null,
            "min_width": null,
            "object_fit": null,
            "object_position": null,
            "order": null,
            "overflow": null,
            "overflow_x": null,
            "overflow_y": null,
            "padding": null,
            "right": null,
            "top": null,
            "visibility": null,
            "width": null
          }
        },
        "0bcc1a0b331b4c28a9ed3c2e9a1b0e08": {
          "model_module": "@jupyter-widgets/controls",
          "model_name": "DescriptionStyleModel",
          "model_module_version": "1.5.0",
          "state": {
            "_model_module": "@jupyter-widgets/controls",
            "_model_module_version": "1.5.0",
            "_model_name": "DescriptionStyleModel",
            "_view_count": null,
            "_view_module": "@jupyter-widgets/base",
            "_view_module_version": "1.2.0",
            "_view_name": "StyleView",
            "description_width": ""
          }
        },
        "1f08b104e3754790874a35327e0202f2": {
          "model_module": "@jupyter-widgets/controls",
          "model_name": "HBoxModel",
          "model_module_version": "1.5.0",
          "state": {
            "_dom_classes": [],
            "_model_module": "@jupyter-widgets/controls",
            "_model_module_version": "1.5.0",
            "_model_name": "HBoxModel",
            "_view_count": null,
            "_view_module": "@jupyter-widgets/controls",
            "_view_module_version": "1.5.0",
            "_view_name": "HBoxView",
            "box_style": "",
            "children": [
              "IPY_MODEL_efc442e7c4434257a1a5fa2c99128c43",
              "IPY_MODEL_29cd4cf608d349bd9dbccd1c623bdf77",
              "IPY_MODEL_1e44a2b51a464194a7a375b0743cb91a"
            ],
            "layout": "IPY_MODEL_003fd54e8b1d4ae69b57e5f340e67f83"
          }
        },
        "efc442e7c4434257a1a5fa2c99128c43": {
          "model_module": "@jupyter-widgets/controls",
          "model_name": "HTMLModel",
          "model_module_version": "1.5.0",
          "state": {
            "_dom_classes": [],
            "_model_module": "@jupyter-widgets/controls",
            "_model_module_version": "1.5.0",
            "_model_name": "HTMLModel",
            "_view_count": null,
            "_view_module": "@jupyter-widgets/controls",
            "_view_module_version": "1.5.0",
            "_view_name": "HTMLView",
            "description": "",
            "description_tooltip": null,
            "layout": "IPY_MODEL_d750d67c0d5a4e248f41673dc044c576",
            "placeholder": "​",
            "style": "IPY_MODEL_fc5e1fb5bd2d4331b0e72b86e248faa3",
            "value": "100%"
          }
        },
        "29cd4cf608d349bd9dbccd1c623bdf77": {
          "model_module": "@jupyter-widgets/controls",
          "model_name": "FloatProgressModel",
          "model_module_version": "1.5.0",
          "state": {
            "_dom_classes": [],
            "_model_module": "@jupyter-widgets/controls",
            "_model_module_version": "1.5.0",
            "_model_name": "FloatProgressModel",
            "_view_count": null,
            "_view_module": "@jupyter-widgets/controls",
            "_view_module_version": "1.5.0",
            "_view_name": "ProgressView",
            "bar_style": "success",
            "description": "",
            "description_tooltip": null,
            "layout": "IPY_MODEL_cb272cd84aba4c2ebf6c75ba958c3118",
            "max": 3,
            "min": 0,
            "orientation": "horizontal",
            "style": "IPY_MODEL_26e97222ef0644ceb131e52614a0c1c8",
            "value": 3
          }
        },
        "1e44a2b51a464194a7a375b0743cb91a": {
          "model_module": "@jupyter-widgets/controls",
          "model_name": "HTMLModel",
          "model_module_version": "1.5.0",
          "state": {
            "_dom_classes": [],
            "_model_module": "@jupyter-widgets/controls",
            "_model_module_version": "1.5.0",
            "_model_name": "HTMLModel",
            "_view_count": null,
            "_view_module": "@jupyter-widgets/controls",
            "_view_module_version": "1.5.0",
            "_view_name": "HTMLView",
            "description": "",
            "description_tooltip": null,
            "layout": "IPY_MODEL_b9b6a7b80d7546f897ac06a075826557",
            "placeholder": "​",
            "style": "IPY_MODEL_6539bef0645c4bb4a07e956ac291e2e8",
            "value": " 3/3 [00:00&lt;00:00,  8.83it/s]"
          }
        },
        "003fd54e8b1d4ae69b57e5f340e67f83": {
          "model_module": "@jupyter-widgets/base",
          "model_name": "LayoutModel",
          "model_module_version": "1.2.0",
          "state": {
            "_model_module": "@jupyter-widgets/base",
            "_model_module_version": "1.2.0",
            "_model_name": "LayoutModel",
            "_view_count": null,
            "_view_module": "@jupyter-widgets/base",
            "_view_module_version": "1.2.0",
            "_view_name": "LayoutView",
            "align_content": null,
            "align_items": null,
            "align_self": null,
            "border": null,
            "bottom": null,
            "display": null,
            "flex": null,
            "flex_flow": null,
            "grid_area": null,
            "grid_auto_columns": null,
            "grid_auto_flow": null,
            "grid_auto_rows": null,
            "grid_column": null,
            "grid_gap": null,
            "grid_row": null,
            "grid_template_areas": null,
            "grid_template_columns": null,
            "grid_template_rows": null,
            "height": null,
            "justify_content": null,
            "justify_items": null,
            "left": null,
            "margin": null,
            "max_height": null,
            "max_width": null,
            "min_height": null,
            "min_width": null,
            "object_fit": null,
            "object_position": null,
            "order": null,
            "overflow": null,
            "overflow_x": null,
            "overflow_y": null,
            "padding": null,
            "right": null,
            "top": null,
            "visibility": null,
            "width": null
          }
        },
        "d750d67c0d5a4e248f41673dc044c576": {
          "model_module": "@jupyter-widgets/base",
          "model_name": "LayoutModel",
          "model_module_version": "1.2.0",
          "state": {
            "_model_module": "@jupyter-widgets/base",
            "_model_module_version": "1.2.0",
            "_model_name": "LayoutModel",
            "_view_count": null,
            "_view_module": "@jupyter-widgets/base",
            "_view_module_version": "1.2.0",
            "_view_name": "LayoutView",
            "align_content": null,
            "align_items": null,
            "align_self": null,
            "border": null,
            "bottom": null,
            "display": null,
            "flex": null,
            "flex_flow": null,
            "grid_area": null,
            "grid_auto_columns": null,
            "grid_auto_flow": null,
            "grid_auto_rows": null,
            "grid_column": null,
            "grid_gap": null,
            "grid_row": null,
            "grid_template_areas": null,
            "grid_template_columns": null,
            "grid_template_rows": null,
            "height": null,
            "justify_content": null,
            "justify_items": null,
            "left": null,
            "margin": null,
            "max_height": null,
            "max_width": null,
            "min_height": null,
            "min_width": null,
            "object_fit": null,
            "object_position": null,
            "order": null,
            "overflow": null,
            "overflow_x": null,
            "overflow_y": null,
            "padding": null,
            "right": null,
            "top": null,
            "visibility": null,
            "width": null
          }
        },
        "fc5e1fb5bd2d4331b0e72b86e248faa3": {
          "model_module": "@jupyter-widgets/controls",
          "model_name": "DescriptionStyleModel",
          "model_module_version": "1.5.0",
          "state": {
            "_model_module": "@jupyter-widgets/controls",
            "_model_module_version": "1.5.0",
            "_model_name": "DescriptionStyleModel",
            "_view_count": null,
            "_view_module": "@jupyter-widgets/base",
            "_view_module_version": "1.2.0",
            "_view_name": "StyleView",
            "description_width": ""
          }
        },
        "cb272cd84aba4c2ebf6c75ba958c3118": {
          "model_module": "@jupyter-widgets/base",
          "model_name": "LayoutModel",
          "model_module_version": "1.2.0",
          "state": {
            "_model_module": "@jupyter-widgets/base",
            "_model_module_version": "1.2.0",
            "_model_name": "LayoutModel",
            "_view_count": null,
            "_view_module": "@jupyter-widgets/base",
            "_view_module_version": "1.2.0",
            "_view_name": "LayoutView",
            "align_content": null,
            "align_items": null,
            "align_self": null,
            "border": null,
            "bottom": null,
            "display": null,
            "flex": null,
            "flex_flow": null,
            "grid_area": null,
            "grid_auto_columns": null,
            "grid_auto_flow": null,
            "grid_auto_rows": null,
            "grid_column": null,
            "grid_gap": null,
            "grid_row": null,
            "grid_template_areas": null,
            "grid_template_columns": null,
            "grid_template_rows": null,
            "height": null,
            "justify_content": null,
            "justify_items": null,
            "left": null,
            "margin": null,
            "max_height": null,
            "max_width": null,
            "min_height": null,
            "min_width": null,
            "object_fit": null,
            "object_position": null,
            "order": null,
            "overflow": null,
            "overflow_x": null,
            "overflow_y": null,
            "padding": null,
            "right": null,
            "top": null,
            "visibility": null,
            "width": null
          }
        },
        "26e97222ef0644ceb131e52614a0c1c8": {
          "model_module": "@jupyter-widgets/controls",
          "model_name": "ProgressStyleModel",
          "model_module_version": "1.5.0",
          "state": {
            "_model_module": "@jupyter-widgets/controls",
            "_model_module_version": "1.5.0",
            "_model_name": "ProgressStyleModel",
            "_view_count": null,
            "_view_module": "@jupyter-widgets/base",
            "_view_module_version": "1.2.0",
            "_view_name": "StyleView",
            "bar_color": null,
            "description_width": ""
          }
        },
        "b9b6a7b80d7546f897ac06a075826557": {
          "model_module": "@jupyter-widgets/base",
          "model_name": "LayoutModel",
          "model_module_version": "1.2.0",
          "state": {
            "_model_module": "@jupyter-widgets/base",
            "_model_module_version": "1.2.0",
            "_model_name": "LayoutModel",
            "_view_count": null,
            "_view_module": "@jupyter-widgets/base",
            "_view_module_version": "1.2.0",
            "_view_name": "LayoutView",
            "align_content": null,
            "align_items": null,
            "align_self": null,
            "border": null,
            "bottom": null,
            "display": null,
            "flex": null,
            "flex_flow": null,
            "grid_area": null,
            "grid_auto_columns": null,
            "grid_auto_flow": null,
            "grid_auto_rows": null,
            "grid_column": null,
            "grid_gap": null,
            "grid_row": null,
            "grid_template_areas": null,
            "grid_template_columns": null,
            "grid_template_rows": null,
            "height": null,
            "justify_content": null,
            "justify_items": null,
            "left": null,
            "margin": null,
            "max_height": null,
            "max_width": null,
            "min_height": null,
            "min_width": null,
            "object_fit": null,
            "object_position": null,
            "order": null,
            "overflow": null,
            "overflow_x": null,
            "overflow_y": null,
            "padding": null,
            "right": null,
            "top": null,
            "visibility": null,
            "width": null
          }
        },
        "6539bef0645c4bb4a07e956ac291e2e8": {
          "model_module": "@jupyter-widgets/controls",
          "model_name": "DescriptionStyleModel",
          "model_module_version": "1.5.0",
          "state": {
            "_model_module": "@jupyter-widgets/controls",
            "_model_module_version": "1.5.0",
            "_model_name": "DescriptionStyleModel",
            "_view_count": null,
            "_view_module": "@jupyter-widgets/base",
            "_view_module_version": "1.2.0",
            "_view_name": "StyleView",
            "description_width": ""
          }
        }
      }
    }
  },
  "cells": [
    {
      "cell_type": "markdown",
      "source": [
        "---\n",
        "# Student Info & Imports"
      ],
      "metadata": {
        "id": "bCDHqdwb74dq"
      }
    },
    {
      "cell_type": "markdown",
      "source": [
        "Student info: Nadav Kahlon, ID: 213438575"
      ],
      "metadata": {
        "id": "_OBt_OcE77NY"
      }
    },
    {
      "cell_type": "code",
      "source": [
        "pip install datasets"
      ],
      "metadata": {
        "colab": {
          "base_uri": "https://localhost:8080/"
        },
        "id": "WQsJ8qgDdEOj",
        "outputId": "9d402335-394a-4b27-98f7-4b7bce3d0c6d"
      },
      "execution_count": null,
      "outputs": [
        {
          "output_type": "stream",
          "name": "stdout",
          "text": [
            "Looking in indexes: https://pypi.org/simple, https://us-python.pkg.dev/colab-wheels/public/simple/\n",
            "Requirement already satisfied: datasets in /usr/local/lib/python3.7/dist-packages (2.2.2)\n",
            "Requirement already satisfied: responses<0.19 in /usr/local/lib/python3.7/dist-packages (from datasets) (0.18.0)\n",
            "Requirement already satisfied: multiprocess in /usr/local/lib/python3.7/dist-packages (from datasets) (0.70.12.2)\n",
            "Requirement already satisfied: aiohttp in /usr/local/lib/python3.7/dist-packages (from datasets) (3.8.1)\n",
            "Requirement already satisfied: pyarrow>=6.0.0 in /usr/local/lib/python3.7/dist-packages (from datasets) (6.0.1)\n",
            "Requirement already satisfied: tqdm>=4.62.1 in /usr/local/lib/python3.7/dist-packages (from datasets) (4.64.0)\n",
            "Requirement already satisfied: requests>=2.19.0 in /usr/local/lib/python3.7/dist-packages (from datasets) (2.23.0)\n",
            "Requirement already satisfied: fsspec[http]>=2021.05.0 in /usr/local/lib/python3.7/dist-packages (from datasets) (2022.5.0)\n",
            "Requirement already satisfied: packaging in /usr/local/lib/python3.7/dist-packages (from datasets) (21.3)\n",
            "Requirement already satisfied: dill<0.3.5 in /usr/local/lib/python3.7/dist-packages (from datasets) (0.3.4)\n",
            "Requirement already satisfied: xxhash in /usr/local/lib/python3.7/dist-packages (from datasets) (3.0.0)\n",
            "Requirement already satisfied: huggingface-hub<1.0.0,>=0.1.0 in /usr/local/lib/python3.7/dist-packages (from datasets) (0.7.0)\n",
            "Requirement already satisfied: pandas in /usr/local/lib/python3.7/dist-packages (from datasets) (1.3.5)\n",
            "Requirement already satisfied: importlib-metadata in /usr/local/lib/python3.7/dist-packages (from datasets) (4.11.3)\n",
            "Requirement already satisfied: numpy>=1.17 in /usr/local/lib/python3.7/dist-packages (from datasets) (1.21.6)\n",
            "Requirement already satisfied: typing-extensions>=3.7.4.3 in /usr/local/lib/python3.7/dist-packages (from huggingface-hub<1.0.0,>=0.1.0->datasets) (4.2.0)\n",
            "Requirement already satisfied: pyyaml>=5.1 in /usr/local/lib/python3.7/dist-packages (from huggingface-hub<1.0.0,>=0.1.0->datasets) (6.0)\n",
            "Requirement already satisfied: filelock in /usr/local/lib/python3.7/dist-packages (from huggingface-hub<1.0.0,>=0.1.0->datasets) (3.7.0)\n",
            "Requirement already satisfied: pyparsing!=3.0.5,>=2.0.2 in /usr/local/lib/python3.7/dist-packages (from packaging->datasets) (3.0.9)\n",
            "Requirement already satisfied: certifi>=2017.4.17 in /usr/local/lib/python3.7/dist-packages (from requests>=2.19.0->datasets) (2022.5.18.1)\n",
            "Requirement already satisfied: chardet<4,>=3.0.2 in /usr/local/lib/python3.7/dist-packages (from requests>=2.19.0->datasets) (3.0.4)\n",
            "Requirement already satisfied: idna<3,>=2.5 in /usr/local/lib/python3.7/dist-packages (from requests>=2.19.0->datasets) (2.10)\n",
            "Requirement already satisfied: urllib3!=1.25.0,!=1.25.1,<1.26,>=1.21.1 in /usr/local/lib/python3.7/dist-packages (from requests>=2.19.0->datasets) (1.25.11)\n",
            "Requirement already satisfied: frozenlist>=1.1.1 in /usr/local/lib/python3.7/dist-packages (from aiohttp->datasets) (1.3.0)\n",
            "Requirement already satisfied: charset-normalizer<3.0,>=2.0 in /usr/local/lib/python3.7/dist-packages (from aiohttp->datasets) (2.0.12)\n",
            "Requirement already satisfied: yarl<2.0,>=1.0 in /usr/local/lib/python3.7/dist-packages (from aiohttp->datasets) (1.7.2)\n",
            "Requirement already satisfied: asynctest==0.13.0 in /usr/local/lib/python3.7/dist-packages (from aiohttp->datasets) (0.13.0)\n",
            "Requirement already satisfied: multidict<7.0,>=4.5 in /usr/local/lib/python3.7/dist-packages (from aiohttp->datasets) (6.0.2)\n",
            "Requirement already satisfied: async-timeout<5.0,>=4.0.0a3 in /usr/local/lib/python3.7/dist-packages (from aiohttp->datasets) (4.0.2)\n",
            "Requirement already satisfied: aiosignal>=1.1.2 in /usr/local/lib/python3.7/dist-packages (from aiohttp->datasets) (1.2.0)\n",
            "Requirement already satisfied: attrs>=17.3.0 in /usr/local/lib/python3.7/dist-packages (from aiohttp->datasets) (21.4.0)\n",
            "Requirement already satisfied: zipp>=0.5 in /usr/local/lib/python3.7/dist-packages (from importlib-metadata->datasets) (3.8.0)\n",
            "Requirement already satisfied: pytz>=2017.3 in /usr/local/lib/python3.7/dist-packages (from pandas->datasets) (2022.1)\n",
            "Requirement already satisfied: python-dateutil>=2.7.3 in /usr/local/lib/python3.7/dist-packages (from pandas->datasets) (2.8.2)\n",
            "Requirement already satisfied: six>=1.5 in /usr/local/lib/python3.7/dist-packages (from python-dateutil>=2.7.3->pandas->datasets) (1.15.0)\n"
          ]
        }
      ]
    },
    {
      "cell_type": "code",
      "execution_count": null,
      "metadata": {
        "id": "F_y7w1G_5Yq_",
        "colab": {
          "base_uri": "https://localhost:8080/"
        },
        "outputId": "17b7590e-4e8a-492f-da41-31dab147b13a"
      },
      "outputs": [
        {
          "output_type": "stream",
          "name": "stdout",
          "text": [
            "Using device: cuda:0\n"
          ]
        }
      ],
      "source": [
        "# import necessary packages\n",
        "import torch\n",
        "import torchvision\n",
        "import datasets as ds\n",
        "from torch import nn\n",
        "from torchtext.data import get_tokenizer\n",
        "from torchtext.vocab import build_vocab_from_iterator\n",
        "from matplotlib import pyplot as plt\n",
        "from tqdm import tqdm\n",
        "from collections import OrderedDict\n",
        "from torch.utils.data import Dataset, DataLoader\n",
        "from torch.nn import functional as F\n",
        "\n",
        "# set manual seed for PyTorch (for reproducible results)\n",
        "torch.manual_seed(0)\n",
        "\n",
        "# Get available device, preferably GPU\n",
        "if torch.cuda.is_available():\n",
        "    device = torch.device('cuda:0')\n",
        "else:\n",
        "    device = torch.device('cpu')\n",
        "print('Using device:', device)"
      ]
    },
    {
      "cell_type": "markdown",
      "source": [
        "---\n",
        "# Question 2 - An RNN Cell With a \"Reset\" Gate\n",
        "In this question we design and implement an RNN cell, acting as a simple Elman cell with an additional \"reset\" gate. We use instances of it to create a classification network, and overfit it on a small subset of the SST2 dataset to ensure that it can learn to process sequential data correctly."
      ],
      "metadata": {
        "id": "1wBvDkKh8KhH"
      }
    },
    {
      "cell_type": "markdown",
      "source": [
        "## Overview of the Cell"
      ],
      "metadata": {
        "id": "jkV5yeJA-gT4"
      }
    },
    {
      "cell_type": "markdown",
      "source": [
        "The cell we will implement in this question maintains a single hidden-state passed through time, and updated according to a simple policy that allows the cell to \"forget\" parts of its state as it's passed to the next time unit.\n",
        "\n",
        "Let's make a few notations first:\n",
        "* Let $n_{in}$ be the the cell's input dimension.\n",
        "* Let $n_{h}$ be the cell's hidden-state dimension.\n",
        "* Let $x_t \\in R^{n_{in}}$ be the cell's input at time $t$.\n",
        "* Let $h_t \\in R^{n_h}$ be the cell's hidden state at time $t$.\n",
        "\n",
        "The cell calculates the value of its next hidden state in the following manner:\n",
        "\n",
        "- First, it calculates a \"candidate\" hidden-state in the same way it's calculated in a simple Elman cell:\n",
        "\n",
        "  $\\hat{h_{t+1}}=\\tanh(W_{hx}x_t+W_{hh}h_t+b_h)$\n",
        "  \n",
        "   Where:\n",
        "  * $W_{hx} \\in R^{n_h\\times n_{in}}$ is a learned weight matrix which associates the cell's current input with its next hidden-state.\n",
        "  * $W_{hh} \\in R^{n_h\\times n_h}$ is a learned weight matrix which associates the current hidden-state with the next hidden-state.\n",
        "  * $b_h \\in R^{n_h}$ is a learned bias vector.\n",
        "\n",
        "* Then, it determines what in its hidden-state it should \"forget\" by calculating the *reset gate vecotr* $r_t\\in R^{n_h}$ as follows:\n",
        "\n",
        "  $r_{t+1} = \\sigma(W_{rx}x_t + W_{rh}h_t + b_r)$\n",
        "\n",
        "  Where:\n",
        "  * $W_{rx}\\in R^{n_h\\times n_{in}}$ is a learned weight matrix which associates the reset operation with the cell's current input.\n",
        "  * $W_{rh}\\in R^{n_h\\times n_h}$ is a learned weight matrix which associates the reset operation with the cell's current hidden-state.\n",
        "  * $b_r\\in R^{n_h}$ is a learned bias vector.\n",
        "  * $\\sigma$ is the sigmoid function, which maps the entire real-axis to the range between 0 and 1.\n",
        "\n",
        "* Finally, it resets parts of the candidate hidden-state by multiplying it (component-wise) with the reset gate vector, and produces the cell's next hidden-state:\n",
        "\n",
        "  $ h_{t+1} = \\hat{h_{t+1}} \\cdot r_{t+1}$\n",
        "\n",
        "The following diagram sums-up the cell's behaviour:\n",
        "![Blank diagram (1).png](data:image/png;base64,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)"
      ],
      "metadata": {
        "id": "90THJFKn-0NZ"
      }
    },
    {
      "cell_type": "markdown",
      "source": [
        "## The Motivation Behind the Design of the Reset-Gate"
      ],
      "metadata": {
        "id": "d9d-ZcD6XgXq"
      }
    },
    {
      "cell_type": "markdown",
      "source": [
        "The idea of the reset gate is to allow the cell to *decide* what parts of its hidden state it should \"forget\", or more precisely - remove. Removing some of the latent information stored in the hidden-state vector can easily be done by setting some of its elements to 0 (discarding any information that was associated with them), or alternatively - multiplying them by a factor of 0. To make this process a bit more homogeneous, let's say that we will also multiply the other elements, just by a factor of 1 (so actually we won't change them at all - we'll \"remember\" the information they possess for next time). This whole process can be summed up by element-wise multiplication of the hidden state by a vector of zeros (the elemtent we discard) and ones (the elements we keep) - which we will call *the reset gate vector $r_t$*.\n",
        "\n",
        "However, just picking a discrete vector of zeros and ones is not a differentiable process - and thus its parameters cannot be learned using gradiant-based optimization methods. Therefore, we look for a differentiable continuous alternative. The alternative I chose is inspired by the way we swithced from thinking in terms of binary classification - whose equivilant in this case is picking the 0 / 1 factor, to thinking in terms of logistic regression - which looks for a close continuous value between 0.0 and 1.0.\n",
        "\n",
        "The idea is to let the cell produce a vector of values between 0.0 and 1.0 which will serve as the reset gate vector, and will be element-wise multiplied by the hidden-state. If it produces an element close to 0.0 - the efect is that the information associated with the corresponding hidden-state element will be discarded, and if it's close to 1.0 - it's keeped. It may also produce  values such as 0.5 - which will have the effect of keeping the information with \"reduced influence\".\n",
        "\n",
        "As required, the reset-gate vector elements will only depend on the input to the cell at time $t$ - on the real vectors $x_t$ and $h_t$. The classic linear way to produce continuous values between 0.0 and 1.0 is logistic regression: a learned linear regressor producing a real number, followed by sigmoid activation that maps it to a value between 0.0 and 1.0. And just as the extremely powerfull deep MLP is based on simple linear models - we might as well use a simple linear model here.\n",
        "\n",
        "All in all, what we'll add to the simple Elman cell is a unit that uses $n_h$ learned linear (actually affine) combinations of $x_t$ and $h_t$ followed by sigmoid activations, to produce a vector of $n_h$ real numbers between 0.0 and 1.0. This vector will then be element-wise multiplied by the candidate hidden-state the simple Elman part produced, and the result will be the new hidden state.\n",
        "\n",
        "This is actually a well known method for discarding / keeping parts of a cell's state, that proved to be very successful as it's incorporated in the powerful LSTM and GRU units. Those units were my first source of inspiration."
      ],
      "metadata": {
        "id": "mP8pYbzDXy17"
      }
    },
    {
      "cell_type": "markdown",
      "source": [
        "## More Design Choices"
      ],
      "metadata": {
        "id": "7VMjqWr0jur6"
      }
    },
    {
      "cell_type": "markdown",
      "source": [
        "In this cell I delve into more design choices I incorporated into the cell.\n",
        "\n",
        "* To tackle the issue of producing the initial hidden state $h_0\\in R^{n_h}$ (the hidden state of the cell before the first element of the sequence, $x_1$, is processed), I decided to make it a learned parameter. The inspiration for this choice was the way we, humans, process sequential data. We don't start from absolute scratch (from some \"zero / random vector\") - we start from a general initial knowledge we decided on after learning about our world. It only makes sense for the cell to decide what will work best for him, after learning about the nature of the training data. [This post](https://r2rt.com/non-zero-initial-states-for-recurrent-neural-networks.html) also supports this approach in its experimental results.\n",
        "\n",
        "* About parameter initialization:\n",
        "\n",
        "  * Weights: each weight is part of a linear unit, producing $n_h$ output neurons ($n_h$ elements of $\\hat{h_t}$ or $r_t$) from $n_{in} + n_h$ input neurons (the $n_{in}$ elements of $x_t$ and the $n_h$ elements of $h_t$). Using [Xavier's initialization method](https://d2l.ai/chapter_multilayer-perceptrons/numerical-stability-and-init.html#xavier-initialization) (which I absolutely milked in my last 3 assignments :D), I decided to draw the weights from the uniform distriburion between $-l$ and $+l$, for $ l=\\sqrt{\\frac{6}{(n_{in}+n_h) + n_h}} $.\n",
        "\n",
        "  * Biases: unfortunately, we haven't had a chance to study bias initialization in this course, so I did some research online. Most sources (such as Stanford's CS231n [lecture notes](https://cs231n.github.io/neural-networks-2/)) suggested to initialize biases of linear layers (through which information flows) to 0.0. Also, some resources specifically related to LSTM and GRUs (such as [these slides](https://www.cse.iitd.ac.in/~mausam/courses/col772/spring2018/lectures/12-tricks.pdf) of the Indian Institute of Technology and [this post](https://danijar.com/tips-for-training-recurrent-neural-networks/)) suggested to initialize the biases of the forget part of an LSTM to 1.0, to remeber more information by default; this intuition can be applied to our cell too. The former approach seemed reasonable for the candidate hidden-state bias $b_h$, and latter approach seemed reasonable for the reset gate bias $b_r$.\n",
        "\n",
        "  * Initial hidden-state $h_0$: I couldn't really find anything about initializing the learned parameter $h_0$, so I just decided to use 0-initialization (as if the network has \"zero initial knowledge\" of the nature of the data before training)."
      ],
      "metadata": {
        "id": "8aIeRZ1wj-zh"
      }
    },
    {
      "cell_type": "markdown",
      "source": [
        "## Implementation of the Cell"
      ],
      "metadata": {
        "id": "YHisl2bXy3S5"
      }
    },
    {
      "cell_type": "code",
      "source": [
        "'''\n",
        "An RNN cell mimicking a simple Elman cell, with an additional reset gate.\n",
        "'''\n",
        "class ElmanResetCell(nn.Module):\n",
        "    '''\n",
        "    Constructor: creates a new ElmanReset RNN cell.\n",
        "    Input:\n",
        "      > 'n_in' - dimension of the input units to the cell.\n",
        "      > 'n_hidden' - dimension of the hidden state of the cell.\n",
        "    '''\n",
        "    def __init__(self, n_in, n_hidden):\n",
        "        # create the Module object\n",
        "        super().__init__()\n",
        "\n",
        "        # store dimensions\n",
        "        self.n_in = n_in\n",
        "        self.n_hidden = n_hidden\n",
        "\n",
        "        # set weight matrices\n",
        "        self.W_hx = nn.Parameter(torch.empty((n_hidden, n_in)))\n",
        "        self.W_hh = nn.Parameter(torch.empty((n_hidden, n_hidden)))\n",
        "        self.W_rx = nn.Parameter(torch.empty((n_hidden, n_in)))\n",
        "        self.W_rh = nn.Parameter(torch.empty((n_hidden, n_hidden)))\n",
        "\n",
        "        # initialize weights using Xavier's initialization (as described above)\n",
        "        weight_bound = (6 / (n_in + 2*n_hidden)) ** 0.5\n",
        "        nn.init.uniform_(self.W_hx, -weight_bound, +weight_bound)\n",
        "        nn.init.uniform_(self.W_hh, -weight_bound, +weight_bound)\n",
        "        nn.init.uniform_(self.W_rx, -weight_bound, +weight_bound)\n",
        "        nn.init.uniform_(self.W_rh, -weight_bound, +weight_bound)\n",
        "\n",
        "        # set bias vectors (as column vectors)\n",
        "        self.b_h = nn.Parameter(torch.zeros((n_hidden,1)))\n",
        "        self.b_r = nn.Parameter(torch.ones((n_hidden,1)))\n",
        "\n",
        "        # set initial hidden state\n",
        "        self.initial_h = nn.Parameter(torch.zeros(n_hidden))\n",
        "\n",
        "        # set current hidden state\n",
        "        self.h = None\n",
        "        self.reset_h()\n",
        "    \n",
        "    '''\n",
        "    Resets the hidden state of the cell to its initial value.\n",
        "    '''\n",
        "    def reset_h(self):\n",
        "        # clone self.initialHiddenState (so outsiders won't accidentally change it)\n",
        "        self.h = self.initial_h.clone()\n",
        "        self.h.retain_grad()\n",
        "    \n",
        "    '''\n",
        "    Forwards an input unit through the cell, updating its hidden state.\n",
        "    Input:\n",
        "      > 'x' - tensor of shape (n_in,) to forward through the cell\n",
        "    '''\n",
        "    def forward(self, x):\n",
        "        # reshape x and h so they're column vectors\n",
        "        x = x.reshape((-1, 1));\n",
        "        h = self.h.reshape((-1,1))\n",
        "        # calculate candidate hidden state and reset-gate vector\n",
        "        h_hat = torch.tanh(self.W_hx @ x + self.W_hh @ h + self.b_h)\n",
        "        r = torch.sigmoid(self.W_rx @ x + self.W_rh @ h + self.b_r)\n",
        "        # use them to calculate the next hidden state\n",
        "        self.h = (h_hat * r).reshape(-1)\n",
        "\n",
        "    '''\n",
        "    Returns a string containing information about the input and hidden dimensions\n",
        "      of the cell. The output is of the format 'n_in={n_in}, n_out={n_out}'.\n",
        "    '''\n",
        "    def extra_repr(self):\n",
        "        return f'n_in={self.n_in}, n_hidden={self.n_hidden}'\n",
        "    "
      ],
      "metadata": {
        "id": "nw8_2njI0Bzg"
      },
      "execution_count": null,
      "outputs": []
    },
    {
      "cell_type": "markdown",
      "source": [
        "## Incorporating the Cell in a Deep Sentence Classifier for SST2\n",
        "\n"
      ],
      "metadata": {
        "id": "Lsjfjm-AcUBq"
      }
    },
    {
      "cell_type": "markdown",
      "source": [
        "**Quick note:** since we train the model one sample at a time, parallel computation on GPU won't have much positive effect on the process (it may even harm it, since we will need to transfer the samples to GPU each time). Therefore, I decided to program the process to always run on the CPU (i.e., without \".to(device)\" calls)."
      ],
      "metadata": {
        "id": "PyM6G9HA3n3w"
      }
    },
    {
      "cell_type": "code",
      "source": [
        "''' In this cell we import and preprocess the SST2 dataset '''\n",
        "\n",
        "# load dataset\n",
        "dataset = ds.load_dataset('glue', 'sst2')\n",
        "sentences = dataset['train']['sentence']\n",
        "labels = dataset['train']['label']\n",
        "\n",
        "# create a tokenizer and tokenize data\n",
        "tokenizer = get_tokenizer('basic_english')\n",
        "tokenized_sentences = list(map(tokenizer, sentences))\n",
        "\n",
        "# build a vocabulary\n",
        "vocab = build_vocab_from_iterator(tokenized_sentences,\n",
        "                                  specials=[\"<UNK>\"], min_freq=5)\n",
        "vocab.set_default_index(0)\n",
        "\n",
        "# map sentences to tensor of token indices, and labels to tensors\n",
        "tokens_to_idxs = lambda tokens: torch.tensor(vocab(tokens))\n",
        "sentences_token_idxs = list(map(tokens_to_idxs, tokenized_sentences))\n",
        "labels = list(map(torch.tensor, labels))\n",
        "\n",
        "# split to train / test partitions based on some split ratio\n",
        "train_part = 0.2 # (20% train partition since we overfit on a small partition)\n",
        "train_split = round(train_part * len(sentences))\n",
        "train_tokens = sentences_token_idxs[:train_split]\n",
        "train_labels = labels[:train_split]\n",
        "test_tokens = sentences_token_idxs[train_split:]\n",
        "test_labels = labels[train_split:]"
      ],
      "metadata": {
        "colab": {
          "base_uri": "https://localhost:8080/",
          "height": 202,
          "referenced_widgets": [
            "dcb5d2484c1d4b608578fbfaf39adc6d",
            "3ba192dacec24a3fb20fa15b5a63e6b4",
            "1b5a14d6135646aa90f7f4ba06e05649",
            "92df3a6c5064433bbc11d2d9d426ec0e",
            "0d8e14b9bfbb4ad2b5db5c8ef02cefbe",
            "fe6eb9240ff7490ab756cfcae1102fb8",
            "0934f3b630df49af9dec6a30d7b8496b",
            "9e0a364683c14e889cc84181ae7ef1b0",
            "5e085d0ae4a4486199d001ae598dd2c1",
            "604a82fc00c44f839b036f3c7d4910a0",
            "ac5c40d471704d868d6169516d27920a",
            "b54eb3ca0cf6470fa28eed98f5171687",
            "2487f5bf45a14dccbe7a252abcfd0c20",
            "441099491b0e42feaa588ef9db9b99a6",
            "e64437763ea84ed6a304d1d35777f366",
            "d2ad2ad8b3fd41baa7018da38c01ddcb",
            "d3a1584d4176415eb988b11eb2130cd1",
            "9022bbb69df94954b869321897e46e2b",
            "fc24a029eb0f4f80a09ec84580a69694",
            "afeeccf705c24ee8afad5594658222ea",
            "0b681d2ddfba4c79a0bcb1a3af40ca88",
            "92846e7f4e6546afbb551db4a3bb8581",
            "e45ffdec3d8a4054acf61ba8a3d07aea",
            "986dbece4f404da4b0795f246884df80",
            "99c193102b1e45308c542932affb40e9",
            "680e49025ae24b3f807a3a69e7c41260",
            "be25815778654fab8d762c06e85a146b",
            "9c45378c7a2f40c9b4cbab263dec938b",
            "9d0b3bcbd51743a2a95ae747a427e648",
            "47f9c0bf0c0a44f49db84941da5ea1c7",
            "901e506745cf4851ba02ea9b35359807",
            "b8a395e8567f4a99803dfc455ac5b9f1",
            "69954b58645e4298a64618d1d7830f3a",
            "c724131eb3554b7bad9425b268bcb02b",
            "c5ead33f9d8c4f2187efe1a2511f2172",
            "e207a10a7ced41ac9eb40d6d470d6c7d",
            "57effb51f90c4b92b4042f47adff3b23",
            "1584789de2144925adb99e169c3094c2",
            "8cdb2671f2f04dcc84d7ed6d8928ef6a",
            "68e9121a830d454c8c875c63d5763930",
            "f9ed7c03e1884b49ad9d4a362d4b6221",
            "ebed298925804b91bd25fa513537547c",
            "980d6ae67be04ffe9482ee23423eb389",
            "b7fbdee93d3b409986a107f81585564c",
            "6c6241f83abe41d091cd94d321ed06fc",
            "10e8a501ad1a4d81bb61fccd5a4de22c",
            "1530c582d01e43be8e286d57a771512a",
            "5125db41776f469ba0812dca3a6485b4",
            "fb3f5acfd308443ca21fad54f98d64dd",
            "904d27a943794cb08a724aee355e473b",
            "bf7a61f6970d4bfc9d7b149e1f2845f5",
            "0ada03691c7c4d3fa6501b58d008a2f7",
            "42e7c61d98a34737a5edf5b0a44ad4b3",
            "2083e9ec2c314088a6a9a6f28d8e87ea",
            "36671fc772e545e1921cede189773585",
            "a957196fa970414591b53005291f3848",
            "4566e7c2d05e453e9f85439d663d9faa",
            "505be3c7643e436b96148ee3fcb1a4c9",
            "ccdc005682ec4621a92c30a4a8acca60",
            "4bdce984358d415e8cbf24b65cdf71fb",
            "6f7f6efccf304c238dd20460beda4730",
            "6ce6bbddb9b64e24bd4b388e6d09c658",
            "8b7028e9fbb749f49130282a2398d30b",
            "0eeb20cc03d348d38eb1afd1865da38e",
            "a1d182485f454b6280295bfaad41a78f",
            "0bcc1a0b331b4c28a9ed3c2e9a1b0e08",
            "1f08b104e3754790874a35327e0202f2",
            "efc442e7c4434257a1a5fa2c99128c43",
            "29cd4cf608d349bd9dbccd1c623bdf77",
            "1e44a2b51a464194a7a375b0743cb91a",
            "003fd54e8b1d4ae69b57e5f340e67f83",
            "d750d67c0d5a4e248f41673dc044c576",
            "fc5e1fb5bd2d4331b0e72b86e248faa3",
            "cb272cd84aba4c2ebf6c75ba958c3118",
            "26e97222ef0644ceb131e52614a0c1c8",
            "b9b6a7b80d7546f897ac06a075826557",
            "6539bef0645c4bb4a07e956ac291e2e8"
          ]
        },
        "id": "lo-T_mXNc7V4",
        "outputId": "d1c5f79c-9bcb-4090-d3d5-ca923a1fdb8f"
      },
      "execution_count": null,
      "outputs": [
        {
          "output_type": "display_data",
          "data": {
            "text/plain": [
              "Downloading builder script:   0%|          | 0.00/7.78k [00:00<?, ?B/s]"
            ],
            "application/vnd.jupyter.widget-view+json": {
              "version_major": 2,
              "version_minor": 0,
              "model_id": "dcb5d2484c1d4b608578fbfaf39adc6d"
            }
          },
          "metadata": {}
        },
        {
          "output_type": "display_data",
          "data": {
            "text/plain": [
              "Downloading metadata:   0%|          | 0.00/4.47k [00:00<?, ?B/s]"
            ],
            "application/vnd.jupyter.widget-view+json": {
              "version_major": 2,
              "version_minor": 0,
              "model_id": "b54eb3ca0cf6470fa28eed98f5171687"
            }
          },
          "metadata": {}
        },
        {
          "output_type": "stream",
          "name": "stdout",
          "text": [
            "Downloading and preparing dataset glue/sst2 (download: 7.09 MiB, generated: 4.81 MiB, post-processed: Unknown size, total: 11.90 MiB) to /root/.cache/huggingface/datasets/glue/sst2/1.0.0/dacbe3125aa31d7f70367a07a8a9e72a5a0bfeb5fc42e75c9db75b96da6053ad...\n"
          ]
        },
        {
          "output_type": "display_data",
          "data": {
            "text/plain": [
              "Downloading data:   0%|          | 0.00/7.44M [00:00<?, ?B/s]"
            ],
            "application/vnd.jupyter.widget-view+json": {
              "version_major": 2,
              "version_minor": 0,
              "model_id": "e45ffdec3d8a4054acf61ba8a3d07aea"
            }
          },
          "metadata": {}
        },
        {
          "output_type": "display_data",
          "data": {
            "text/plain": [
              "Generating train split:   0%|          | 0/67349 [00:00<?, ? examples/s]"
            ],
            "application/vnd.jupyter.widget-view+json": {
              "version_major": 2,
              "version_minor": 0,
              "model_id": "c724131eb3554b7bad9425b268bcb02b"
            }
          },
          "metadata": {}
        },
        {
          "output_type": "display_data",
          "data": {
            "text/plain": [
              "Generating validation split:   0%|          | 0/872 [00:00<?, ? examples/s]"
            ],
            "application/vnd.jupyter.widget-view+json": {
              "version_major": 2,
              "version_minor": 0,
              "model_id": "6c6241f83abe41d091cd94d321ed06fc"
            }
          },
          "metadata": {}
        },
        {
          "output_type": "display_data",
          "data": {
            "text/plain": [
              "Generating test split:   0%|          | 0/1821 [00:00<?, ? examples/s]"
            ],
            "application/vnd.jupyter.widget-view+json": {
              "version_major": 2,
              "version_minor": 0,
              "model_id": "a957196fa970414591b53005291f3848"
            }
          },
          "metadata": {}
        },
        {
          "output_type": "stream",
          "name": "stdout",
          "text": [
            "Dataset glue downloaded and prepared to /root/.cache/huggingface/datasets/glue/sst2/1.0.0/dacbe3125aa31d7f70367a07a8a9e72a5a0bfeb5fc42e75c9db75b96da6053ad. Subsequent calls will reuse this data.\n"
          ]
        },
        {
          "output_type": "display_data",
          "data": {
            "text/plain": [
              "  0%|          | 0/3 [00:00<?, ?it/s]"
            ],
            "application/vnd.jupyter.widget-view+json": {
              "version_major": 2,
              "version_minor": 0,
              "model_id": "1f08b104e3754790874a35327e0202f2"
            }
          },
          "metadata": {}
        }
      ]
    },
    {
      "cell_type": "code",
      "source": [
        "'''\n",
        "A sentence classifier based on a deep recurrent network that makes use of ElmanReset\n",
        "  cells.\n",
        "'''\n",
        "class ElmanResetClassifier(nn.Module):\n",
        "    '''\n",
        "    Constructor: creates a new deep recurrent sentence classifier (based on an \n",
        "      architecture of my design), incorporating ElmanReset cells.\n",
        "    Input:\n",
        "      > 'vocab_size' - the size of the vocabulary from which the input sentences\n",
        "        are drawn.\n",
        "      > 'embed_dim' - dimension of word embeddings for this vocabulary (which the\n",
        "        model learns).\n",
        "      > 'hidden_dim' - dimension of hidden state for the ElmanReset cells \n",
        "        incorporated in the model.\n",
        "      > 'num_classes' - the number of output classes of the classifier.\n",
        "    '''\n",
        "    def __init__(self, vocab_size, embed_dim, hidden_dim, num_classes):\n",
        "        # create the Module object\n",
        "        super().__init__()\n",
        "        \n",
        "        # set a learned word embedding for this vocabulary\n",
        "        self.embedding = nn.Embedding(vocab_size, embed_dim)\n",
        "\n",
        "        # set 2 ElmanReset cells to which embedded sentences will be fed\n",
        "        self.er_cell_1 = ElmanResetCell(embed_dim, hidden_dim)\n",
        "        self.er_cell_2 = ElmanResetCell(hidden_dim, hidden_dim)\n",
        "\n",
        "        # set a shallow classifying head\n",
        "        self.linear = nn.Linear(hidden_dim, num_classes)\n",
        "        self.logsoftmax = nn.LogSoftmax(dim=0)\n",
        "    \n",
        "    '''\n",
        "    Forwards a sentence through the network.\n",
        "    Input:\n",
        "      > 'sentence' - list (or list-like) of indices of the tokenized words in the\n",
        "        input sentence, in the same order they appear in the sentence.\n",
        "    Returns a tensor of shape (num_classes,) containing the log of the output\n",
        "      class probabilities produced by the classifier.\n",
        "    '''\n",
        "    def forward(self, sentence):\n",
        "        # reset the cells' hidden state\n",
        "        self.er_cell_1.reset_h()\n",
        "        self.er_cell_2.reset_h()\n",
        "\n",
        "        # sequentially process each token \n",
        "        for token in sentence:\n",
        "            # embed the token\n",
        "            embedded_token = self.embedding(token)\n",
        "            # feed it through the recurrent cells\n",
        "            self.er_cell_1(embedded_token)\n",
        "            self.er_cell_2(self.er_cell_1.h)\n",
        "        \n",
        "        # feed the final hidden state through the classifying head\n",
        "        feature_extractor_output = self.er_cell_2.h\n",
        "        class_scores = self.linear(feature_extractor_output)\n",
        "        logprobs = self.logsoftmax(class_scores)\n",
        "        return logprobs"
      ],
      "metadata": {
        "id": "G57OGt2CEnlB"
      },
      "execution_count": null,
      "outputs": []
    },
    {
      "cell_type": "code",
      "source": [
        "# create a model for our data, and an optimizer for it\n",
        "model = ElmanResetClassifier(vocab_size=len(vocab),\n",
        "                             embed_dim=25,\n",
        "                             hidden_dim=25,\n",
        "                             num_classes=2)\n",
        "optimizer = torch.optim.Adam(model.parameters())"
      ],
      "metadata": {
        "id": "AYoe9Rz8jnFn"
      },
      "execution_count": null,
      "outputs": []
    },
    {
      "cell_type": "code",
      "source": [
        "'''\n",
        "Feeds a sentence through our created model, and performs an update step if\n",
        "  necessary\n",
        "Input:\n",
        "  > 'tokens' - a list of the vocabulary indices of the tokens in the sentence.\n",
        "  > 'label' - the actual label of the sentence.\n",
        "  > 'to_step' - a boolean stating whether an update step should be performed on\n",
        "    the model.\n",
        "Returns a pair (loss, success) where:\n",
        "  > 'loss' is the cross-entropy loss of the model on the sample.\n",
        "  > 'success' is a boolean stating whether the model classified the sentence\n",
        "    correctly.\n",
        "'''\n",
        "def feed_sentence(tokens, label, to_step):\n",
        "    # prepare the model and optimizer for the operation\n",
        "    if to_step:\n",
        "      model.train()\n",
        "      optimizer.zero_grad()\n",
        "    else:\n",
        "      model.eval()\n",
        "    \n",
        "    # feed the sentence\n",
        "    logprobs = model(tokens)\n",
        "    loss = -logprobs[label] # (softmax)\n",
        "    with torch.no_grad():\n",
        "        predicted_label = logprobs.argmax()\n",
        "        success = (predicted_label == label)\n",
        "\n",
        "    # backpropagate loss and step if necessary\n",
        "    if to_step:\n",
        "        loss.backward()\n",
        "        optimizer.step()\n",
        "    \n",
        "    return loss.item(), success.item()"
      ],
      "metadata": {
        "id": "f24kkhOYkDRL"
      },
      "execution_count": null,
      "outputs": []
    },
    {
      "cell_type": "code",
      "source": [
        "''' In this cell we overfit the model on 20% of SST2's train partition '''\n",
        "\n",
        "# lists to record the average loss and accuracy histories\n",
        "loss_history = []\n",
        "acc_history = []\n",
        "\n",
        "# run 10 epochs of training\n",
        "epochs = 10\n",
        "for epoch in range(epochs):\n",
        "\n",
        "    # variables to keep track of the total loss and of correct predictions\n",
        "    total_loss = 0.0\n",
        "    correct_preds = 0\n",
        "\n",
        "    # perform update steps for every sample in the training partition\n",
        "    for i, tokens in tqdm(enumerate(train_tokens),\n",
        "                          f'Epoch {epoch+1} / {epochs}', total=len(train_tokens)):\n",
        "        loss, success = feed_sentence(tokens, train_labels[i], to_step=True)\n",
        "        total_loss += loss\n",
        "        correct_preds += success\n",
        "\n",
        "    # calculate, report, and record the average loss and accuracy during that epoch\n",
        "    loss = (total_loss / len(train_tokens))\n",
        "    accuracy = (correct_preds / len(train_tokens))\n",
        "    print(f'\\tLoss: {round(loss,4)}')\n",
        "    print(f'\\tAccuracy: {100 * round(accuracy, 4)}%')\n",
        "    loss_history.append(loss)\n",
        "    acc_history.append(accuracy)\n",
        "\n",
        "# display training curves\n",
        "plt.plot(loss_history, label='Train Loss')\n",
        "plt.plot(acc_history, label='Train Accuracy')\n",
        "plt.legend()\n",
        "plt.show()"
      ],
      "metadata": {
        "colab": {
          "base_uri": "https://localhost:8080/",
          "height": 821
        },
        "id": "O0dFheI6rDn6",
        "outputId": "ce04cd91-a7ef-497e-e362-4a381c70cbfd"
      },
      "execution_count": null,
      "outputs": [
        {
          "output_type": "stream",
          "name": "stderr",
          "text": [
            "Epoch 1 / 10: 100%|██████████| 13470/13470 [04:02<00:00, 55.51it/s]\n"
          ]
        },
        {
          "output_type": "stream",
          "name": "stdout",
          "text": [
            "\tLoss: 0.6574\n",
            "\tAccuracy: 60.88%\n"
          ]
        },
        {
          "output_type": "stream",
          "name": "stderr",
          "text": [
            "Epoch 2 / 10: 100%|██████████| 13470/13470 [04:02<00:00, 55.50it/s]\n"
          ]
        },
        {
          "output_type": "stream",
          "name": "stdout",
          "text": [
            "\tLoss: 0.5143\n",
            "\tAccuracy: 74.88%\n"
          ]
        },
        {
          "output_type": "stream",
          "name": "stderr",
          "text": [
            "Epoch 3 / 10: 100%|██████████| 13470/13470 [04:00<00:00, 55.92it/s]\n"
          ]
        },
        {
          "output_type": "stream",
          "name": "stdout",
          "text": [
            "\tLoss: 0.3834\n",
            "\tAccuracy: 83.11%\n"
          ]
        },
        {
          "output_type": "stream",
          "name": "stderr",
          "text": [
            "Epoch 4 / 10: 100%|██████████| 13470/13470 [04:02<00:00, 55.45it/s]\n"
          ]
        },
        {
          "output_type": "stream",
          "name": "stdout",
          "text": [
            "\tLoss: 0.2965\n",
            "\tAccuracy: 87.86%\n"
          ]
        },
        {
          "output_type": "stream",
          "name": "stderr",
          "text": [
            "Epoch 5 / 10: 100%|██████████| 13470/13470 [04:02<00:00, 55.61it/s]\n"
          ]
        },
        {
          "output_type": "stream",
          "name": "stdout",
          "text": [
            "\tLoss: 0.241\n",
            "\tAccuracy: 90.42%\n"
          ]
        },
        {
          "output_type": "stream",
          "name": "stderr",
          "text": [
            "Epoch 6 / 10: 100%|██████████| 13470/13470 [03:59<00:00, 56.30it/s]\n"
          ]
        },
        {
          "output_type": "stream",
          "name": "stdout",
          "text": [
            "\tLoss: 0.1912\n",
            "\tAccuracy: 92.65%\n"
          ]
        },
        {
          "output_type": "stream",
          "name": "stderr",
          "text": [
            "Epoch 7 / 10: 100%|██████████| 13470/13470 [03:55<00:00, 57.19it/s]\n"
          ]
        },
        {
          "output_type": "stream",
          "name": "stdout",
          "text": [
            "\tLoss: 0.1481\n",
            "\tAccuracy: 94.44%\n"
          ]
        },
        {
          "output_type": "stream",
          "name": "stderr",
          "text": [
            "Epoch 8 / 10: 100%|██████████| 13470/13470 [03:58<00:00, 56.36it/s]\n"
          ]
        },
        {
          "output_type": "stream",
          "name": "stdout",
          "text": [
            "\tLoss: 0.1206\n",
            "\tAccuracy: 95.61%\n"
          ]
        },
        {
          "output_type": "stream",
          "name": "stderr",
          "text": [
            "Epoch 9 / 10: 100%|██████████| 13470/13470 [03:57<00:00, 56.71it/s]\n"
          ]
        },
        {
          "output_type": "stream",
          "name": "stdout",
          "text": [
            "\tLoss: 0.1\n",
            "\tAccuracy: 96.41%\n"
          ]
        },
        {
          "output_type": "stream",
          "name": "stderr",
          "text": [
            "Epoch 10 / 10: 100%|██████████| 13470/13470 [04:01<00:00, 55.85it/s]\n"
          ]
        },
        {
          "output_type": "stream",
          "name": "stdout",
          "text": [
            "\tLoss: 0.0939\n",
            "\tAccuracy: 96.64%\n"
          ]
        },
        {
          "output_type": "display_data",
          "data": {
            "text/plain": [
              "<Figure size 432x288 with 1 Axes>"
            ],
            "image/png": "[encoded data removed]"
          },
          "metadata": {
            "needs_background": "light"
          }
        }
      ]
    },
    {
      "cell_type": "code",
      "source": [
        "''' In this cell we test the overfitted model on the test partition of our data. '''\n",
        "\n",
        "# variables to keep track of the total loss and correct predictions\n",
        "total_loss = 0.0\n",
        "correct_preds = 0\n",
        "\n",
        "# feed-forward every sample in the test set\n",
        "for i, tokens in tqdm(enumerate(test_tokens),\n",
        "                      f'Testing', total=len(test_tokens)):\n",
        "    loss, success = feed_sentence(tokens, test_labels[i], to_step=False)\n",
        "    total_loss += loss\n",
        "    correct_preds += success\n",
        "\n",
        "# calculate and report the average test loss and test accuracy\n",
        "loss = (total_loss / len(test_tokens))\n",
        "accuracy = (correct_preds / len(test_tokens))\n",
        "print(f'\\tTest loss: {round(loss,4)}')\n",
        "print(f'\\tTest accuracy: {100 * round(accuracy, 4)}%')"
      ],
      "metadata": {
        "colab": {
          "base_uri": "https://localhost:8080/"
        },
        "id": "XBzrwN0p5V6E",
        "outputId": "47df0cf3-b62b-42fb-f789-771497d6d5aa"
      },
      "execution_count": null,
      "outputs": [
        {
          "output_type": "stream",
          "name": "stderr",
          "text": [
            "Testing: 100%|██████████| 53879/53879 [02:18<00:00, 387.96it/s]"
          ]
        },
        {
          "output_type": "stream",
          "name": "stdout",
          "text": [
            "\tTest loss: 0.6338\n",
            "\tTest accuracy: 82.45%\n"
          ]
        },
        {
          "output_type": "stream",
          "name": "stderr",
          "text": [
            "\n"
          ]
        }
      ]
    },
    {
      "cell_type": "markdown",
      "source": [
        "---\n",
        "# Question 3 - Inverser Autoencoder\n",
        "In this question we design a deep autoencoder with the same number of encoder and decoder layers, and the special property that the $l$'th decoder layer's output is fit to be as close as possible to the $l$'th encoder layer's input - striving to inverse every encoder layer's input (and not only the first one). We create a fully connected and a fully convolutional versions of it, test them on the MNIST dataset, and compare the results."
      ],
      "metadata": {
        "id": "b4pFWwXg_6x7"
      }
    },
    {
      "cell_type": "markdown",
      "source": [
        "## Generic Implementation"
      ],
      "metadata": {
        "id": "BAzmAHMVAklv"
      }
    },
    {
      "cell_type": "markdown",
      "source": [
        "Before I present my implementation of the autoencoder, let me briefly explain the loss function I decided to incorporate into it.\n",
        "\n",
        "The inverse-autoencoder should strive to inverse every encoder layer in the corresponding decoder layer, i.e. - it should be fit to make each decoder layer's output as close as possible to the corresponding encdoer layer's input. To enforce this, we need to impose a penalty for the distance between the input to each encoder layer, and the output of the corresponding decoder layer. Since those inputs and outputs contain real activation values, the natural way to define such distance is using sum of squared distances, or more precisely - MSE loss.\n",
        "\n",
        "Now the question left is how to *combine* the errors of each encoder-decoder pair to obtain one global loss measure. The method I decided to use is to sum those errors, to produce the global loss. This is a very simple approach, but also very natural:\n",
        "* First, it makes sense to make the global loss measure a linear combination of the individual errors. This makes the effect that each error has on the total loss independent of the other errors. I.e. - enforcing the \"inversion\" property of each decoder layer is carried-out independently.\n",
        "* Next, we need to decide on the coefficients of this linear combination, i.e. - on the effect that each encoder-decoder layer error has on the total loss. I decided to go simple here - and make all effects equal. As a result, any differences between the \"inversion-power\" of each decoder layer will not be affected by our choices, but rather by the nature of the model and the data."
      ],
      "metadata": {
        "id": "vBm3ZiEHl4dM"
      }
    },
    {
      "cell_type": "code",
      "source": [
        " '''\n",
        "An inverser autoencoder, as described above.\n",
        "The module is implemeneted in a generic fashion, so different types of inverser\n",
        "  autoencoders can be created uith it.\n",
        "'''\n",
        "class InverserAutoencoder(nn.Module):\n",
        "    '''\n",
        "    Constructor: creates a new inverser autoencoder, whose exact building blocks\n",
        "      are specified by the caller.\n",
        "    This constructor gets 2 callables - one for constructing encoder layers and\n",
        "      one for constructing decoder layers. When ran on the same set of arguments,\n",
        "      the constructors should produce together a matching pair of an encoder layer\n",
        "      and a decoder layer - such that the input / output shapes of the encoder \n",
        "      layer are the same as the output / input shapes of the decoder layer,\n",
        "      respectively.\n",
        "    Then, to produce the autoencoder, we accept a list of argument sets to pass to\n",
        "      both constructors. Each set produces a matching pair of encoding-decoding\n",
        "      layers, which are then stacked in the correct order to produce a full-on\n",
        "      autoencoder. The size of this list will determine the size of the network.\n",
        "    Since the first and the last layers are usually unique, I added the option to\n",
        "      manually specify these.\n",
        "    Input:\n",
        "      > 'encoder_layers_const' - the callable for constructing encoder layers, as\n",
        "        described above in detail.\n",
        "      > 'decoder_layers_const' - the callable for constructing decoder layers, as\n",
        "        described above in detail.\n",
        "      > 'layers_args_list' - a list of sets of arguments passed to both constructors \n",
        "        to produce matching pairs of encoder-decoder layers.\n",
        "      > 'first_encoder_layer' - optional first encoder layer. Set to None if you \n",
        "        don't wish to use it. Default: None.\n",
        "      > 'last_decoder_layer' - optional last decoder layer. Set to None if you don't\n",
        "        wish to use it. Default: None.\n",
        "    Note: if one of 'first_encode_layer' and 'last_decode_layer' is None, none of\n",
        "      them will be added to the Module.\n",
        "    '''\n",
        "    def __init__(self, encoder_layers_const, decoder_layers_const, layers_args_list,\n",
        "                 first_encoder_layer=None, last_decoder_layer=None):\n",
        "        # create the Module object\n",
        "        super().__init__()\n",
        "\n",
        "        # set 2 ModuleList for the encoder layers and the decoder layers\n",
        "        self.encoder_layers = nn.ModuleList()\n",
        "        self.decoder_layers = nn.ModuleList() # (processed in reverse)\n",
        "\n",
        "        # add first encoder layer and last decoder layer if necessary\n",
        "        if first_encoder_layer != None and last_decoder_layer != None:\n",
        "            self.encoder_layers.append(first_encoder_layer)\n",
        "            self.decoder_layers.append(last_decoder_layer)\n",
        "        \n",
        "        # add the rest of the layers\n",
        "        for layer_args in layers_args_list:\n",
        "            self.encoder_layers.append(encoder_layers_const(layer_args))\n",
        "            self.decoder_layers.append(decoder_layers_const(layer_args))\n",
        "\n",
        "        # set 2 variable to hols lists to keep track of the encoder's inputs and \n",
        "        # the decoder's outputs during the last forward propagation\n",
        "        self.encoder_inputs = None\n",
        "        self.decoder_outputs = None\n",
        "\n",
        "    '''\n",
        "    Forwards an input tensor through the encoder part of the autoencoder.\n",
        "    Input:  \n",
        "      > 'x' - input tensor to forward (should be compatible with the encoder's \n",
        "        input shape)\n",
        "    Returns the encoder's output.\n",
        "    '''\n",
        "    def encode(self, x):\n",
        "        # reset the 'encoder_inputs' list (as we feed a new sample through it)\n",
        "        self.encoder_inputs = []\n",
        "\n",
        "        # feed x through the encoder layers\n",
        "        for encoder_layer in self.encoder_layers:\n",
        "            self.encoder_inputs.append(x)\n",
        "            x = encoder_layer(x)\n",
        "        return x\n",
        "\n",
        "    '''\n",
        "    Forwards an input tensor through the decoder part of the autoencoder.\n",
        "    Input:  \n",
        "      > 'x' - input tensor to forward (should be compatible with the decoder's \n",
        "        input shape)\n",
        "    Returns the decoder's output.\n",
        "    '''\n",
        "    def decode(self, x):\n",
        "        # reset the 'decoder_outputs' list (as we feed a new sample through it)\n",
        "        self.decoder_outputs = []\n",
        "\n",
        "        # feed x through the decoder layers (in reverse, as the last one is closest\n",
        "        # to the last encoder layer)\n",
        "        for decoder_layer in reversed(self.decoder_layers):\n",
        "            x = decoder_layer(x)\n",
        "            self.decoder_outputs.insert(0, x) # (insert to the beginning since reversed)\n",
        "        return x\n",
        "\n",
        "    '''\n",
        "    Forwards an input tensor through the autoencoder.\n",
        "    Input:  \n",
        "      > 'x' - input tensor to forward (should be compatible with the first encoder\n",
        "        input shape)\n",
        "    Returns the auto-encoder output.\n",
        "    '''\n",
        "    def forward(self, x):\n",
        "        # simply use 'encode' and 'decode' to feed the input through the network      \n",
        "        encoder_output = self.encode(x)\n",
        "        decoder_output = self.decode(encoder_output)\n",
        "        return decoder_output\n",
        "    \n",
        "    '''\n",
        "    Calculates the total loss of the autoencoder on the last input tensor that was\n",
        "      fed through it.\n",
        "    The loss of the inverser-autoencoder is defined as the sum of the loss between\n",
        "      the input for each encoder layer, and the output of the correspodning decoder\n",
        "      layer.\n",
        "    Input:\n",
        "        > 'loss_measure' - a 2 arguments callable that calculates the loss between\n",
        "          an encoder layer's input and the correspodning decoder layer's output.\n",
        "    Returns the total loss as described above (in tensor format, with autograd\n",
        "      following it), or None if no input was fed through the model yet.\n",
        "    '''\n",
        "    def calc_loss(self, loss_measure):\n",
        "        if self.encoder_inputs == None or self.decoder_outputs == None:\n",
        "            # return None if no input was fet through the model yet\n",
        "            return None\n",
        "        else:\n",
        "            # otherwise - sum the loss between every pair of encoder input and decoder\n",
        "            # output\n",
        "            return sum([loss_measure(encoder_input, decoder_output)\n",
        "                        for encoder_input, decoder_output\n",
        "                        in zip(self.encoder_inputs, self.decoder_outputs)])"
      ],
      "metadata": {
        "id": "03WS_OW5An8w"
      },
      "execution_count": null,
      "outputs": []
    },
    {
      "cell_type": "markdown",
      "source": [
        "## Preparing for Experiements"
      ],
      "metadata": {
        "id": "bUD7iIU_0ngc"
      }
    },
    {
      "cell_type": "code",
      "source": [
        "''' In this cell we prepare the MNIST dataset for future experiments with the \n",
        "    inverser autoencoder '''\n",
        "\n",
        "# load MNIST dataset\n",
        "trans=torchvision.transforms.Compose(\n",
        "    [torchvision.transforms.PILToTensor(),\n",
        "     torchvision.transforms.ConvertImageDtype(torch.float)])\n",
        "train_data = torchvision.datasets.MNIST(\n",
        "    root=\"/MNIST\", train=True, download=True, transform=trans)\n",
        "test_data = torchvision.datasets.MNIST(\n",
        "    root=\"/MNIST\", train=False, download=True, transform=trans)\n",
        "image_width, image_height = train_data[0][0].shape[1:]\n",
        "\n",
        "# create dataloader for train data and test data\n",
        "train_dataloader = DataLoader(train_data, batch_size=512,\n",
        "                              num_workers=2,shuffle=True,pin_memory=True)\n",
        "test_dataloader = DataLoader(test_data, batch_size=512,\n",
        "                             num_workers=2,shuffle=False,pin_memory=True)\n",
        "\n",
        "# since we try to recreate images, the loss measure we'll use will be MSE\n",
        "loss_measure = nn.MSELoss()\n",
        "\n",
        "# these 2 mapping lambdas will be used as a preprocess step and a postprocess step\n",
        "# when feeding the images through the fully connected network (which is not\n",
        "# compatibale for image data)\n",
        "fc_preprocess = lambda x: x.view((x.shape[0], image_height * image_width)) # (flatten)\n",
        "fc_postprocess = lambda x: x.view((x.shape[0], image_height, image_width)) # (unflatten)"
      ],
      "metadata": {
        "id": "31IJCcVL1iqE"
      },
      "execution_count": null,
      "outputs": []
    },
    {
      "cell_type": "code",
      "source": [
        "'''\n",
        "Fits an instance of an InverserAutoencoder on the train partition of the MNIST\n",
        "  dataset imported above.\n",
        "Input:\n",
        "  > 'model' - the InverserAutoencoder to fit (set on 'device').\n",
        "  > 'optimizer' - the attached optimizer used for fitting.\n",
        "  > 'epochs' - the number of training epochs to run.\n",
        "  > 'preprocess' - a callable called on the loaded input batches before feeding\n",
        "    them through the model. Set to None if you don't wish to use this functionality.\n",
        "    Default: None\n",
        "Output:  a list of the history of the losses of the model on the training batches.\n",
        "Documents the process in real time using the tqdm package.\n",
        "'''\n",
        "def train_model(model, optimizer, epochs, preprocess=None):\n",
        "    # set a list to track the loss history\n",
        "    loss_history = []\n",
        "\n",
        "    # run 'epochs' training epochs\n",
        "    for epoch in range(epochs):\n",
        "        total_loss = 0.0\n",
        "\n",
        "        # process each training batch individually\n",
        "        for (imgs, _) in tqdm(train_dataloader,\n",
        "                              f'Training epoch {epoch+1} / {epochs}',\n",
        "                              position=0, leave=True):\n",
        "\n",
        "            # prepare batch\n",
        "            imgs = imgs.to(device)\n",
        "            if preprocess != None: imgs = preprocess(imgs)\n",
        "            \n",
        "            # run forward and backward passes on the batch\n",
        "            optimizer.zero_grad()\n",
        "            model.train()\n",
        "            model(imgs)\n",
        "            loss = model.calc_loss(loss_measure)\n",
        "            loss.backward()\n",
        "            optimizer.step()\n",
        "\n",
        "            # record batch loss\n",
        "            loss_history.append(loss.item())\n",
        "            total_loss += loss.item()\n",
        "        \n",
        "        # report the epoch's average loss\n",
        "        print(f'\\tLoss: {round(total_loss/len(train_dataloader),4)}')\n",
        "    \n",
        "    return loss_history"
      ],
      "metadata": {
        "id": "uDFFiFhk5H-v"
      },
      "execution_count": null,
      "outputs": []
    },
    {
      "cell_type": "code",
      "source": [
        "'''\n",
        "Tests an instance of an InverserAutoencoder on the test partition of the MNIST\n",
        "  dataset imported above.\n",
        "Input:\n",
        "  > 'model' - the InverserAutoencoder to test (set on 'device').\n",
        "  > 'preprocess' - a callable called on the loaded input batches before feeding\n",
        "    them through the model. Set to None if you don't wish to use this functionality.\n",
        "    Default: None\n",
        "Returns the average loss on the test set.\n",
        "'''\n",
        "def test_model(model, preprocess=None):\n",
        "    with torch.no_grad():\n",
        "        # variable to keep track of the total MSE loss over the batches\n",
        "        total_loss = 0.0\n",
        "\n",
        "        # process each testing batch individually\n",
        "        for (imgs, _) in tqdm(test_dataloader, f'Testing', position=0, leave=True):\n",
        "\n",
        "            # prepare batch\n",
        "            imgs = imgs.to(device)\n",
        "            if preprocess != None: imgs = preprocess(imgs)\n",
        "\n",
        "            # feed the batch through the model and add the loss\n",
        "            model.eval()\n",
        "            model(imgs)\n",
        "            loss = model.calc_loss(loss_measure)\n",
        "            total_loss += loss.item()\n",
        "    \n",
        "    # return average batch loss\n",
        "    return total_loss / len(test_dataloader)"
      ],
      "metadata": {
        "id": "UTESRpEo-ira"
      },
      "execution_count": null,
      "outputs": []
    },
    {
      "cell_type": "code",
      "source": [
        "'''\n",
        "Visualizes the output of an instance of an InverserAutoencoder on a few samples\n",
        "  from the beginning of the test partition of the MNIST dataset.\n",
        "Input:\n",
        "  > 'model' - the InverserAutoencoder to visualize its outputs (set on 'device').\n",
        "  > 'num_samples' - the number of samples from the beginning of the test partition\n",
        "    of MNIST to use for visualization.\n",
        "  > 'preprocess' - a callable called on the loaded input samples before feeding\n",
        "    them through the model. Set to None if you don't wish to use this functionality.\n",
        "    Default: None\n",
        "  > 'postprocess' - a callable called on the output of the model (before removing\n",
        "    batch dimension) to make its shape correct for image visualization. Set to\n",
        "    None if you don't wish to use this functionality. Default: None\n",
        "'''\n",
        "def visualize_model_results(model, num_samples, preprocess=None, postprocess=None):\n",
        "    # process the first 'num_samples' samples of the test partition\n",
        "    for i in range(num_samples):\n",
        "        origin_img = test_data[i][0].to(device)\n",
        "        img = origin_img\n",
        "        if preprocess != None: img = preprocess(img)\n",
        "        recon_img = model(img)\n",
        "        if postprocess != None: recon_img = postprocess(recon_img)\n",
        "        recon_img = recon_img.detach()\n",
        "\n",
        "        # create new figure and subplots\n",
        "        fig = plt.figure()\n",
        "        axis1, axis2 = fig.subplots(1,2)\n",
        "\n",
        "        # visualize original image\n",
        "        axis1.imshow(origin_img.squeeze().cpu().numpy(), cmap='gray')\n",
        "        axis1.axis('off')\n",
        "        axis1.set_title('Original')\n",
        "\n",
        "        # visualize reconstructed image\n",
        "        axis2.imshow(recon_img.squeeze().cpu().numpy(), cmap='gray')\n",
        "        axis2.axis('off')\n",
        "        axis2.set_title('Reconstructed')"
      ],
      "metadata": {
        "id": "AEri8qgJA1Do"
      },
      "execution_count": null,
      "outputs": []
    },
    {
      "cell_type": "code",
      "source": [
        "'''\n",
        "Tests an instance of an InverserAuto encoder to see how close each decoder layer of\n",
        "  it is to the inverse of the corresponding encdoer layer.\n",
        "Input:\n",
        "  > 'model' - the InverserAutoencoder to test (set on 'device').\n",
        "  > 'preprocess' - a callable called on the loaded input batches before feeding\n",
        "    them through the model. Set to None if you don't wish to use this functionality.\n",
        "    Default: None\n",
        "Returns a list whose i'th element is the average MSE loss between the input to the\n",
        "  i'th encoder layer and the output of the i'th decoder layer (from its end), \n",
        "  measured on the test partition of MNIST.\n",
        "'''\n",
        "def test_model_inversion(model, preprocess=None):\n",
        "    with torch.no_grad():\n",
        "        # initialize a list to store the total loss between each layer pair\n",
        "        total_losses = [0.0] * len(model.encoder_layers)\n",
        "\n",
        "        # process each testing batch individually\n",
        "        for (imgs, _) in tqdm(test_dataloader, f'Testing inversion',\n",
        "                              position=0, leave=True):\n",
        "\n",
        "            # prepare and feed batch\n",
        "            imgs = imgs.to(device)\n",
        "            if preprocess != None: imgs = preprocess(imgs)\n",
        "            model.eval()\n",
        "            model(imgs)\n",
        "\n",
        "            # calculate and record loss between pairs of layers of the autoencoder\n",
        "            for i, (encoder_input, decoder_output) \\\n",
        "                  in enumerate(zip(model.encoder_inputs, model.decoder_outputs)):\n",
        "                total_losses[i] += loss_measure(encoder_input,decoder_output).item()\n",
        "\n",
        "        # divide each total loss by the number of batches to obtain average losses\n",
        "    avg_losses = [total_loss / len(test_dataloader)\n",
        "                  for total_loss in total_losses]\n",
        "\n",
        "    return avg_losses"
      ],
      "metadata": {
        "id": "_cw_l0PWF_6l"
      },
      "execution_count": null,
      "outputs": []
    },
    {
      "cell_type": "code",
      "source": [
        "'''\n",
        "Tests how an instance of an InverserAutoencoder behaves when applying noise to its\n",
        "  decoder's input.\n",
        "Input:\n",
        "  > 'model' - the InverserAutoencoder to test (set on 'device').\n",
        "  > 'preprocess' - a callable called on the loaded input batches before feeding\n",
        "    them through the model. Set to None if you don't wish to use this functionality.\n",
        "    Default: None\n",
        "  > 'postprocess' - a callable called on the output of the model (before removing\n",
        "    batch dimension) to make its shape correct for image visualization. Set to\n",
        "    None if you don't wish to use this functionality. Default: None\n",
        "Displays 2 matplotlib figures:\n",
        "  > The first figure contains 3 subplots:\n",
        "    - One containing the first sample in the test partition of MKNIST.\n",
        "    - One containing the autoencoder's output on this sample.\n",
        "    - And one containing the decoder's output on the sample's encoding (produced)\n",
        "      by the encoder), after adding random gaussian noise with mean 0 and std 1.25%.\n",
        "  > The second figure contains the decoded image produced by the inverser's decoder,\n",
        "    when feeding random (standard) gaussian noise to it.\n",
        "'''\n",
        "def test_noise_behavior(model, preprocess=None, postprocess=None):\n",
        "    # start with the first experiement - adding noise to a real sample's encoding:\n",
        "\n",
        "    # prepare data and feed it through\n",
        "    img = test_data[0][0].to(device)\n",
        "    if preprocess != None: img = preprocess(img)\n",
        "    encoding = model.encode(img)\n",
        "    decoded_img = model.decode(encoding)\n",
        "    noisy_encoding = encoding + 0.0125 * torch.randn_like(encoding)\n",
        "    noisy_decoded_img = model.decode(noisy_encoding)\n",
        "\n",
        "    # postprocess if necessary\n",
        "    if postprocess != None:\n",
        "        img = postprocess(img)\n",
        "        decoded_img = postprocess(decoded_img)\n",
        "        noisy_decoded_img = postprocess(noisy_decoded_img)\n",
        "\n",
        "    # display the results\n",
        "    fig = plt.figure(figsize=(10,10))\n",
        "    axes = fig.subplots(1,3)\n",
        "    axes[0].imshow(img.cpu().detach().numpy().squeeze(), cmap='gray')\n",
        "    axes[0].axis('off')\n",
        "    axes[0].set_title('Original Image')\n",
        "    axes[1].imshow(decoded_img.cpu().detach().numpy().squeeze(), cmap='gray')\n",
        "    axes[1].axis('off')\n",
        "    axes[1].set_title('Decoded Image Encoding')\n",
        "    axes[2].imshow(noisy_decoded_img.cpu().detach().numpy().squeeze(), cmap='gray')\n",
        "    axes[2].axis('off')\n",
        "    axes[2].set_title('Decoded Noisy Image Encoding')\n",
        "\n",
        "    # next - the second experiement: decode random noise\n",
        "    \n",
        "    # create and decode noise\n",
        "    noise = torch.randn_like(encoding).to(device)\n",
        "    decoded_noise = model.decode(noise)\n",
        "    if postprocess != None: decoded_noise = postprocess(decoded_noise)\n",
        "\n",
        "    # display the result\n",
        "    fig = plt.figure()\n",
        "    axis = fig.subplots(1,1)\n",
        "    axis.imshow(decoded_noise.cpu().detach().numpy().squeeze(), cmap='gray')\n",
        "    axis.axis('off')\n",
        "    axis.set_title('Decoded Noise')"
      ],
      "metadata": {
        "id": "wMX4bta3a4RU"
      },
      "execution_count": null,
      "outputs": []
    },
    {
      "cell_type": "markdown",
      "source": [
        "## Fitting & Testing a Fully-Connected Inverser Autoencoder on MNIST"
      ],
      "metadata": {
        "id": "vz2wguP6IHEq"
      }
    },
    {
      "cell_type": "code",
      "source": [
        "''' In this cell we create a fully-connected version of InverserAutoencoder '''\n",
        "\n",
        "# a constructor for internal encoder layers of the model: FC + LeakyReLU\n",
        "encoder_layers_const = lambda args_dict: nn.Sequential(\n",
        "    nn.Linear(args_dict['in_features'], args_dict['out_features']),\n",
        "    nn.LeakyReLU())\n",
        "\n",
        "# a constructor for inverse decoder layers of the model: FC + LeakyReLU\n",
        "decoder_layers_const = lambda args_dict: nn.Sequential(\n",
        "    nn.Linear(args_dict['out_features'], args_dict['in_features']),\n",
        "    nn.LeakyReLU())\n",
        "\n",
        "# the first encoder layer will be just as the others\n",
        "first_encoder_layer = encoder_layers_const(\n",
        "    {'in_features': image_height*image_width, 'out_features': 512})\n",
        "\n",
        "# the matching last decoder layer is a bit special - it uses sigmoid activation to \n",
        "# producepixel values bwwteen 0.0 and 1.0\n",
        "last_decoder_layer = nn.Sequential(\n",
        "    nn.Linear(512, image_height*image_width,\n",
        "    nn.Sigmoid()))\n",
        "\n",
        "# these are argument lists we will use to produce the internal layers\n",
        "layers_args_list = [{'in_features': 512, 'out_features': 256},\n",
        "                    {'in_features': 256, 'out_features': 128},\n",
        "                    {'in_features': 128, 'out_features': 64},\n",
        "                    {'in_features': 64, 'out_features': 32}]\n",
        "\n",
        "# create the model\n",
        "fc_inverser = InverserAutoencoder(encoder_layers_const, decoder_layers_const,\n",
        "                                  layers_args_list, first_encoder_layer,\n",
        "                                  last_decoder_layer).to(device)"
      ],
      "metadata": {
        "id": "q9b_tCnWIMd-"
      },
      "execution_count": null,
      "outputs": []
    },
    {
      "cell_type": "code",
      "source": [
        "# attach optimizer to the model and fit it\n",
        "optimizer = torch.optim.Adam(fc_inverser.parameters(), lr=3e-3)\n",
        "fc_loss_history = train_model(fc_inverser, optimizer, epochs=50,\n",
        "                           preprocess=fc_preprocess)"
      ],
      "metadata": {
        "colab": {
          "base_uri": "https://localhost:8080/"
        },
        "id": "HSjpzE7zuglS",
        "outputId": "04e8a205-a14d-4255-c594-cc507b012cbf"
      },
      "execution_count": null,
      "outputs": [
        {
          "output_type": "stream",
          "name": "stderr",
          "text": [
            "Training epoch 1 / 50: 100%|██████████| 118/118 [00:11<00:00, 10.70it/s]\n"
          ]
        },
        {
          "output_type": "stream",
          "name": "stdout",
          "text": [
            "\tLoss: 0.0698\n"
          ]
        },
        {
          "output_type": "stream",
          "name": "stderr",
          "text": [
            "Training epoch 2 / 50: 100%|██████████| 118/118 [00:10<00:00, 10.73it/s]\n"
          ]
        },
        {
          "output_type": "stream",
          "name": "stdout",
          "text": [
            "\tLoss: 0.0612\n"
          ]
        },
        {
          "output_type": "stream",
          "name": "stderr",
          "text": [
            "Training epoch 3 / 50: 100%|██████████| 118/118 [00:15<00:00,  7.72it/s]\n"
          ]
        },
        {
          "output_type": "stream",
          "name": "stdout",
          "text": [
            "\tLoss: 0.0578\n"
          ]
        },
        {
          "output_type": "stream",
          "name": "stderr",
          "text": [
            "Training epoch 4 / 50: 100%|██████████| 118/118 [00:11<00:00, 10.04it/s]\n"
          ]
        },
        {
          "output_type": "stream",
          "name": "stdout",
          "text": [
            "\tLoss: 0.0538\n"
          ]
        },
        {
          "output_type": "stream",
          "name": "stderr",
          "text": [
            "Training epoch 5 / 50: 100%|██████████| 118/118 [00:12<00:00,  9.73it/s]\n"
          ]
        },
        {
          "output_type": "stream",
          "name": "stdout",
          "text": [
            "\tLoss: 0.0505\n"
          ]
        },
        {
          "output_type": "stream",
          "name": "stderr",
          "text": [
            "Training epoch 6 / 50: 100%|██████████| 118/118 [00:14<00:00,  8.19it/s]\n"
          ]
        },
        {
          "output_type": "stream",
          "name": "stdout",
          "text": [
            "\tLoss: 0.0471\n"
          ]
        },
        {
          "output_type": "stream",
          "name": "stderr",
          "text": [
            "Training epoch 7 / 50: 100%|██████████| 118/118 [00:14<00:00,  8.04it/s]\n"
          ]
        },
        {
          "output_type": "stream",
          "name": "stdout",
          "text": [
            "\tLoss: 0.0435\n"
          ]
        },
        {
          "output_type": "stream",
          "name": "stderr",
          "text": [
            "Training epoch 8 / 50: 100%|██████████| 118/118 [00:11<00:00,  9.93it/s]\n"
          ]
        },
        {
          "output_type": "stream",
          "name": "stdout",
          "text": [
            "\tLoss: 0.0413\n"
          ]
        },
        {
          "output_type": "stream",
          "name": "stderr",
          "text": [
            "Training epoch 9 / 50: 100%|██████████| 118/118 [00:13<00:00,  8.69it/s]\n"
          ]
        },
        {
          "output_type": "stream",
          "name": "stdout",
          "text": [
            "\tLoss: 0.0399\n"
          ]
        },
        {
          "output_type": "stream",
          "name": "stderr",
          "text": [
            "Training epoch 10 / 50: 100%|██████████| 118/118 [00:12<00:00,  9.35it/s]\n"
          ]
        },
        {
          "output_type": "stream",
          "name": "stdout",
          "text": [
            "\tLoss: 0.0382\n"
          ]
        },
        {
          "output_type": "stream",
          "name": "stderr",
          "text": [
            "Training epoch 11 / 50: 100%|██████████| 118/118 [00:13<00:00,  8.97it/s]\n"
          ]
        },
        {
          "output_type": "stream",
          "name": "stdout",
          "text": [
            "\tLoss: 0.0362\n"
          ]
        },
        {
          "output_type": "stream",
          "name": "stderr",
          "text": [
            "Training epoch 12 / 50: 100%|██████████| 118/118 [00:11<00:00,  9.93it/s]\n"
          ]
        },
        {
          "output_type": "stream",
          "name": "stdout",
          "text": [
            "\tLoss: 0.0344\n"
          ]
        },
        {
          "output_type": "stream",
          "name": "stderr",
          "text": [
            "Training epoch 13 / 50: 100%|██████████| 118/118 [00:14<00:00,  8.19it/s]\n"
          ]
        },
        {
          "output_type": "stream",
          "name": "stdout",
          "text": [
            "\tLoss: 0.0332\n"
          ]
        },
        {
          "output_type": "stream",
          "name": "stderr",
          "text": [
            "Training epoch 14 / 50: 100%|██████████| 118/118 [00:12<00:00,  9.73it/s]\n"
          ]
        },
        {
          "output_type": "stream",
          "name": "stdout",
          "text": [
            "\tLoss: 0.0323\n"
          ]
        },
        {
          "output_type": "stream",
          "name": "stderr",
          "text": [
            "Training epoch 15 / 50: 100%|██████████| 118/118 [00:13<00:00,  8.95it/s]\n"
          ]
        },
        {
          "output_type": "stream",
          "name": "stdout",
          "text": [
            "\tLoss: 0.0315\n"
          ]
        },
        {
          "output_type": "stream",
          "name": "stderr",
          "text": [
            "Training epoch 16 / 50: 100%|██████████| 118/118 [00:16<00:00,  7.31it/s]\n"
          ]
        },
        {
          "output_type": "stream",
          "name": "stdout",
          "text": [
            "\tLoss: 0.0305\n"
          ]
        },
        {
          "output_type": "stream",
          "name": "stderr",
          "text": [
            "Training epoch 17 / 50: 100%|██████████| 118/118 [00:11<00:00, 10.14it/s]\n"
          ]
        },
        {
          "output_type": "stream",
          "name": "stdout",
          "text": [
            "\tLoss: 0.0301\n"
          ]
        },
        {
          "output_type": "stream",
          "name": "stderr",
          "text": [
            "Training epoch 18 / 50: 100%|██████████| 118/118 [00:13<00:00,  8.52it/s]\n"
          ]
        },
        {
          "output_type": "stream",
          "name": "stdout",
          "text": [
            "\tLoss: 0.0292\n"
          ]
        },
        {
          "output_type": "stream",
          "name": "stderr",
          "text": [
            "Training epoch 19 / 50: 100%|██████████| 118/118 [00:12<00:00,  9.55it/s]\n"
          ]
        },
        {
          "output_type": "stream",
          "name": "stdout",
          "text": [
            "\tLoss: 0.0285\n"
          ]
        },
        {
          "output_type": "stream",
          "name": "stderr",
          "text": [
            "Training epoch 20 / 50: 100%|██████████| 118/118 [00:12<00:00,  9.78it/s]\n"
          ]
        },
        {
          "output_type": "stream",
          "name": "stdout",
          "text": [
            "\tLoss: 0.028\n"
          ]
        },
        {
          "output_type": "stream",
          "name": "stderr",
          "text": [
            "Training epoch 21 / 50: 100%|██████████| 118/118 [00:13<00:00,  8.79it/s]\n"
          ]
        },
        {
          "output_type": "stream",
          "name": "stdout",
          "text": [
            "\tLoss: 0.0275\n"
          ]
        },
        {
          "output_type": "stream",
          "name": "stderr",
          "text": [
            "Training epoch 22 / 50: 100%|██████████| 118/118 [00:14<00:00,  7.95it/s]\n"
          ]
        },
        {
          "output_type": "stream",
          "name": "stdout",
          "text": [
            "\tLoss: 0.0268\n"
          ]
        },
        {
          "output_type": "stream",
          "name": "stderr",
          "text": [
            "Training epoch 23 / 50: 100%|██████████| 118/118 [00:14<00:00,  8.18it/s]\n"
          ]
        },
        {
          "output_type": "stream",
          "name": "stdout",
          "text": [
            "\tLoss: 0.0263\n"
          ]
        },
        {
          "output_type": "stream",
          "name": "stderr",
          "text": [
            "Training epoch 24 / 50: 100%|██████████| 118/118 [00:14<00:00,  8.03it/s]\n"
          ]
        },
        {
          "output_type": "stream",
          "name": "stdout",
          "text": [
            "\tLoss: 0.0259\n"
          ]
        },
        {
          "output_type": "stream",
          "name": "stderr",
          "text": [
            "Training epoch 25 / 50: 100%|██████████| 118/118 [00:15<00:00,  7.79it/s]\n"
          ]
        },
        {
          "output_type": "stream",
          "name": "stdout",
          "text": [
            "\tLoss: 0.0255\n"
          ]
        },
        {
          "output_type": "stream",
          "name": "stderr",
          "text": [
            "Training epoch 26 / 50: 100%|██████████| 118/118 [00:12<00:00,  9.67it/s]\n"
          ]
        },
        {
          "output_type": "stream",
          "name": "stdout",
          "text": [
            "\tLoss: 0.0253\n"
          ]
        },
        {
          "output_type": "stream",
          "name": "stderr",
          "text": [
            "Training epoch 27 / 50: 100%|██████████| 118/118 [00:12<00:00,  9.29it/s]\n"
          ]
        },
        {
          "output_type": "stream",
          "name": "stdout",
          "text": [
            "\tLoss: 0.0249\n"
          ]
        },
        {
          "output_type": "stream",
          "name": "stderr",
          "text": [
            "Training epoch 28 / 50: 100%|██████████| 118/118 [00:12<00:00,  9.47it/s]\n"
          ]
        },
        {
          "output_type": "stream",
          "name": "stdout",
          "text": [
            "\tLoss: 0.0246\n"
          ]
        },
        {
          "output_type": "stream",
          "name": "stderr",
          "text": [
            "Training epoch 29 / 50: 100%|██████████| 118/118 [00:14<00:00,  8.17it/s]\n"
          ]
        },
        {
          "output_type": "stream",
          "name": "stdout",
          "text": [
            "\tLoss: 0.0244\n"
          ]
        },
        {
          "output_type": "stream",
          "name": "stderr",
          "text": [
            "Training epoch 30 / 50: 100%|██████████| 118/118 [00:13<00:00,  8.81it/s]\n"
          ]
        },
        {
          "output_type": "stream",
          "name": "stdout",
          "text": [
            "\tLoss: 0.024\n"
          ]
        },
        {
          "output_type": "stream",
          "name": "stderr",
          "text": [
            "Training epoch 31 / 50: 100%|██████████| 118/118 [00:13<00:00,  8.97it/s]\n"
          ]
        },
        {
          "output_type": "stream",
          "name": "stdout",
          "text": [
            "\tLoss: 0.0239\n"
          ]
        },
        {
          "output_type": "stream",
          "name": "stderr",
          "text": [
            "Training epoch 32 / 50: 100%|██████████| 118/118 [00:15<00:00,  7.46it/s]\n"
          ]
        },
        {
          "output_type": "stream",
          "name": "stdout",
          "text": [
            "\tLoss: 0.0236\n"
          ]
        },
        {
          "output_type": "stream",
          "name": "stderr",
          "text": [
            "Training epoch 33 / 50: 100%|██████████| 118/118 [00:13<00:00,  8.54it/s]\n"
          ]
        },
        {
          "output_type": "stream",
          "name": "stdout",
          "text": [
            "\tLoss: 0.0234\n"
          ]
        },
        {
          "output_type": "stream",
          "name": "stderr",
          "text": [
            "Training epoch 34 / 50: 100%|██████████| 118/118 [00:13<00:00,  8.72it/s]\n"
          ]
        },
        {
          "output_type": "stream",
          "name": "stdout",
          "text": [
            "\tLoss: 0.0232\n"
          ]
        },
        {
          "output_type": "stream",
          "name": "stderr",
          "text": [
            "Training epoch 35 / 50: 100%|██████████| 118/118 [00:15<00:00,  7.62it/s]\n"
          ]
        },
        {
          "output_type": "stream",
          "name": "stdout",
          "text": [
            "\tLoss: 0.0228\n"
          ]
        },
        {
          "output_type": "stream",
          "name": "stderr",
          "text": [
            "Training epoch 36 / 50: 100%|██████████| 118/118 [00:11<00:00, 10.67it/s]\n"
          ]
        },
        {
          "output_type": "stream",
          "name": "stdout",
          "text": [
            "\tLoss: 0.0227\n"
          ]
        },
        {
          "output_type": "stream",
          "name": "stderr",
          "text": [
            "Training epoch 37 / 50: 100%|██████████| 118/118 [00:11<00:00, 10.28it/s]\n"
          ]
        },
        {
          "output_type": "stream",
          "name": "stdout",
          "text": [
            "\tLoss: 0.0224\n"
          ]
        },
        {
          "output_type": "stream",
          "name": "stderr",
          "text": [
            "Training epoch 38 / 50: 100%|██████████| 118/118 [00:13<00:00,  8.78it/s]\n"
          ]
        },
        {
          "output_type": "stream",
          "name": "stdout",
          "text": [
            "\tLoss: 0.0223\n"
          ]
        },
        {
          "output_type": "stream",
          "name": "stderr",
          "text": [
            "Training epoch 39 / 50: 100%|██████████| 118/118 [00:11<00:00, 10.11it/s]\n"
          ]
        },
        {
          "output_type": "stream",
          "name": "stdout",
          "text": [
            "\tLoss: 0.0221\n"
          ]
        },
        {
          "output_type": "stream",
          "name": "stderr",
          "text": [
            "Training epoch 40 / 50: 100%|██████████| 118/118 [00:15<00:00,  7.65it/s]\n"
          ]
        },
        {
          "output_type": "stream",
          "name": "stdout",
          "text": [
            "\tLoss: 0.0218\n"
          ]
        },
        {
          "output_type": "stream",
          "name": "stderr",
          "text": [
            "Training epoch 41 / 50: 100%|██████████| 118/118 [00:13<00:00,  8.77it/s]\n"
          ]
        },
        {
          "output_type": "stream",
          "name": "stdout",
          "text": [
            "\tLoss: 0.0218\n"
          ]
        },
        {
          "output_type": "stream",
          "name": "stderr",
          "text": [
            "Training epoch 42 / 50: 100%|██████████| 118/118 [00:10<00:00, 10.73it/s]\n"
          ]
        },
        {
          "output_type": "stream",
          "name": "stdout",
          "text": [
            "\tLoss: 0.0217\n"
          ]
        },
        {
          "output_type": "stream",
          "name": "stderr",
          "text": [
            "Training epoch 43 / 50: 100%|██████████| 118/118 [00:11<00:00, 10.68it/s]\n"
          ]
        },
        {
          "output_type": "stream",
          "name": "stdout",
          "text": [
            "\tLoss: 0.0213\n"
          ]
        },
        {
          "output_type": "stream",
          "name": "stderr",
          "text": [
            "Training epoch 44 / 50: 100%|██████████| 118/118 [00:11<00:00, 10.62it/s]\n"
          ]
        },
        {
          "output_type": "stream",
          "name": "stdout",
          "text": [
            "\tLoss: 0.0212\n"
          ]
        },
        {
          "output_type": "stream",
          "name": "stderr",
          "text": [
            "Training epoch 45 / 50: 100%|██████████| 118/118 [00:12<00:00,  9.47it/s]\n"
          ]
        },
        {
          "output_type": "stream",
          "name": "stdout",
          "text": [
            "\tLoss: 0.0209\n"
          ]
        },
        {
          "output_type": "stream",
          "name": "stderr",
          "text": [
            "Training epoch 46 / 50: 100%|██████████| 118/118 [00:11<00:00, 10.72it/s]\n"
          ]
        },
        {
          "output_type": "stream",
          "name": "stdout",
          "text": [
            "\tLoss: 0.0209\n"
          ]
        },
        {
          "output_type": "stream",
          "name": "stderr",
          "text": [
            "Training epoch 47 / 50: 100%|██████████| 118/118 [00:10<00:00, 10.82it/s]\n"
          ]
        },
        {
          "output_type": "stream",
          "name": "stdout",
          "text": [
            "\tLoss: 0.0207\n"
          ]
        },
        {
          "output_type": "stream",
          "name": "stderr",
          "text": [
            "Training epoch 48 / 50: 100%|██████████| 118/118 [00:11<00:00, 10.70it/s]\n"
          ]
        },
        {
          "output_type": "stream",
          "name": "stdout",
          "text": [
            "\tLoss: 0.0206\n"
          ]
        },
        {
          "output_type": "stream",
          "name": "stderr",
          "text": [
            "Training epoch 49 / 50: 100%|██████████| 118/118 [00:10<00:00, 10.82it/s]\n"
          ]
        },
        {
          "output_type": "stream",
          "name": "stdout",
          "text": [
            "\tLoss: 0.0206\n"
          ]
        },
        {
          "output_type": "stream",
          "name": "stderr",
          "text": [
            "Training epoch 50 / 50: 100%|██████████| 118/118 [00:11<00:00, 10.68it/s]"
          ]
        },
        {
          "output_type": "stream",
          "name": "stdout",
          "text": [
            "\tLoss: 0.0201\n"
          ]
        },
        {
          "output_type": "stream",
          "name": "stderr",
          "text": [
            "\n"
          ]
        }
      ]
    },
    {
      "cell_type": "code",
      "source": [
        "''' In this cell we test the fully-connected inverser autoencoder '''\n",
        "\n",
        "# plot loss history\n",
        "plt.plot(fc_loss_history, label='FC InverserAutoencoder Train Loss')\n",
        "plt.legend()\n",
        "plt.show()\n",
        "print()\n",
        "\n",
        "# calculate test loss\n",
        "test_loss = test_model(fc_inverser, fc_preprocess)\n",
        "print(f'\\tFC InverserAutoencoder Test loss: {round(test_loss,4)}')\n",
        "\n",
        "# calculate loss per pair of encoder-decoder layers\n",
        "print()\n",
        "pair_losses = test_model_inversion(fc_inverser, fc_preprocess)\n",
        "for i, pair_loss in enumerate(pair_losses):\n",
        "    print(f'\\tInversion loss between encoder-decoder pair {i} of FC InverserAutoencoder:',\n",
        "          f'{round(pair_losses[i],4)}')\n",
        "\n",
        "# calculate the part of the first (furthest) encoder-decoder pair in the total loss\n",
        "furthest_pair_loss_part = pair_losses[0] / sum(pair_losses)\n",
        "print(f'\\nThe loss between the furthest pair of encoder-decoder layers in FC',\n",
        "      f'InverserAutoencoderis is {round(furthest_pair_loss_part,4)*100}% of the',\n",
        "      'total test loss.')\n",
        "\n",
        "# test the model's behavior with noisy encodings\n",
        "print()\n",
        "test_noise_behavior(fc_inverser, fc_preprocess, fc_postprocess)"
      ],
      "metadata": {
        "colab": {
          "base_uri": "https://localhost:8080/",
          "height": 932
        },
        "id": "wQqOGlCFtUu8",
        "outputId": "0703a523-5cfd-4eaf-8321-3377721f8f57"
      },
      "execution_count": null,
      "outputs": [
        {
          "output_type": "display_data",
          "data": {
            "text/plain": [
              "<Figure size 432x288 with 1 Axes>"
            ],
            "image/png": "[encoded data removed]"
          },
          "metadata": {
            "needs_background": "light"
          }
        },
        {
          "output_type": "stream",
          "name": "stdout",
          "text": [
            "\n"
          ]
        },
        {
          "output_type": "stream",
          "name": "stderr",
          "text": [
            "Testing: 100%|██████████| 20/20 [00:03<00:00,  6.45it/s]\n"
          ]
        },
        {
          "output_type": "stream",
          "name": "stdout",
          "text": [
            "\tFC InverserAutoencoder Test loss: 0.0207\n",
            "\n"
          ]
        },
        {
          "output_type": "stream",
          "name": "stderr",
          "text": [
            "Testing inversion: 100%|██████████| 20/20 [00:02<00:00,  8.32it/s]\n"
          ]
        },
        {
          "output_type": "stream",
          "name": "stdout",
          "text": [
            "\tInversion loss between encoder-decoder pair 0 of FC InverserAutoencoder: 0.0197\n",
            "\tInversion loss between encoder-decoder pair 1 of FC InverserAutoencoder: 0.0006\n",
            "\tInversion loss between encoder-decoder pair 2 of FC InverserAutoencoder: 0.0002\n",
            "\tInversion loss between encoder-decoder pair 3 of FC InverserAutoencoder: 0.0001\n",
            "\tInversion loss between encoder-decoder pair 4 of FC InverserAutoencoder: 0.0001\n",
            "\n",
            "The loss between the furthest pair of encoder-decoder layers in FC InverserAutoencoderis is 95.16% of the total test loss.\n",
            "\n"
          ]
        },
        {
          "output_type": "display_data",
          "data": {
            "text/plain": [
              "<Figure size 720x720 with 3 Axes>"
            ],
            "image/png": "[encoded data removed]"
          },
          "metadata": {
            "needs_background": "light"
          }
        },
        {
          "output_type": "display_data",
          "data": {
            "text/plain": [
              "<Figure size 432x288 with 1 Axes>"
            ],
            "image/png": "[encoded data removed]"
          },
          "metadata": {
            "needs_background": "light"
          }
        }
      ]
    },
    {
      "cell_type": "code",
      "source": [
        "# visualize the output of the model for a few test samples\n",
        "num_samples = 10\n",
        "visualize_model_results(fc_inverser, num_samples, fc_preprocess, fc_postprocess)"
      ],
      "metadata": {
        "colab": {
          "base_uri": "https://localhost:8080/",
          "height": 1000
        },
        "id": "hrZa7MmCpZB1",
        "outputId": "cf01a108-0d2f-49eb-f0eb-7bd3b155b681"
      },
      "execution_count": null,
      "outputs": [
        {
          "output_type": "display_data",
          "data": {
            "text/plain": [
              "<Figure size 432x288 with 2 Axes>"
            ],
            "image/png": "[encoded data removed]"
          },
          "metadata": {
            "needs_background": "light"
          }
        },
        {
          "output_type": "display_data",
          "data": {
            "text/plain": [
              "<Figure size 432x288 with 2 Axes>"
            ],
            "image/png": "[encoded data removed]"
          },
          "metadata": {
            "needs_background": "light"
          }
        },
        {
          "output_type": "display_data",
          "data": {
            "text/plain": [
              "<Figure size 432x288 with 2 Axes>"
            ],
            "image/png": "[encoded data removed]"
          },
          "metadata": {
            "needs_background": "light"
          }
        },
        {
          "output_type": "display_data",
          "data": {
            "text/plain": [
              "<Figure size 432x288 with 2 Axes>"
            ],
            "image/png": "[encoded data removed]"
          },
          "metadata": {
            "needs_background": "light"
          }
        },
        {
          "output_type": "display_data",
          "data": {
            "text/plain": [
              "<Figure size 432x288 with 2 Axes>"
            ],
            "image/png": "[encoded data removed]"
          },
          "metadata": {
            "needs_background": "light"
          }
        },
        {
          "output_type": "display_data",
          "data": {
            "text/plain": [
              "<Figure size 432x288 with 2 Axes>"
            ],
            "image/png": "[encoded data removed]"
          },
          "metadata": {
            "needs_background": "light"
          }
        },
        {
          "output_type": "display_data",
          "data": {
            "text/plain": [
              "<Figure size 432x288 with 2 Axes>"
            ],
            "image/png": "[encoded data removed]"
          },
          "metadata": {
            "needs_background": "light"
          }
        },
        {
          "output_type": "display_data",
          "data": {
            "text/plain": [
              "<Figure size 432x288 with 2 Axes>"
            ],
            "image/png": "[encoded data removed]"
          },
          "metadata": {
            "needs_background": "light"
          }
        },
        {
          "output_type": "display_data",
          "data": {
            "text/plain": [
              "<Figure size 432x288 with 2 Axes>"
            ],
            "image/png": "[encoded data removed]"
          },
          "metadata": {
            "needs_background": "light"
          }
        },
        {
          "output_type": "display_data",
          "data": {
            "text/plain": [
              "<Figure size 432x288 with 2 Axes>"
            ],
            "image/png": "[encoded data removed]"
          },
          "metadata": {
            "needs_background": "light"
          }
        }
      ]
    },
    {
      "cell_type": "markdown",
      "source": [
        "## Fitting & Testing a Fully-Convolutional Inverser Autoencoder on MNIST"
      ],
      "metadata": {
        "id": "14T3iYOXZJkA"
      }
    },
    {
      "cell_type": "code",
      "source": [
        "''' In this cell we create a fully-convolutional version of InverserAutoencoder '''\n",
        "\n",
        "# a constructor for internal encoder layers of the model: Conv2d + LeakyReLU\n",
        "encoder_layers_const = lambda args_dict: nn.Sequential(\n",
        "    torch.nn.Conv2d(args_dict['in_channels'], args_dict['out_channels'],\n",
        "                    args_dict['kernel_size'], args_dict['stride'],\n",
        "                    args_dict['padding']),\n",
        "    nn.LeakyReLU())\n",
        "\n",
        "# a constructor for inverse decoder layers of the model: ConvTranspose2d + LeakyReLU\n",
        "decoder_layers_const = lambda args_dict: nn.Sequential(\n",
        "    torch.nn.ConvTranspose2d(args_dict['out_channels'], args_dict['in_channels'],\n",
        "                             args_dict['kernel_size'], args_dict['stride'],\n",
        "                             args_dict['padding']),\n",
        "    nn.LeakyReLU())\n",
        "\n",
        "# the first encoder layer will be just as the others, preparing for 1 channel input\n",
        "first_encoder_layer = encoder_layers_const(\n",
        "    {'in_channels': 1, 'out_channels': 2,\n",
        "     'kernel_size': 4, 'stride': 2, 'padding': 3}) # output shape (2,16,16)\n",
        "\n",
        "# the matching last decoder layer is a bit special - it uses sigmoid activation to \n",
        "# produce pixel values bwwteen 0.0 and 1.0\n",
        "last_decoder_layer = nn.Sequential(\n",
        "    torch.nn.ConvTranspose2d(in_channels=2, out_channels=1,\n",
        "                             kernel_size=4, stride=2, padding=3),\n",
        "    nn.Sigmoid())\n",
        "\n",
        "# these are argument lists we will use to produce the internal layers\n",
        "layers_args_list = [{'in_channels': 2, 'out_channels': 4, # output shape (4,8,8)\n",
        "                      'kernel_size': 4, 'stride': 2, 'padding': 1},\n",
        "                    {'in_channels': 4, 'out_channels': 8, # output shape (8,4,4)\n",
        "                      'kernel_size': 4, 'stride': 2, 'padding': 1},\n",
        "                    {'in_channels': 8, 'out_channels': 16, # output shape (16,2,2)\n",
        "                      'kernel_size': 4, 'stride': 2, 'padding': 1},\n",
        "                    {'in_channels': 16, 'out_channels': 32, # output shape (32,1,1)\n",
        "                      'kernel_size': 4, 'stride': 2, 'padding': 1}]\n",
        "# create the model\n",
        "conv_inverser = InverserAutoencoder(encoder_layers_const, decoder_layers_const,\n",
        "                                  layers_args_list, first_encoder_layer,\n",
        "                                  last_decoder_layer).to(device)\n",
        "\n",
        "# to ensure shapes are appropriate, let's test the model on some train samples\n",
        "print('Testing input & output shapes of the fully-convolutional inverser autoencoder:')\n",
        "sample = train_data[0][0].to(device)\n",
        "conv_inverser(sample)\n",
        "for i, (encoder_input, decoder_output) in enumerate(zip(conv_inverser.encoder_inputs,\n",
        "                                                        conv_inverser.decoder_outputs)):\n",
        "    print(f'\\tEncder input {i} shape: {tuple(encoder_input.shape)} |',\n",
        "          f'Decoder output {i} shape: {tuple(decoder_output.shape)}')"
      ],
      "metadata": {
        "colab": {
          "base_uri": "https://localhost:8080/"
        },
        "id": "1aHzG5yxuqjK",
        "outputId": "cf86770f-42e6-42f9-f99f-0a5d7a30ed61"
      },
      "execution_count": null,
      "outputs": [
        {
          "output_type": "stream",
          "name": "stdout",
          "text": [
            "Testing input & output shapes of the fully-convolutional inverser autoencoder:\n",
            "\tEncder input 0 shape: (1, 28, 28) | Decoder output 0 shape: (1, 28, 28)\n",
            "\tEncder input 1 shape: (2, 16, 16) | Decoder output 1 shape: (2, 16, 16)\n",
            "\tEncder input 2 shape: (4, 8, 8) | Decoder output 2 shape: (4, 8, 8)\n",
            "\tEncder input 3 shape: (8, 4, 4) | Decoder output 3 shape: (8, 4, 4)\n",
            "\tEncder input 4 shape: (16, 2, 2) | Decoder output 4 shape: (16, 2, 2)\n"
          ]
        }
      ]
    },
    {
      "cell_type": "code",
      "source": [
        "# attach optimizer to the model and fit it\n",
        "optimizer = torch.optim.Adam(conv_inverser.parameters(), lr=3e-3)\n",
        "conv_loss_history = train_model(conv_inverser, optimizer, epochs=50)"
      ],
      "metadata": {
        "colab": {
          "base_uri": "https://localhost:8080/"
        },
        "id": "iMGuIgLF1kuy",
        "outputId": "09c4d624-562c-44cb-8724-a0738390b12d"
      },
      "execution_count": null,
      "outputs": [
        {
          "output_type": "stream",
          "name": "stderr",
          "text": [
            "Training epoch 1 / 50: 100%|██████████| 118/118 [00:12<00:00,  9.79it/s]\n"
          ]
        },
        {
          "output_type": "stream",
          "name": "stdout",
          "text": [
            "\tLoss: 0.1846\n"
          ]
        },
        {
          "output_type": "stream",
          "name": "stderr",
          "text": [
            "Training epoch 2 / 50: 100%|██████████| 118/118 [00:10<00:00, 10.77it/s]\n"
          ]
        },
        {
          "output_type": "stream",
          "name": "stdout",
          "text": [
            "\tLoss: 0.1193\n"
          ]
        },
        {
          "output_type": "stream",
          "name": "stderr",
          "text": [
            "Training epoch 3 / 50: 100%|██████████| 118/118 [00:11<00:00, 10.69it/s]\n"
          ]
        },
        {
          "output_type": "stream",
          "name": "stdout",
          "text": [
            "\tLoss: 0.0832\n"
          ]
        },
        {
          "output_type": "stream",
          "name": "stderr",
          "text": [
            "Training epoch 4 / 50: 100%|██████████| 118/118 [00:11<00:00, 10.68it/s]\n"
          ]
        },
        {
          "output_type": "stream",
          "name": "stdout",
          "text": [
            "\tLoss: 0.0723\n"
          ]
        },
        {
          "output_type": "stream",
          "name": "stderr",
          "text": [
            "Training epoch 5 / 50: 100%|██████████| 118/118 [00:11<00:00, 10.66it/s]\n"
          ]
        },
        {
          "output_type": "stream",
          "name": "stdout",
          "text": [
            "\tLoss: 0.0637\n"
          ]
        },
        {
          "output_type": "stream",
          "name": "stderr",
          "text": [
            "Training epoch 6 / 50: 100%|██████████| 118/118 [00:11<00:00, 10.70it/s]\n"
          ]
        },
        {
          "output_type": "stream",
          "name": "stdout",
          "text": [
            "\tLoss: 0.0588\n"
          ]
        },
        {
          "output_type": "stream",
          "name": "stderr",
          "text": [
            "Training epoch 7 / 50: 100%|██████████| 118/118 [00:11<00:00, 10.56it/s]\n"
          ]
        },
        {
          "output_type": "stream",
          "name": "stdout",
          "text": [
            "\tLoss: 0.0547\n"
          ]
        },
        {
          "output_type": "stream",
          "name": "stderr",
          "text": [
            "Training epoch 8 / 50: 100%|██████████| 118/118 [00:11<00:00, 10.64it/s]\n"
          ]
        },
        {
          "output_type": "stream",
          "name": "stdout",
          "text": [
            "\tLoss: 0.0508\n"
          ]
        },
        {
          "output_type": "stream",
          "name": "stderr",
          "text": [
            "Training epoch 9 / 50: 100%|██████████| 118/118 [00:11<00:00, 10.54it/s]\n"
          ]
        },
        {
          "output_type": "stream",
          "name": "stdout",
          "text": [
            "\tLoss: 0.0472\n"
          ]
        },
        {
          "output_type": "stream",
          "name": "stderr",
          "text": [
            "Training epoch 10 / 50: 100%|██████████| 118/118 [00:11<00:00, 10.64it/s]\n"
          ]
        },
        {
          "output_type": "stream",
          "name": "stdout",
          "text": [
            "\tLoss: 0.0439\n"
          ]
        },
        {
          "output_type": "stream",
          "name": "stderr",
          "text": [
            "Training epoch 11 / 50: 100%|██████████| 118/118 [00:12<00:00,  9.63it/s]\n"
          ]
        },
        {
          "output_type": "stream",
          "name": "stdout",
          "text": [
            "\tLoss: 0.0409\n"
          ]
        },
        {
          "output_type": "stream",
          "name": "stderr",
          "text": [
            "Training epoch 12 / 50: 100%|██████████| 118/118 [00:14<00:00,  8.07it/s]\n"
          ]
        },
        {
          "output_type": "stream",
          "name": "stdout",
          "text": [
            "\tLoss: 0.0383\n"
          ]
        },
        {
          "output_type": "stream",
          "name": "stderr",
          "text": [
            "Training epoch 13 / 50: 100%|██████████| 118/118 [00:12<00:00,  9.58it/s]\n"
          ]
        },
        {
          "output_type": "stream",
          "name": "stdout",
          "text": [
            "\tLoss: 0.0359\n"
          ]
        },
        {
          "output_type": "stream",
          "name": "stderr",
          "text": [
            "Training epoch 14 / 50: 100%|██████████| 118/118 [00:16<00:00,  7.14it/s]\n"
          ]
        },
        {
          "output_type": "stream",
          "name": "stdout",
          "text": [
            "\tLoss: 0.034\n"
          ]
        },
        {
          "output_type": "stream",
          "name": "stderr",
          "text": [
            "Training epoch 15 / 50: 100%|██████████| 118/118 [00:12<00:00,  9.12it/s]\n"
          ]
        },
        {
          "output_type": "stream",
          "name": "stdout",
          "text": [
            "\tLoss: 0.0323\n"
          ]
        },
        {
          "output_type": "stream",
          "name": "stderr",
          "text": [
            "Training epoch 16 / 50: 100%|██████████| 118/118 [00:15<00:00,  7.76it/s]\n"
          ]
        },
        {
          "output_type": "stream",
          "name": "stdout",
          "text": [
            "\tLoss: 0.0306\n"
          ]
        },
        {
          "output_type": "stream",
          "name": "stderr",
          "text": [
            "Training epoch 17 / 50: 100%|██████████| 118/118 [00:10<00:00, 10.76it/s]\n"
          ]
        },
        {
          "output_type": "stream",
          "name": "stdout",
          "text": [
            "\tLoss: 0.0291\n"
          ]
        },
        {
          "output_type": "stream",
          "name": "stderr",
          "text": [
            "Training epoch 18 / 50: 100%|██████████| 118/118 [00:11<00:00, 10.65it/s]\n"
          ]
        },
        {
          "output_type": "stream",
          "name": "stdout",
          "text": [
            "\tLoss: 0.0279\n"
          ]
        },
        {
          "output_type": "stream",
          "name": "stderr",
          "text": [
            "Training epoch 19 / 50: 100%|██████████| 118/118 [00:11<00:00, 10.61it/s]\n"
          ]
        },
        {
          "output_type": "stream",
          "name": "stdout",
          "text": [
            "\tLoss: 0.0269\n"
          ]
        },
        {
          "output_type": "stream",
          "name": "stderr",
          "text": [
            "Training epoch 20 / 50: 100%|██████████| 118/118 [00:13<00:00,  8.60it/s]\n"
          ]
        },
        {
          "output_type": "stream",
          "name": "stdout",
          "text": [
            "\tLoss: 0.0257\n"
          ]
        },
        {
          "output_type": "stream",
          "name": "stderr",
          "text": [
            "Training epoch 21 / 50: 100%|██████████| 118/118 [00:15<00:00,  7.60it/s]\n"
          ]
        },
        {
          "output_type": "stream",
          "name": "stdout",
          "text": [
            "\tLoss: 0.0249\n"
          ]
        },
        {
          "output_type": "stream",
          "name": "stderr",
          "text": [
            "Training epoch 22 / 50: 100%|██████████| 118/118 [00:11<00:00, 10.08it/s]\n"
          ]
        },
        {
          "output_type": "stream",
          "name": "stdout",
          "text": [
            "\tLoss: 0.024\n"
          ]
        },
        {
          "output_type": "stream",
          "name": "stderr",
          "text": [
            "Training epoch 23 / 50: 100%|██████████| 118/118 [00:14<00:00,  8.03it/s]\n"
          ]
        },
        {
          "output_type": "stream",
          "name": "stdout",
          "text": [
            "\tLoss: 0.0234\n"
          ]
        },
        {
          "output_type": "stream",
          "name": "stderr",
          "text": [
            "Training epoch 24 / 50: 100%|██████████| 118/118 [00:11<00:00, 10.01it/s]\n"
          ]
        },
        {
          "output_type": "stream",
          "name": "stdout",
          "text": [
            "\tLoss: 0.0227\n"
          ]
        },
        {
          "output_type": "stream",
          "name": "stderr",
          "text": [
            "Training epoch 25 / 50: 100%|██████████| 118/118 [00:11<00:00,  9.98it/s]\n"
          ]
        },
        {
          "output_type": "stream",
          "name": "stdout",
          "text": [
            "\tLoss: 0.022\n"
          ]
        },
        {
          "output_type": "stream",
          "name": "stderr",
          "text": [
            "Training epoch 26 / 50: 100%|██████████| 118/118 [00:12<00:00,  9.24it/s]\n"
          ]
        },
        {
          "output_type": "stream",
          "name": "stdout",
          "text": [
            "\tLoss: 0.0214\n"
          ]
        },
        {
          "output_type": "stream",
          "name": "stderr",
          "text": [
            "Training epoch 27 / 50: 100%|██████████| 118/118 [00:14<00:00,  8.30it/s]\n"
          ]
        },
        {
          "output_type": "stream",
          "name": "stdout",
          "text": [
            "\tLoss: 0.021\n"
          ]
        },
        {
          "output_type": "stream",
          "name": "stderr",
          "text": [
            "Training epoch 28 / 50: 100%|██████████| 118/118 [00:13<00:00,  8.66it/s]\n"
          ]
        },
        {
          "output_type": "stream",
          "name": "stdout",
          "text": [
            "\tLoss: 0.0207\n"
          ]
        },
        {
          "output_type": "stream",
          "name": "stderr",
          "text": [
            "Training epoch 29 / 50: 100%|██████████| 118/118 [00:14<00:00,  8.24it/s]\n"
          ]
        },
        {
          "output_type": "stream",
          "name": "stdout",
          "text": [
            "\tLoss: 0.0202\n"
          ]
        },
        {
          "output_type": "stream",
          "name": "stderr",
          "text": [
            "Training epoch 30 / 50: 100%|██████████| 118/118 [00:15<00:00,  7.75it/s]\n"
          ]
        },
        {
          "output_type": "stream",
          "name": "stdout",
          "text": [
            "\tLoss: 0.0196\n"
          ]
        },
        {
          "output_type": "stream",
          "name": "stderr",
          "text": [
            "Training epoch 31 / 50: 100%|██████████| 118/118 [00:15<00:00,  7.41it/s]\n"
          ]
        },
        {
          "output_type": "stream",
          "name": "stdout",
          "text": [
            "\tLoss: 0.0195\n"
          ]
        },
        {
          "output_type": "stream",
          "name": "stderr",
          "text": [
            "Training epoch 32 / 50: 100%|██████████| 118/118 [00:13<00:00,  8.69it/s]\n"
          ]
        },
        {
          "output_type": "stream",
          "name": "stdout",
          "text": [
            "\tLoss: 0.019\n"
          ]
        },
        {
          "output_type": "stream",
          "name": "stderr",
          "text": [
            "Training epoch 33 / 50: 100%|██████████| 118/118 [00:13<00:00,  8.85it/s]\n"
          ]
        },
        {
          "output_type": "stream",
          "name": "stdout",
          "text": [
            "\tLoss: 0.0187\n"
          ]
        },
        {
          "output_type": "stream",
          "name": "stderr",
          "text": [
            "Training epoch 34 / 50: 100%|██████████| 118/118 [00:12<00:00,  9.71it/s]\n"
          ]
        },
        {
          "output_type": "stream",
          "name": "stdout",
          "text": [
            "\tLoss: 0.0186\n"
          ]
        },
        {
          "output_type": "stream",
          "name": "stderr",
          "text": [
            "Training epoch 35 / 50: 100%|██████████| 118/118 [00:15<00:00,  7.44it/s]\n"
          ]
        },
        {
          "output_type": "stream",
          "name": "stdout",
          "text": [
            "\tLoss: 0.0181\n"
          ]
        },
        {
          "output_type": "stream",
          "name": "stderr",
          "text": [
            "Training epoch 36 / 50: 100%|██████████| 118/118 [00:14<00:00,  8.17it/s]\n"
          ]
        },
        {
          "output_type": "stream",
          "name": "stdout",
          "text": [
            "\tLoss: 0.018\n"
          ]
        },
        {
          "output_type": "stream",
          "name": "stderr",
          "text": [
            "Training epoch 37 / 50: 100%|██████████| 118/118 [00:15<00:00,  7.60it/s]\n"
          ]
        },
        {
          "output_type": "stream",
          "name": "stdout",
          "text": [
            "\tLoss: 0.0178\n"
          ]
        },
        {
          "output_type": "stream",
          "name": "stderr",
          "text": [
            "Training epoch 38 / 50: 100%|██████████| 118/118 [00:17<00:00,  6.87it/s]\n"
          ]
        },
        {
          "output_type": "stream",
          "name": "stdout",
          "text": [
            "\tLoss: 0.0174\n"
          ]
        },
        {
          "output_type": "stream",
          "name": "stderr",
          "text": [
            "Training epoch 39 / 50: 100%|██████████| 118/118 [00:11<00:00, 10.48it/s]\n"
          ]
        },
        {
          "output_type": "stream",
          "name": "stdout",
          "text": [
            "\tLoss: 0.0174\n"
          ]
        },
        {
          "output_type": "stream",
          "name": "stderr",
          "text": [
            "Training epoch 40 / 50: 100%|██████████| 118/118 [00:11<00:00, 10.61it/s]\n"
          ]
        },
        {
          "output_type": "stream",
          "name": "stdout",
          "text": [
            "\tLoss: 0.0173\n"
          ]
        },
        {
          "output_type": "stream",
          "name": "stderr",
          "text": [
            "Training epoch 41 / 50: 100%|██████████| 118/118 [00:11<00:00, 10.64it/s]\n"
          ]
        },
        {
          "output_type": "stream",
          "name": "stdout",
          "text": [
            "\tLoss: 0.0169\n"
          ]
        },
        {
          "output_type": "stream",
          "name": "stderr",
          "text": [
            "Training epoch 42 / 50: 100%|██████████| 118/118 [00:11<00:00, 10.67it/s]\n"
          ]
        },
        {
          "output_type": "stream",
          "name": "stdout",
          "text": [
            "\tLoss: 0.0168\n"
          ]
        },
        {
          "output_type": "stream",
          "name": "stderr",
          "text": [
            "Training epoch 43 / 50: 100%|██████████| 118/118 [00:15<00:00,  7.57it/s]\n"
          ]
        },
        {
          "output_type": "stream",
          "name": "stdout",
          "text": [
            "\tLoss: 0.0166\n"
          ]
        },
        {
          "output_type": "stream",
          "name": "stderr",
          "text": [
            "Training epoch 44 / 50: 100%|██████████| 118/118 [00:14<00:00,  8.27it/s]\n"
          ]
        },
        {
          "output_type": "stream",
          "name": "stdout",
          "text": [
            "\tLoss: 0.0164\n"
          ]
        },
        {
          "output_type": "stream",
          "name": "stderr",
          "text": [
            "Training epoch 45 / 50: 100%|██████████| 118/118 [00:18<00:00,  6.52it/s]\n"
          ]
        },
        {
          "output_type": "stream",
          "name": "stdout",
          "text": [
            "\tLoss: 0.0163\n"
          ]
        },
        {
          "output_type": "stream",
          "name": "stderr",
          "text": [
            "Training epoch 46 / 50: 100%|██████████| 118/118 [00:16<00:00,  7.24it/s]\n"
          ]
        },
        {
          "output_type": "stream",
          "name": "stdout",
          "text": [
            "\tLoss: 0.0161\n"
          ]
        },
        {
          "output_type": "stream",
          "name": "stderr",
          "text": [
            "Training epoch 47 / 50: 100%|██████████| 118/118 [00:12<00:00,  9.44it/s]\n"
          ]
        },
        {
          "output_type": "stream",
          "name": "stdout",
          "text": [
            "\tLoss: 0.016\n"
          ]
        },
        {
          "output_type": "stream",
          "name": "stderr",
          "text": [
            "Training epoch 48 / 50: 100%|██████████| 118/118 [00:17<00:00,  6.88it/s]\n"
          ]
        },
        {
          "output_type": "stream",
          "name": "stdout",
          "text": [
            "\tLoss: 0.0157\n"
          ]
        },
        {
          "output_type": "stream",
          "name": "stderr",
          "text": [
            "Training epoch 49 / 50: 100%|██████████| 118/118 [00:15<00:00,  7.44it/s]\n"
          ]
        },
        {
          "output_type": "stream",
          "name": "stdout",
          "text": [
            "\tLoss: 0.0157\n"
          ]
        },
        {
          "output_type": "stream",
          "name": "stderr",
          "text": [
            "Training epoch 50 / 50: 100%|██████████| 118/118 [00:11<00:00,  9.89it/s]"
          ]
        },
        {
          "output_type": "stream",
          "name": "stdout",
          "text": [
            "\tLoss: 0.0156\n"
          ]
        },
        {
          "output_type": "stream",
          "name": "stderr",
          "text": [
            "\n"
          ]
        }
      ]
    },
    {
      "cell_type": "code",
      "source": [
        "''' In this cell we test the fully-convolutionl inverser autoencoder '''\n",
        "\n",
        "# plot loss history\n",
        "plt.plot(conv_loss_history, label='Conv InverserAutoencoder Train Loss')\n",
        "plt.legend()\n",
        "plt.show()\n",
        "\n",
        "# calculate test loss\n",
        "test_loss = test_model(conv_inverser)\n",
        "print(f'\\tConv InverserAutoencoder Test loss: {round(test_loss,4)}')\n",
        "\n",
        "# calculate loss per pair of encoder-decoder layers\n",
        "print()\n",
        "pair_losses = test_model_inversion(conv_inverser)\n",
        "print()\n",
        "for i, pair_loss in enumerate(pair_losses):\n",
        "    print(f'\\tInversion loss between encoder-decoder pair {i} of Conv InverserAutoencoder:',\n",
        "          f'{round(pair_losses[i],4)}')\n",
        "\n",
        "# calculate the part of the first (furthest) encoder-decoder pair in the total loss\n",
        "furthest_pair_loss_part = pair_losses[0] / sum(pair_losses)\n",
        "print(f'\\nThe loss between the furthest pair of encoder-decoder layers in Conv',\n",
        "      f'InverserAutoencoderis is {round(furthest_pair_loss_part,4)*100}% of the',\n",
        "      'total test loss.')\n",
        "\n",
        "# test the model's behavior with noisy encodings\n",
        "print()\n",
        "test_noise_behavior(conv_inverser)"
      ],
      "metadata": {
        "colab": {
          "base_uri": "https://localhost:8080/",
          "height": 932
        },
        "id": "41saQWq-5ETv",
        "outputId": "f1eb0341-0a2e-4cbd-ae65-7e1e3d5574cb"
      },
      "execution_count": null,
      "outputs": [
        {
          "output_type": "display_data",
          "data": {
            "text/plain": [
              "<Figure size 432x288 with 1 Axes>"
            ],
            "image/png": "[encoded data removed]"
          },
          "metadata": {
            "needs_background": "light"
          }
        },
        {
          "output_type": "stream",
          "name": "stderr",
          "text": [
            "Testing: 100%|██████████| 20/20 [00:02<00:00,  9.86it/s]\n"
          ]
        },
        {
          "output_type": "stream",
          "name": "stdout",
          "text": [
            "\tConv InverserAutoencoder Test loss: 0.0152\n",
            "\n"
          ]
        },
        {
          "output_type": "stream",
          "name": "stderr",
          "text": [
            "Testing inversion: 100%|██████████| 20/20 [00:01<00:00, 10.19it/s]\n"
          ]
        },
        {
          "output_type": "stream",
          "name": "stdout",
          "text": [
            "\n",
            "\tInversion loss between encoder-decoder pair 0 of Conv InverserAutoencoder: 0.0136\n",
            "\tInversion loss between encoder-decoder pair 1 of Conv InverserAutoencoder: 0.0012\n",
            "\tInversion loss between encoder-decoder pair 2 of Conv InverserAutoencoder: 0.0002\n",
            "\tInversion loss between encoder-decoder pair 3 of Conv InverserAutoencoder: 0.0001\n",
            "\tInversion loss between encoder-decoder pair 4 of Conv InverserAutoencoder: 0.0001\n",
            "\n",
            "The loss between the furthest pair of encoder-decoder layers in Conv InverserAutoencoderis is 89.27000000000001% of the total test loss.\n",
            "\n"
          ]
        },
        {
          "output_type": "display_data",
          "data": {
            "text/plain": [
              "<Figure size 720x720 with 3 Axes>"
            ],
            "image/png": "[encoded data removed]"
          },
          "metadata": {
            "needs_background": "light"
          }
        },
        {
          "output_type": "display_data",
          "data": {
            "text/plain": [
              "<Figure size 432x288 with 1 Axes>"
            ],
            "image/png": "[encoded data removed]"
          },
          "metadata": {
            "needs_background": "light"
          }
        }
      ]
    },
    {
      "cell_type": "code",
      "source": [
        "# visualize the output of the model for a few test samples\n",
        "num_samples = 10\n",
        "visualize_model_results(conv_inverser, num_samples)"
      ],
      "metadata": {
        "colab": {
          "base_uri": "https://localhost:8080/",
          "height": 1000
        },
        "id": "9lTA2k0O61TB",
        "outputId": "941185f8-05ae-455f-8587-66e34c27e42b"
      },
      "execution_count": null,
      "outputs": [
        {
          "output_type": "display_data",
          "data": {
            "text/plain": [
              "<Figure size 432x288 with 2 Axes>"
            ],
            "image/png": "[encoded data removed]"
          },
          "metadata": {
            "needs_background": "light"
          }
        },
        {
          "output_type": "display_data",
          "data": {
            "text/plain": [
              "<Figure size 432x288 with 2 Axes>"
            ],
            "image/png": "[encoded data removed]"
          },
          "metadata": {
            "needs_background": "light"
          }
        },
        {
          "output_type": "display_data",
          "data": {
            "text/plain": [
              "<Figure size 432x288 with 2 Axes>"
            ],
            "image/png": "[encoded data removed]"
          },
          "metadata": {
            "needs_background": "light"
          }
        },
        {
          "output_type": "display_data",
          "data": {
            "text/plain": [
              "<Figure size 432x288 with 2 Axes>"
            ],
            "image/png": "[encoded data removed]"
          },
          "metadata": {
            "needs_background": "light"
          }
        },
        {
          "output_type": "display_data",
          "data": {
            "text/plain": [
              "<Figure size 432x288 with 2 Axes>"
            ],
            "image/png": "[encoded data removed]"
          },
          "metadata": {
            "needs_background": "light"
          }
        },
        {
          "output_type": "display_data",
          "data": {
            "text/plain": [
              "<Figure size 432x288 with 2 Axes>"
            ],
            "image/png": "[encoded data removed]"
          },
          "metadata": {
            "needs_background": "light"
          }
        },
        {
          "output_type": "display_data",
          "data": {
            "text/plain": [
              "<Figure size 432x288 with 2 Axes>"
            ],
            "image/png": "[encoded data removed]"
          },
          "metadata": {
            "needs_background": "light"
          }
        },
        {
          "output_type": "display_data",
          "data": {
            "text/plain": [
              "<Figure size 432x288 with 2 Axes>"
            ],
            "image/png": "[encoded data removed]"
          },
          "metadata": {
            "needs_background": "light"
          }
        },
        {
          "output_type": "display_data",
          "data": {
            "text/plain": [
              "<Figure size 432x288 with 2 Axes>"
            ],
            "image/png": "[encoded data removed]"
          },
          "metadata": {
            "needs_background": "light"
          }
        },
        {
          "output_type": "display_data",
          "data": {
            "text/plain": [
              "<Figure size 432x288 with 2 Axes>"
            ],
            "image/png": "[encoded data removed]"
          },
          "metadata": {
            "needs_background": "light"
          }
        }
      ]
    },
    {
      "cell_type": "markdown",
      "source": [
        "## Analyzing the Results"
      ],
      "metadata": {
        "id": "yq1yLTu5sIDM"
      }
    },
    {
      "cell_type": "markdown",
      "source": [
        "### Key Differences Between the Models\n",
        "\n",
        "Let's first try to understand the difference both models have in nature.\n",
        "\n",
        "1. The first key difference is that the convolutional model, which uses local operations such as convolution and deconvolution, processes the samples and produces the decoded images *locally* - each layer operates in the same way around every area of the feature map. In contrast the FC version, which uses fully-connected layers, relate to each neuron (feature or pixel) as a *whole different unit*, and associates distinct set of parameters with it. What that implies about the models' nature is that the convolutional one **learns global actions** that should be applied all across the feature map, while the FC one learns to **associate the individual role of each pixel / feature**.\n",
        "\n",
        "2. The second key difference is the affect that each pixel or feature has on the ones that follow it. Both models should do the same thing - extract encodings and reproduce the features they collected along the way. The FC model uses fully-connected linear operations, which are global operations affected by *all neurons* in the previous layer. However, the convolutional model uses convolutions and deconvolutions in its layers, which are local operations affected by only a *small patch of neurons*. To achieve that same goal, each of the neurons in that small patch should have a much stronger effect in the calculations (in average), as there are less neurons to support the operation. In other words, generally **weights are much larger in the convolution model**."
      ],
      "metadata": {
        "id": "DIGKNrtxsN-x"
      }
    },
    {
      "cell_type": "markdown",
      "source": [
        "### Smoothness of Reproduced Images\n",
        "\n",
        "Let's start with the most protrusive difference between the models - the difference in the \"smoothness\" of the reproduced images. Clearly, the reproduced images created by the FC model are unusually \"smooth\", much more than the pretty-solid drawings of the convolutional decoder. The reason for that is the first key-difference mentioned in the previous cell - the fact that the FC model identifies the individual role of each pixel, and produces it independently of the others. *Mostly*, a pair of close pixels will have very close intensities in training image samples, so it's only natural that the FC model will learn reproduce them as **close functions** of the previous layer's activations.\n",
        "\n",
        "The only issue comes-up in the rare cases in which their intensities are actually different - the case in which those close pixels are located around an edge. Their reproduced parallels are still a pretty close function of the same variables (the neurons in the previous layer) - so they will actually be pretty close. I.e. - **reproduced pixel intensities around the edges are closer than they should be** - which leads to an unusual \"smoothness\" of the decoded images. The convolutional model suffers far less from this, as any pair of close pixels it produces are the same function of a close (but different) patch of neurons. Close patches may be close in activations, but since each of these activations have stronger effect (see key difference 1), that small variance leads to sharper changes in intensities.\n",
        "\n",
        "* Reconstructoed image produced by the FC autoencoder:\n",
        "\n",
        "  ![4.png](data:image/png;base64,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)\n",
        "\n",
        "* Reconstructoed image produced by the convolutional autoencoder:\n",
        "\n",
        "  ![הורדה.png](data:image/png;base64,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)"
      ],
      "metadata": {
        "id": "o1fGvL430WtB"
      }
    },
    {
      "cell_type": "markdown",
      "source": [
        "### Decoders Behavior on Noisy Encodings\n",
        "\n",
        "We can also infer a great deal about the models if we look at the results of the additional test I performed - the behavior of the decoders around noise.\n",
        "\n",
        "Let's start with the images the encoders produced when we fed random noise through them. Those images represent ***the deep nature of the latent encodings they learned to create and decipher***. The difference between them is actually dramatic. Beyond the difference in smoothness which we covered in the previous cell, there is a protrusive difference between the apparent patterns they produced.\n",
        "\n",
        "It seems like the convolutional model uses its learned latent encodings to generate mainly solid twists of strong black-to-white edges, located evenly all across the \"canvas\". This makes sense as it uses deconvolutions - which are very local operations (especially in our case - in which we use tiny 4x4 kernels). So, the information it learned to embed in its latent encoding relate to what it knows should be in small patches across the training images - which are mainly black-to-white edges. Those are evenly distributed as it can't incorporate information about location when applying these local operations. It's fascinating to see the way the model learned to get around the problem it was fit to solve.\n",
        "\n",
        "![הורדה (3).png](data:image/png;base64,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)\n",
        "\n",
        "The FC connected layer learned to associate its 32-long latent encodings with completely different patterns - thin brushes of white, distributed around the middle of the image. The fact that the patterns emerge in the center makes sense due to the first key difference described above - the fact that the FC model can learn to associate the individual role of every neuron. It understands that pixels around the edges are almost always black (as the samples in MNIST are centered around their center-of-mass), and decides to discard the information they posses when \"designing\" its compressed encoding format. And as for the the thin brushes - this is the normal pattern of the pen in MNIST samples (though much less smoothed), and as the model is not restricted to look locally (in contrast to the convolutional one that mainly sees edges), it can associate its latent encoding directly with those patterns.\n",
        "\n",
        "![הורדה (4).png](data:image/png;base64,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)\n",
        "\n",
        "Finally - let's examine the behaviour of the decoders after adding noise to the encoding of a real image. There's not much to cover here, just a simple difference between the models. In the FC model, the decoded image did not change a great deal after imposing noise to the encoding of the real image. However, in the convolutional model some weird artifacts suddenly appeared. This follows from the unusual smoothness of the decoded images in the FC model which we covered in the previous cell in detail. The idea is that its manifestation in every step of the image formation (in every decoder layer) smooths out the resulting artifacts, preventing them from becoming meaningful later down the line.\n",
        "\n",
        "* Image reconstructions after imposing noise on the encodings. On the top - the FC model's result; on the bottom - the convolutional model's result.\n",
        "\n",
        "![הורדה (5).png](data:image/png;base64,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)\n",
        "\n",
        "![הורדה (6).png](data:image/png;base64,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)\n",
        "\n"
      ],
      "metadata": {
        "id": "SiyTir148NBu"
      }
    },
    {
      "cell_type": "markdown",
      "source": [
        "### Individual Encoder-Decoder Inversion Error\n",
        "\n",
        "Last but not least, let's take a look the inversion loss of each individual encoder-decoder pair of layers in our models.\n",
        "\n",
        "The results on the FC model:\n",
        "\n",
        "```\n",
        "Inversion loss between encoder-decoder pair 0 of FC InverserAutoencoder: 0.0197\n",
        "Inversion loss between encoder-decoder pair 1 of FC InverserAutoencoder: 0.0006\n",
        "Inversion loss between encoder-decoder pair 2 of FC InverserAutoencoder: 0.0002\n",
        "Inversion loss between encoder-decoder pair 3 of FC InverserAutoencoder: 0.0001\n",
        "Inversion loss between encoder-decoder pair 4 of FC InverserAutoencoder: 0.0001\n",
        "\n",
        "The loss between the furthest pair of encoder-decoder layers in FC InverserAutoencoderis is 95.16% of the total test loss.\n",
        "```\n",
        "\n",
        "The results on the convolutional model:\n",
        "\n",
        "```\n",
        "Inversion loss between encoder-decoder pair 0 of Conv InverserAutoencoder: 0.0136\n",
        "Inversion loss between encoder-decoder pair 1 of Conv InverserAutoencoder: 0.0012\n",
        "Inversion loss between encoder-decoder pair 2 of Conv InverserAutoencoder: 0.0002\n",
        "Inversion loss between encoder-decoder pair 3 of Conv InverserAutoencoder: 0.0001\n",
        "Inversion loss between encoder-decoder pair 4 of Conv InverserAutoencoder: 0.0001\n",
        "\n",
        "The loss between the furthest pair of encoder-decoder layers in Conv InverserAutoencoderis is 89.27% of the total test loss.\n",
        "```\n",
        "\n",
        "In both cases it appears that the further we go, the smaller the error is. And this makes sense: as the the pair of the encoder layer and the decoder layer is closer, the easier it is for the network to make their activations closer.\n",
        "\n",
        "This, however, does not explain the dramatic drop in the error after the first pair - which makes the first error dominate the total loss (it is 95.16% of the total loss in the FC model, and 89.27% of the total loss in the convolutional model). This stems from the fact that the input to all encoder layers but the first one is actually another encoder layer's output - which allows the model to make them automatically closer to the corresponding learned decoder outputs. In contrast, the input to the first encoder layer is completely external - it is the image samples. Here the model really needs to work hard to get them right, it cannot \"cheat\" by engineering the input.\n",
        "\n",
        "Finally - there is a relatively large margin between the part that the first pair's error has in the total loss in both models. In the FC model it's higher - 95.16%, while in the convolutional model it's lower - 89.27%. This follows from the fact that the FC model has (much) more learned parameters, so it can fit its encoder outputs better to be close to the corresponding decoder outputs. This makes the error they impose smaller, and the first pair's error part larger."
      ],
      "metadata": {
        "id": "CHtMkr6iNaF-"
      }
    },
    {
      "cell_type": "markdown",
      "source": [
        "### GL ^_^"
      ],
      "metadata": {
        "id": "dX_QEK4-TQlf"
      }
    }
  ]
}