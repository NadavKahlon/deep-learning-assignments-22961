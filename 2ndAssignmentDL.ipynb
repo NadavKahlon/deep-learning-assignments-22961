{
  "nbformat": 4,
  "nbformat_minor": 0,
  "metadata": {
    "colab": {
      "name": "2ndAssignmentDL.ipynb",
      "provenance": [],
      "collapsed_sections": [
        "a-_7KfnP5-Ju",
        "dKaXBttq6KIA",
        "WkowGB5C9p8y",
        "Tc3W20E99wY2",
        "xOGPXKCe9UMi",
        "hY8rOjgy-L8z",
        "uBVKxtmo-S6W",
        "Q6XZvYrd-WkC",
        "eXT5cRQP_DXd",
        "V-hBk39y_Q-2",
        "CcEJ2bmdOgOR",
        "meU1Om0zUKV4",
        "0eedGwWEVHaX",
        "Hw1sSL3e0155",
        "JwN6Y0rKABvO",
        "5mWy-8gMnX77",
        "iZxlF1HwvD0l",
        "0M0JP-6IqOn9",
        "lSRYZwjQq2wW",
        "gaZpNGXnsnNV",
        "q9voj86qVIS9"
      ]
    },
    "kernelspec": {
      "name": "python3",
      "display_name": "Python 3"
    },
    "language_info": {
      "name": "python"
    }
  },
  "cells": [
    {
      "cell_type": "markdown",
      "source": [
        "---\n",
        "# Student Info & Imports"
      ],
      "metadata": {
        "id": "a-_7KfnP5-Ju"
      }
    },
    {
      "cell_type": "markdown",
      "source": [
        "Student info: Nadav Kahlon, ID: 213438575"
      ],
      "metadata": {
        "id": "vN7kwTsT5-Fr"
      }
    },
    {
      "cell_type": "code",
      "execution_count": null,
      "metadata": {
        "id": "PGX21kDd55mi",
        "colab": {
          "base_uri": "https://localhost:8080/"
        },
        "outputId": "7a91190c-7a60-43a9-90ad-83cc89ca5024"
      },
      "outputs": [
        {
          "output_type": "stream",
          "name": "stdout",
          "text": [
            "Drive already mounted at /content/drive; to attempt to forcibly remount, call drive.mount(\"/content/drive\", force_remount=True).\n",
            "/content/drive/My Drive/2ndAssignmentDL\n"
          ]
        }
      ],
      "source": [
        "# import necessary packages\n",
        "import torch\n",
        "import torchvision\n",
        "import pandas as pd\n",
        "import math\n",
        "from torch import nn\n",
        "from torch.nn import functional as F\n",
        "from tqdm import tqdm\n",
        "from matplotlib import pyplot as plt\n",
        "from collections.abc import Iterable\n",
        "from torch.utils.data import Dataset, DataLoader\n",
        "\n",
        "# set manual seed for PyTorch (for reproducible results)\n",
        "torch.manual_seed(0)\n",
        "\n",
        "# mount Google Drive and move to the assignment's directory\n",
        "from google.colab import drive\n",
        "drive.mount('/content/drive')\n",
        "%cd /content/drive/My\\ Drive/2ndAssignmentDL"
      ]
    },
    {
      "cell_type": "markdown",
      "source": [
        "---\n",
        "# Question 1 - SplitLinear layers\n",
        "In this question we implement and analyze a network layer called SplitLinear. The layer splits the input features into equally-sized groups, feeds them through the same linear-ReLU layer, and finally concatenate the results to produce the output.\n",
        "\n",
        "In the next question we combine this layer in a deep architecture trained on the Fashion-MNIST dataset."
      ],
      "metadata": {
        "id": "dKaXBttq6KIA"
      }
    },
    {
      "cell_type": "markdown",
      "source": [
        "##Part A: Code"
      ],
      "metadata": {
        "id": "WkowGB5C9p8y"
      }
    },
    {
      "cell_type": "markdown",
      "source": [
        "In the following cell you can find the definition of the SplitLinear class, which represents this layer.\n",
        "\n",
        "A few notes regarding the implementation:\n",
        "\n",
        "* Each splitted chunk of features in the input to the forward propagation procedure goes through the linear-ReLU layer independently of the others, so in order to make the process **more efficient in parallel-computation environments** I decided to concatentate those chunks along the **batch** dimension, and feed the resulting tensor as a whole to the linear-ReLU layer - so only one feed-through occurs. Then, by splitting the output tensor to chunks along the batch dimension and concatenating them along the features dimension, we get the required output.\n",
        "\n",
        "* I decided to expand the task we were given, and implement the layer in such a way that it may split the input into **any number of chunks** specified by the user. The reason for that is that I wanted to try and incorporate parameter-sharing in a larger scale, so I could \"get my hands dirty\" in building such a model - even if it is a very basic one :)\n",
        "\n",
        "As a sanity check for this layer, I decided to combine it in the networks we train in the *next question* on the Fashion-MNIST."
      ],
      "metadata": {
        "id": "UmDG8VKe-1Fl"
      }
    },
    {
      "cell_type": "code",
      "source": [
        "'''\n",
        "A neural-network layer that splits the features in its input into equally-sized\n",
        "  chunks, feeds the chunks through the same linear-ReLU layer, and concatenates\n",
        "  the results to produce its output.\n",
        "Input samples should be flattened, i.e. input is of shape (batch_size, in_features).\n",
        "'''\n",
        "class SplitLinear(nn.Module):\n",
        "    '''\n",
        "    Constructor: creates a SplitLinear layer.\n",
        "    Input:\n",
        "      > 'in_features' - number of features of input samples.\n",
        "      > 'out_features' - number of features of output samples.\n",
        "      > 'split_to' - the number of equal chunks the layer splits its input to.\n",
        "        Default: 2\n",
        "      > 'bias' - If set to False, the layer will not learn an additive bias.\n",
        "        Default: True\n",
        "    In order for the layer to function properly, both 'in_features' and 'out_features'\n",
        "      should be a multiplication of 'split_to' (so the layer can split the input\n",
        "      to equally-sized chunks). If this condition is not met, the constructor\n",
        "      throws an assertion error.\n",
        "    '''\n",
        "    def __init__(self, in_features, out_features, split_to=2, bias=True):\n",
        "        # call Module class constructor to initialize the layer\n",
        "        super().__init__()\n",
        "\n",
        "        # make sure input/output dimensions are valid\n",
        "        assert in_features % split_to == 0 and out_features % split_to == 0, ('' +\n",
        "               f'in_features ({in_features}) and out_features ({out_features}) of ' +\n",
        "               f'a SplitLinear layer should be a multiplication of the split_to ' + \n",
        "               f'({split_to}).')\n",
        "        \n",
        "        # number of features in input and output samples\n",
        "        self.in_features = in_features\n",
        "        self.out_features = out_features\n",
        "        # number of features in splitted chunks of the input and output samples\n",
        "        self.in_chunk_size = int(in_features/split_to)\n",
        "        self.out_chunk_size = int(out_features/split_to)\n",
        "\n",
        "        # create linear layer to feed the splitted input data through and initialzie\n",
        "        # weights as described in the following cell\n",
        "        self.linear = nn.Linear(in_features=self.in_chunk_size,\n",
        "                                out_features=self.out_chunk_size,\n",
        "                                bias=bias)\n",
        "        weight_bound = (6 / (self.in_chunk_size + self.out_chunk_size)) ** 0.5\n",
        "        nn.init.uniform_(self.linear.weight, -weight_bound, weight_bound)\n",
        "\n",
        "    '''\n",
        "    Forward propagation through a SplitLinear layer, as described above.\n",
        "    Input: tensor of shape (batch_size, self.in_features).\n",
        "    Output: tensor of shape (batch_size, self.out_features).\n",
        "    Makes sure the input is of a valid shape, if it's not - throws an assertion\n",
        "      error.\n",
        "    '''\n",
        "    def forward(self, input):\n",
        "        # validate input's shape\n",
        "        assert len(input.shape) == 2 and input.shape[1] == self.in_features, ('' +\n",
        "                f'SplitLinear layer expected input of shape (?, {self.in_features}) ' +\n",
        "                f'but got input of shape {tuple(input.shape)}.')\n",
        "        batch_size = input.shape[0]\n",
        "\n",
        "        # split data to chunks over the features dimension\n",
        "        in_chunks = torch.split(input, self.in_chunk_size, dim=1)\n",
        "        # stack the chunks along the batch dimension\n",
        "        in_stacked_chunkes = torch.cat(in_chunks, dim=0)\n",
        "        # feed the chunks together through the same linear-relu layer \n",
        "        out_stacked_chunks = F.relu(self.linear(in_stacked_chunkes)) \n",
        "        # split the output along the batch dimension to obtain output chunks\n",
        "        out_chunks = torch.split(out_stacked_chunks, batch_size, dim=0) \n",
        "        # and concatenate them along the feature dimension to obtain output\n",
        "        output = torch.cat(out_chunks, dim=1)\n",
        "\n",
        "        return output"
      ],
      "metadata": {
        "id": "76bjaCgM-xub"
      },
      "execution_count": null,
      "outputs": []
    },
    {
      "cell_type": "markdown",
      "source": [
        "##Part B: Considerations for Weights Initializations"
      ],
      "metadata": {
        "id": "Tc3W20E99wY2"
      }
    },
    {
      "cell_type": "markdown",
      "source": [
        "I decided to initialize the weights using *Xavier initialization*: randomly sampled from the following uniform distribution $U(-\\sqrt{\\frac{6}{n_{in}'+n_{out}'}}, \\sqrt{\\frac{6}{n_{in}'+n_{out}'}})$\n",
        "where $n_{in}'$ and $n_{out}'$ are the numbers of features in the input and the output of the linear-ReLU layer that is incorporated to the SplitLinear layer, respectively. I explain the motivation for this choice in the following paragraphs.\n",
        "\n",
        "First, we use random sampling to \"break the symmetry\": to avoid cases such as one in which weights going into two different neurons are initialized with the same value - resulting in these 2 neurons having the same activations during forward propagation and the weights having the same gradiants during backward propagation. Gradiant based learning methods will update those weights in the same way (since their gradiants are the same). As a result these two neurons will forever have the same weights going into them, and will forever act the same - reducing the expressive power of the network and wasting time and memory to manipulate both neurons. By initializing the weights randomly, it is very unlikely to run into such cases.\n",
        "\n",
        "Second, this specific distribution is picked to avoid \"vanishing\" or \"exploding\" gradiants - cases in which gradiants in the network are exponentially large or exponentially small. It happens due to extreme activations later in the network during forward propagation (which leads to extreme cost gradiants), or due to extreme gradiants earlier in the network during backpropagation. The reason for that is the fact that forward and backward propagations through some types of layers (such as the linear layer featured in a SplitLinear layer) multiply vectors (activations and gradiants) by the weight matrices. By multiplying a lot of these (through a lot of layers) we can get exponentially large or exponentially small activations and/or gradiants, which can break gradiant-based learning methods (by diverging if the gradiants are too large, or moving too slowly if the gradiants are too small).\n",
        "\n",
        "It is shown [here](https://d2l.ai/chapter_multilayer-perceptrons/numerical-stability-and-init.html#sec-numerical-stability) that if, through a linear layer with no bias, activations are IID with 0 mean and weights are IID with 0 mean (and activations and weights are ID), the variance of the weights should be the inverse of the number of features in the input to the layer - so the output activations will have the same variance as the input activations.\n",
        "\n",
        "Now, let's take take a look at our SplitLinear special layer. If the **input features** are IID with 0 mean - every **chunk of input features** are IID with that exact distribution. Using the above-mentioned method ensures that **all chunks of output features** after the linear layer have the same variance and mean as of the input, and therefore the distribution of **all the output features** also have variance and mean as of the input! So all we need to do to avoid extremely large or extremely small activations is to make sure the weights have mean 0 and variance which is the inverse of the number of features in each input chunk.\n",
        "\n",
        "The same argument works for gradiants, with the number of features in each output chunk instead. Xavier's method offers a compromise between the two - setting the variance of the weights to the inverse of their average: $\\frac{2}{n_{in}'+n_{out}'}$.\n",
        "The above mentioned uniform distribution has this property, and therefore we use it.\n",
        "\n",
        "P.S: we haven't really learned about bias initialization, so I didn't know what to do there. Therefore, I decided to let the default initialization of torch.nn.Linear to decide on these.. Hope that's OK ^_^"
      ],
      "metadata": {
        "id": "u9Suj1jqzlHb"
      }
    },
    {
      "cell_type": "markdown",
      "source": [
        "##Part C: Block Diagram of the SplitLinear layer"
      ],
      "metadata": {
        "id": "xOGPXKCe9UMi"
      }
    },
    {
      "cell_type": "markdown",
      "source": [
        "![Blank diagram (5).png](data:image/png;base64,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)"
      ],
      "metadata": {
        "id": "8zcCROwBmpxx"
      }
    },
    {
      "cell_type": "markdown",
      "source": [
        "## Parts D-F: Theoretical Analyzis\n"
      ],
      "metadata": {
        "id": "9z4OymI59hK_"
      }
    },
    {
      "cell_type": "markdown",
      "source": [
        "In these 3 parts we will analyze the theoretical properties of the layer.We will use the following notations:\n",
        "* $n_{in}$ = number of features in the input of the layer.\n",
        "* $n_{out}$ = number of features in the output of the layer.\n",
        "* $k$ = number of chunks we split the input to.\n",
        "* $n_{in}'$ = number of features in each input chunk. Since the input's $n_{in}$ features are splitted to $k$ chunks, this is the same as $\\frac{n_{in}}{k}$.\n",
        "* $n_{out}'$ = number of features in each output chunk. Since the output's $n_{out}$ features are a concatenation of the $k$ output chunks, this is the same as $\\frac{n_{out}}{k}$."
      ],
      "metadata": {
        "id": "Glbm6gGg948i"
      }
    },
    {
      "cell_type": "markdown",
      "source": [
        "###Part D"
      ],
      "metadata": {
        "id": "hY8rOjgy-L8z"
      }
    },
    {
      "cell_type": "markdown",
      "source": [
        "In a neural network, each linear connection between a layer with $m_{in}$ neurons and a layer with $m_{out}$ neurons requires a weight parameter between each neuron in the input layer to each neuron in the output layer - a total of $m_{in}m_{out}$ weights, plus a bias for each neuron in the output layer - a total of $m_{out}$ biases. In total: $m_{in}m_{out}+m_{out}$ tuneable parameters.\n",
        "\n",
        "The only tuneable parameters we store as part of the SplitLinear layer are the parameters of the linear unit that produces each output chunk, given each input chunk. This is a linear connection between $n_{in}'$ neurons to $n_{out}'$ neurons, so a total of $n_{in}'n_{out}'+n_{out}'=\\frac{n_{in}}{k}\\frac{n_{out}}{k}+\\frac{n_{out}}{k}=\\frac{n_{in}n_{out}}{k^2}+\\frac{n_{out}}{k}$ parameters are requires. On the other hand, an ordinary linear connection which have the same input-output dimensions - $n_{in},n_{out}$, will need $n_{in}n_{out}+n_{out}$ tuneable parameters.\n",
        "\n",
        "As long as $k>1$, the SplitLinear layer requires far less parameters.The ratio between the number of parameters used by a normal linear connection and the number of parameters used by a SplitLinear connection is $\\frac{n_{in}n_{out}+n_{out}}{\\frac{n_{in}n_{out}}{k^2}+\\frac{n_{out}}{k}}=\\frac{n_{in}+1}{n_{in}+k}\\,k^2$. For a large number of input features, this ratio approaches $k^2$.\n",
        "\n",
        "For instance, if $n_{in}=128,\\,n_{out}=256,\\,k=2$, a normal linear connection will require $33024$ parameters, while a SplitLinear connection will require much less - only $8320$ parameters. This is an improvement by a factor of $3.9692$."
      ],
      "metadata": {
        "id": "MSOCk5Lf-BBo"
      }
    },
    {
      "cell_type": "markdown",
      "source": [
        "###Part E"
      ],
      "metadata": {
        "id": "uBVKxtmo-S6W"
      }
    },
    {
      "cell_type": "markdown",
      "source": [
        "For this part we will assume that $k=2$ (so this part will not ruin the next part). We will use the following notations:\n",
        "\n",
        "$x$ = a single input sample to the SplitLinear layer; a vector of $n_{in}$ features.\n",
        "\n",
        "$x_0,x_1$ = the 2 halfs of the input vector which are fed to the linear unit: $x_0=[x]_{1,...,\\frac{n_{in}}{2}},\\,x_1=[x]_{\\frac{n_{in}}{2}+1,...,n_{in}}$\n",
        "\n",
        "$W$ = the weight matrix of the linear unit.\n",
        "\n",
        "$b$ = the bias vector of the linear unit.\n",
        "\n",
        "$z_0,\\,z_1$ = the output of the linear unit for both halfs of the input vector: $z_0=Wx_0+b,\\, z_1=Wx_1+b$.\n",
        "\n",
        "$y_0,\\,y_1$ = the output of the ReLU activation for both halfs of the input: $y_0=ReLU(z_0),\\,y_1=ReLU(z_1)$. Those are the 2 halfs of the output of the SplitLinear layer.\n",
        "\n",
        "$y$ = the output of the LinearSplit layer: $y=[y_0\\,\\,y_1]^T$.\n",
        "\n",
        "$C$ = the cost function.\n",
        "$\\newcommand{\\gradc}[1]{\\frac{\\partial C}{\\partial #1}}$\n",
        "$\\newcommand{\\grad}[2]{\\frac{\\partial #1}{\\partial #2}}$\n",
        "\n",
        "We will assume that we are given the gradiant of the cost with respect to the output of the LinearSplit layer - $\\frac{\\partial y}{\\partial C}$. Using this we can simply get the gradiant of the cost with respect to $y$'s halfs - $y_0$ and $y_1$:\n",
        "\n",
        "$\\gradc{y_0}=[\\gradc{y}]_{1,...,\\frac{n_{out}}{2}}$\n",
        "\n",
        "$\\gradc{y_1}=[\\gradc{y}]_{\\frac{n_{out}}{2}+1,...,n_{out}}$\n",
        "\n",
        "Let's calculate the gradiant of the cost function with respect to a weight $w_{ij},\\,1 \\leq i \\leq \\frac{n_{out}}{2},\\,1 \\leq j \\leq \\frac{n_{in}}{2}$.\n",
        "\n",
        "First, for $l=0,1$, the following holds:\n",
        "\n",
        "$\\grad{[y_l]_i}{w_{ij}} = \\grad{[y_l]_i}{[z_l]_i}\\grad{[z_l]_i}{w_{ij}} = \n",
        "\\grad{ReLU([z_l]_i)}{[z_l]_i}\\grad{(\\sum^{n_{in}/2}_{t=1}w_{it}[x_l]_t\\,+b_i)}{w_{ij}}=1\\{[z_l]_i \\geq 0\\}\\cdot[x_l]_j=1\\{[z_l]_i \\geq 0\\}\\cdot[x]_{{\\frac{n_{in}}{2}}l+j}$\n",
        "\n",
        "Because $w_{ij}$ affects $y_0$ and $y_1$ only through their $i$'th element, we can conclude:\n",
        "\n",
        "$\\gradc{w_{ij}} =\n",
        "\\grad{C(y)}{w_{ij}} =\n",
        "\\grad{C(y_0, y_1)}{w_{ij}} =\n",
        "\\grad{C([y_0]_i, [y_1]_i)}{w_{ij}} =\n",
        "\\grad{C}{[y_0]_i}\\grad{[y_0]_i}{w_{ij}}+\\grad{C}{[y_1]_i}\\grad{[y_1]_i}{w_{ij}} =\n",
        "[\\grad{C}{y}]_i [x]_j 1\\{[z_0]_i \\geq 0\\} + [\\gradc{y}]_{\\frac{n_{out}}{2}+i}[x]_{\\frac{n_{in}}{2}+j}1\\{[z_1]_i\\geq0\\} =\n",
        "\\sum_{l=0}^{1}([\\gradc{y}]_{\\frac{n_{out}}{2}l+i}[x]_{\\frac{n_{in}}{2}l+j}1\\{[z_l]_i\\geq0\\}) =\n",
        "\\sum_{l=0}^{1}([\\gradc{y}]_{\\frac{n_{out}}{2}l+i}[x]_{\\frac{n_{in}}{2}l+j}1\\{[Wx_l+b]_i\\geq0\\}) =\n",
        "\\sum_{l=0}^{1}([\\gradc{y}]_{\\frac{n_{out}}{2}l+i}[x]_{\\frac{n_{in}}{2}l+j}1\\{[W[x]_{\\frac{n_{in}}{2}l+1,...,\\frac{n_{in}}{2}(l+1)}+b]_i\\geq0\\}) $\n",
        "\n",
        "In a similiar fashion we can obtain:\n",
        "\n",
        "$\\gradc{b_i}=\\sum_{l=0}^{1}([\\gradc{y}]_{\\frac{n_{out}}{2}l+i}1\\{[W[x]_{\\frac{n_{in}}{2}l+1,...,\\frac{n_{in}}{2}(l+1)}+b]_i\\geq0\\})$\n",
        "\n",
        "Those formulas are with respect to a single sample $x$. To get the gradiants with respect to a batch of $N$ samples $\\{(X_n,Y_n)\\}_{n=1}^N$, we simply need to sum those gradiants over all the samples - since each parameter affects the cost through every output sample:\n",
        "\n",
        "$\\gradc{w_{ij}} =\n",
        "\\sum_{n=1}^{N}\n",
        "\\sum_{l=0}^{1}([\\gradc{Y_n}]_{\\frac{n_{out}}{2}l+i}[X_n]_{\\frac{n_{in}}{2}l+j}1\\{[W[X_n]_{\\frac{n_{in}}{2}l+1,...,\\frac{n_{in}}{2}(l+1)}+b]_i\\geq0\\}) $\n",
        "\n",
        "$\\gradc{b_i} =\n",
        "\\sum_{n=1}^{N}\n",
        "\\sum_{l=0}^{1}([\\gradc{Y_N}]_{\\frac{n_{out}}{2}l+i}1\\{[W[X_n]_{\\frac{n_{in}}{2}l+1,...,\\frac{n_{in}}{2}(l+1)}+b]_i\\geq0\\})$"
      ],
      "metadata": {
        "id": "cfcbXy8iSQy5"
      }
    },
    {
      "cell_type": "markdown",
      "source": [
        "###Part F"
      ],
      "metadata": {
        "id": "Q6XZvYrd-WkC"
      }
    },
    {
      "cell_type": "markdown",
      "source": [
        "In the previous part we saw that if we split the input into $k=2$ equally-sized chunks of features, feed them through the same linear-ReLU unit with weight $W$ and bias $b$, the gradiant of the cost function for a batch $\\{(X_n,Y_n)\\}_{n=1}^N$ of samples with respect to the parameters of the layers is:\n",
        "$\\newcommand{\\gradc}[1]{\\frac{\\partial C}{\\partial #1}}$\n",
        "$\\newcommand{\\grad}[2]{\\frac{\\partial #1}{\\partial #2}}$\n",
        "\n",
        "$\\gradc{w_{ij}} =\n",
        "\\sum_{n=1}^{N}\n",
        "\\sum_{l=0}^{1}([\\gradc{Y_N}]_{\\frac{n_{out}}{2}l+i}[X_n]_{\\frac{n_{in}}{2}l+j}1\\{[W[X_n]_{\\frac{n_{in}}{2}l+1,...,\\frac{n_{in}}{2}(l+1)}+b]_i\\geq0\\}) $\n",
        "\n",
        "$\\gradc{b_i} =\n",
        "\\sum_{n=1}^{N}\n",
        "\\sum_{l=0}^{1}([\\gradc{Y_N}]_{\\frac{n_{out}}{2}l+i}1\\{[W[X_n]_{\\frac{n_{in}}{2}l+1,...,\\frac{n_{in}}{2}(l+1)}+b]_i\\geq0\\})$\n",
        "\n",
        "For each $1 \\leq i \\leq \\frac{n_{out}}{2},\\,1 \\leq j \\leq \\frac{n_{in}}{2}$.\n",
        "\n",
        "By looking at those formulas, we can see that the gradiants are a sum of 2 expressions, each corresponds to the affect of the parameters on a single chunk of features. For instance, the gradiant of the cost for a single sample $(x,y)$ with respect to $w_{ij}$ is the sum of the following expression for $l=0,1$:\n",
        "\n",
        "$[\\gradc{y}]_{\\frac{n_{out}}{2}l+i}[x]_{\\frac{n_{in}}{2}l+j}1\\{[W[x]_{\\frac{n_{in}}{2}l+1,...,\\frac{n_{in}}{2}(l+1)}+b]_i\\geq0\\}$\n",
        "\n",
        "Where $[\\gradc{y}]_{\\frac{n_{out}}{2}l+i}$ is the affect of the $(l+1)$'th chunk of output features on the cost, and $[x]_{\\frac{n_{in}}{2}l+j}1\\{[W[x]_{\\frac{n_{in}}{2}l+1,...,\\frac{n_{in}}{2}(l+1)}+b]_i\\geq0\\}$ is the affect of the weight on that output chunk.\n",
        "\n",
        "Let's try to generalize this idea: if we would split the input into $k$ chunks instead of just $2$, we will have k chunks of output features that the ouput $y$ will be composed of. Each, will affect the cost through the corresponding components of the gradiant of the cost with respect to $y$: $[\\gradc{y}]_{\\frac{n_{out}}{k}l+1,...,\\frac{n_{out}}{k}(l+1)}$ (for $l=0,...,k-1$). Every such chunk of output features will depend on the weights and biases of the linear-ReLU unit through the corresponding input chunks ($[x]_{\\frac{n_{in}}{k}l+1,...,\\frac{n_{in}}{k}(l+1)}$ for $l=0,...k-1$) in a similiar \"linear-ReLU fashion\".\n",
        "\n",
        "We can therefore infer that the corresponding gradiants of the cost for a batch $\\{(X_n,Y_n)\\}_{n=1}^N$ of $N$ exapmles will now be:\n",
        "\n",
        "$\\gradc{w_{ij}} =\n",
        "\\sum_{n=1}^{N}\n",
        "\\sum_{l=0}^{k-1}([\\gradc{Y_n}]_{\\frac{n_{out}}{k}l+i}[X_n]_{\\frac{n_{in}}{k}l+j}1\\{[W[X_n]_{\\frac{n_{in}}{k}l+1,...,\\frac{n_{in}}{k}(l+1)}+b]_i\\geq0\\}) $\n",
        "\n",
        "$\\gradc{b_i} =\n",
        "\\sum_{n=1}^{N}\n",
        "\\sum_{l=0}^{k-1}([\\gradc{Y_n}]_{\\frac{n_{out}}{k}l+i}1\\{[W[X_n]_{\\frac{n_{in}}{k}l+1,...,\\frac{n_{in}}{k}(l+1)}+b]_i\\geq0\\})$\n",
        "\n",
        "For each $1 \\leq i \\leq \\frac{n_{out}}{k},\\,1 \\leq j \\leq \\frac{n_{in}}{k}$.\n",
        "\n",
        "For instance, if we would split the input into $k=4$ chunks, we will have:\n",
        "\n",
        "$\\gradc{w_{ij}} =\n",
        "\\sum_{n=1}^{N}\n",
        "\\sum_{l=0}^{3}([\\gradc{Y_n}]_{\\frac{n_{out}}{4}l+i}[X_n]_{\\frac{n_{in}}{4}l+j}1\\{[W[X_n]_{\\frac{n_{in}}{4}l+1,...,\\frac{n_{in}}{4}(l+1)}+b]_i\\geq0\\}) $\n",
        "\n",
        "$\\gradc{b_i} = \n",
        "\\sum_{n=1}^{N}\n",
        "\\sum_{l=0}^{3}([\\gradc{Y_n}]_{\\frac{n_{out}}{4}l+i}1\\{[W[X_n]_{\\frac{n_{in}}{4}l+1,...,\\frac{n_{in}}{4}(l+1)}+b]_i\\geq0\\})$\n",
        "\n",
        "For each $1 \\leq i \\leq \\frac{n_{out}}{4},\\,1 \\leq j \\leq \\frac{n_{in}}{4}$."
      ],
      "metadata": {
        "id": "mGQgQGSF-G7k"
      }
    },
    {
      "cell_type": "markdown",
      "source": [
        "---\n",
        "# Question 2 - DropNorm layers\n",
        "In this question we implement and analyze a neural network layer called DropNorm which is a concatenation of a special dropout layer and a special normalization layer.\n",
        "\n",
        "We use it to train a deep classification network on the Fashion-MNIST dataset using a GPU, and compare the results to those obtained by using PyTorch's implementation of the corresponding layers."
      ],
      "metadata": {
        "id": "qGk01BGezIEb"
      }
    },
    {
      "cell_type": "markdown",
      "source": [
        "##Part A: Specifications and Code"
      ],
      "metadata": {
        "id": "eXT5cRQP_DXd"
      }
    },
    {
      "cell_type": "markdown",
      "source": [
        "The DropNorm layer works in the following manner:\n",
        "\n",
        "* At train time, the layer randomly chooses certain features to drop (the same features for all samples in a batch) with a constant probability (a hyperparameter). Then, it normalizes the features that are left according to their mean and variance (for each sample individually). Finally, it scales and shifts the features according to learned parameters (associated with each feature individually).\n",
        "\n",
        "* At test time the layer normalizes the features of the input samples according to their mean and variance (for each sample individually). Then, it scales and shifts the features using the above-mentioned learned parameters (associated with each feature individually).\n",
        "\n",
        "In the following cell you can find the definition of the DropNorm class, which represents this layer."
      ],
      "metadata": {
        "id": "fkay20eu1SSi"
      }
    },
    {
      "cell_type": "code",
      "source": [
        "'''\n",
        "A neural-network layer that works in the following manner:\n",
        "  > At train time, the layer randomly chooses certain features to drop (the same\n",
        "    features for all samples in a batch) with a constant probability (a hyperparameter).\n",
        "    Then, it normalizes the features that are left according to their mean and\n",
        "    variance (for each sample individually). Finally, it scales and shifts the features\n",
        "    according to learned parameters (associated with each feature individually).\n",
        "  > At test time the layer normalizes the features of the input samples according\n",
        "    to their mean and variance (for each sample individually). Then, it scales and\n",
        "    shifts the features using the above-mentioned learned parameters (associated\n",
        "    with each feature individually).\n",
        "Samples can be of any shape, i.e. input is of any shape of the form\n",
        "  (batch_size, in_dim_1, ..., in_dim_d).\n",
        "'''\n",
        "class DropNorm(nn.Module):\n",
        "    '''\n",
        "    Constructor: creates a DropNorm layer.\n",
        "    Input:\n",
        "      > 'in_shape' - shape of input samples (without batch dimension).\n",
        "      > 'drop_rate' - the probability for the dropout part of the layer to drop\n",
        "        a neuron. Should be a number exclusively between 0 and 1 otherwise an, \n",
        "        assertion error is thrown. Default: 0.5.\n",
        "      > 'eps' - small real number to add to the denominator while normalizing\n",
        "        features by their variance. Defaule: 1e-5.\n",
        "    '''\n",
        "    def __init__(self, in_shape, drop_rate=0.5, eps=1e-5):\n",
        "        # call Module class constructor to initialize the layer\n",
        "        super().__init__()\n",
        "\n",
        "        # make sure drop_rate is valid and store it\n",
        "        assert 0 < drop_rate < 1, (\"DropNorm: drop_rate should be exclusively\" +\n",
        "               \"between 0 and 1.\")\n",
        "        self.drop_rate = drop_rate\n",
        "        \n",
        "        # initialize scale parmeter and shift parameter of the batch-norm part\n",
        "        # to 1 and 0, respectively\n",
        "        self.gamma = nn.Parameter(torch.ones(in_shape))\n",
        "        self.beta = nn.Parameter(torch.zeros(in_shape))\n",
        "\n",
        "        # store additional values\n",
        "        self.eps = eps\n",
        "        self.in_shape = in_shape if isinstance(in_shape, Iterable) else [in_shape]\n",
        "        # (note the special treatment for a 1-dimensional input shape)\n",
        "\n",
        "    '''\n",
        "    Forward propagation through a DropNorm layer, as described above.\n",
        "    Input: tensor representing a batch samples of the specified shape (self.in_shape),\n",
        "      where the first dimension is the batch dimension.\n",
        "    Output: tensor of the same shape as the input.\n",
        "    '''\n",
        "    def forward(self, X):\n",
        "        # get device on which the layer runs\n",
        "        device = self.gamma.device\n",
        "\n",
        "        # generate mask of kept features (all features are kept during test time)\n",
        "        mask  = (torch.rand(self.in_shape) > self.drop_rate if self.training\n",
        "                 else torch.full(size=self.in_shape, fill_value=True)).to(device)\n",
        "\n",
        "        # calculate mean and variance of kept features (per sample)\n",
        "        kept_feats = X[:, mask]\n",
        "        means = torch.mean(kept_feats, dim=1) # shape (batch_size,)\n",
        "        vars = torch.var(kept_feats, dim=1) # shape (batch_size,)\n",
        "\n",
        "        # normalize each sample's features according to the mean and variance of its\n",
        "        # *kept* features\n",
        "        X_moved = torch.movedim(X, 0, -1)\n",
        "        X_hat_moved = (X_moved - means) / torch.sqrt(vars + self.eps)\n",
        "        X_hat = torch.movedim(X_hat_moved, -1, 0)\n",
        "        \n",
        "        # scale and shift features according to learned parameters\n",
        "        Y = self.gamma * X_hat + self.beta\n",
        "\n",
        "        # in train time - apply the dropping of output features, and rescale them \n",
        "        # so their mean is not changed\n",
        "        if self.training:\n",
        "            Y = Y * mask / (1-self.drop_rate)\n",
        "        \n",
        "        return Y"
      ],
      "metadata": {
        "id": "RISO7VozG5ZN"
      },
      "execution_count": null,
      "outputs": []
    },
    {
      "cell_type": "markdown",
      "source": [
        "A few notes regarding the implementation:\n",
        "\n",
        "* I decided to make the drop rate a hyperparameter (and not a constant 0.5), since that expansion is pretty straight-forward and makes the code look cleaner.\n",
        "* Unlike the implementation of dropout in the learning guide (and similiar to the implementation presented in D2L [here](http://d2l.ai/chapter_multilayer-perceptrons/dropout.html#implementation-from-scratch)), I decided to rescale the remaining features only (those that were not dropped in train time) by a factor of 1/(1-drop_rate). As a result, the expected activation $x$ remains the same as without dropout:\n",
        "\n",
        "  $E[Dropout(x)] = E_{x\\space dropped?}[E[Dropout(x)\\space|\\space x\\space dropped?]] = drop\\_rate\\cdot E[Dropout(x)\\space|\\space x\\space dropped]+(1-drop\\_rate)\\cdot E[Dropout(x)\\space|\\space x\\space wasn't\\space dropped]=drop\\_rate\\cdot 0 + (1-drop\\_rate)\\cdot E[\\frac{x}{1-drop\\_rate}]=E[x]$\n",
        "\n",
        "* If you take a closer look at my code, you may notice that the actual dropping of features does not take place until the very end of the forward procedure. I decided to do that so we won't need to specify the kept features when applying shifting and scaling, and so the code will be easier to read and understand correctly. Note - that doesn't mean that the means and variances are calculated with respect to all the features! We generate the mask of the kept features in the very beginning of the procedure, and use it to make sure means and variances are calculated on the kept features only. In the end, we use this mask to actually drop features (and rescale the remaining ones by 1/(1-drop_rate) so their expected value is not changed).\n",
        "\n",
        "* Note that in order to apply the normalization for each sample individually, we first move the batch dimension to the end so it will correctly broadcast with the means tensor and variances tensor, both of shape (batch_size,). But don't worry - after normalizing, we move it back to the beginning."
      ],
      "metadata": {
        "id": "pjSFmZez2RiP"
      }
    },
    {
      "cell_type": "markdown",
      "source": [
        "##Part B: Considerations for Test Time Specifications"
      ],
      "metadata": {
        "id": "V-hBk39y_Q-2"
      }
    },
    {
      "cell_type": "markdown",
      "source": [
        "Abvoe, I described the way forward propagation happens through the DropNorm layer during test time. For convenience, I repeat the explanation again here:\n",
        "\n",
        "> At test time the layer normalizes the features of the input samples according to their mean and variance (for each sample individually). Then, it scales and shifts the features using learned parameters (associated with each feature individually).\n",
        "\n",
        "I decided on those actions for the following reasons:\n",
        "\n",
        "* First, I needed to decide how the dropout part of the layer will act in test time. Dropping features randomly is a way of adding noise to the computation in-between the layers (to make the model more robust to noise). However, during test time we want to get the best predictions possible. It is not the time to make it harder for the model, and therefore it is not the time to add such noise. As a result, I decided to omit the dropout part during test time\n",
        "\n",
        "* Second, I needed to decide what to do during the second step of the layer - the normalization step. Since normalization is done based on the mean and variance of the features of *each sample individually*, the rest of the network will learn to work with output from this layer which consists of *individually normalized samples*. Therefore, I decided to make the normalization step work the same in test time as well - normalizing each sample individually. This part is practically the first part of what's called 'layer normalization' - as described in \"Layer Normalization\" by J.L. Ba et al. (2016). There, the writers make this same decision.\n",
        "\n",
        "* And lastly, I needed to decide what to do with the final part of the layer - the scaling and shifting by learned parameters associated with each feature individually. Since the layer specifically learned those parameters for its calculations later in the network, the most logical decision is to make the layer work the same here as well - scaling and shifting each feature by the corresponding learned parameters."
      ],
      "metadata": {
        "id": "ePrzr_-E_arw"
      }
    },
    {
      "cell_type": "markdown",
      "source": [
        "##Part C: Considerations for Parameter Initializations"
      ],
      "metadata": {
        "id": "CcEJ2bmdOgOR"
      }
    },
    {
      "cell_type": "markdown",
      "source": [
        "The only (learned, not hyper) parameters of this layer are gamma and beta - the tensors holding the scaling and shifting values used on each feature individually in the final part of the layer, after normalizing the mean and variance pf each sample's features.\n",
        "\n",
        "In absence of any information regarding the distribution of features the rest of the network may wish to work with, we need to initialize both gamma and beta in the constructor. The reasonable approach is to initially not change the features at all, taking into account the fact that each sample's features were previously normalized. Therefore - I decided to initialize each scaling parameter in gamma to 1, and each shifting parameter in beta to 0."
      ],
      "metadata": {
        "id": "vpwOvmRjOqFP"
      }
    },
    {
      "cell_type": "markdown",
      "source": [
        "##Parts D-F: Comparing Performances On Fashion-MNIST "
      ],
      "metadata": {
        "id": "dh1sjec3V-xm"
      }
    },
    {
      "cell_type": "markdown",
      "source": [
        "Next, we train 2 deep classification networks - both with a similiar structure. The only difference is that one of the networks consists of our DropNorm layer, and the other consists of a combination of PyTorch's built-in dropout and normalization layers. Training and testing is performed using a GPU (if available).\n",
        "\n",
        "We compare the performances of both trained networks on the test set, and draw conclusions regarding the uniqueness of the DropNorm layer."
      ],
      "metadata": {
        "id": "nC6LhVQuWZEM"
      }
    },
    {
      "cell_type": "code",
      "source": [
        "''' Get available device, preferably GPU '''\n",
        "if torch.cuda.is_available():\n",
        "    device = torch.device('cuda:0')\n",
        "else:\n",
        "    device = torch.device('cpu')\n",
        "print('Using device:', device)"
      ],
      "metadata": {
        "colab": {
          "base_uri": "https://localhost:8080/"
        },
        "id": "Y-RpP62b0ivl",
        "outputId": "451062e4-c572-493c-f42e-c42850c5b56d"
      },
      "execution_count": null,
      "outputs": [
        {
          "output_type": "stream",
          "name": "stdout",
          "text": [
            "Using device: cuda:0\n"
          ]
        }
      ]
    },
    {
      "cell_type": "code",
      "source": [
        "''' Load data '''\n",
        "\n",
        "# load Fashion-MNIST dataset\n",
        "trans=torchvision.transforms.Compose(\n",
        "    [torchvision.transforms.PILToTensor(),\n",
        "     torchvision.transforms.ConvertImageDtype(torch.float)])\n",
        "train_data = torchvision.datasets.FashionMNIST(\n",
        "    root=\"/FashionMNIST\", train=True, download=True,\n",
        "    transform=trans)\n",
        "test_data = torchvision.datasets.FashionMNIST(\n",
        "    root=\"/22961\", train=False, download=True,\n",
        "    transform=trans)\n",
        "\n",
        "# create dataloader for train data and test data\n",
        "train_dataloader = DataLoader(train_data, batch_size=512,\n",
        "                              num_workers=1,shuffle=True,pin_memory=True)\n",
        "test_dataloader = DataLoader(test_data, batch_size=len(test_data), pin_memory=True)"
      ],
      "metadata": {
        "id": "hvYL075rJkaG"
      },
      "execution_count": null,
      "outputs": []
    },
    {
      "cell_type": "code",
      "source": [
        "''' Some constant values we will use in the process: '''\n",
        "epochs = 10 # number of epochs we will use to train each model\n",
        "CE_loss = nn.NLLLoss() # the loss measure we use here - cross entorpy\n",
        "lr = 0.1 # learning rate used for both models' optimizers\n",
        "batches = len(train_dataloader) # number of train batches\n",
        "drop_rate = 0.5 # drop rate used by both models to drop neurons"
      ],
      "metadata": {
        "id": "o9wMsRS_3h1r"
      },
      "execution_count": null,
      "outputs": []
    },
    {
      "cell_type": "code",
      "source": [
        "'''\n",
        "Creates a deep nn.Sequential classification model with a few occurrences of some\n",
        "  type of layer.\n",
        "Input:\n",
        "  > 'get_layer' - a callable that accepts an input shape (of a sample, i.e. with\n",
        "    no batch dimensiom) and returns an instance of an nn.Module. That nn.Module\n",
        "    should accept input samples of the shape specified by the argument sent to\n",
        "    'layer', and return output samples of that same shape.\n",
        "  > 'device' - device to create the network on.\n",
        "Output: a deep nn.Sequential model of a specific architecture, containing a few\n",
        "  occurrences of layers generated using 'get_layer'. The layer accepts inputs\n",
        "  of the shape of the samples in the Fashion-MNIST dataset, and outputs a vector\n",
        "  of 10 probabilities.\n",
        "'''\n",
        "def create_model(get_layer, device):\n",
        "    return nn.Sequential(\n",
        "        get_layer((1,28,28)),\n",
        "        nn.Flatten(),\n",
        "        nn.Linear(784, 256), nn.ReLU(),\n",
        "        get_layer((256)),\n",
        "        SplitLinear(256, 128),\n",
        "        nn.Linear(128, 10),\n",
        "        nn.LogSoftmax(dim=1)).to(device)"
      ],
      "metadata": {
        "id": "iigQkjzw0K1M"
      },
      "execution_count": null,
      "outputs": []
    },
    {
      "cell_type": "code",
      "source": [
        "'''\n",
        "Trains a given 10-class classification model for the Fashion-MNIST dataset for the\n",
        "  above mentioned number of epochs (stored in 'epochs').\n",
        "Input:\n",
        "  > 'model' - an nn.Moudle to fit on the Fashion-MNIST dataset.\n",
        "  > 'device' - device to work on.\n",
        "Output: a pair (batch_loss, batch_acc) where:\n",
        "  > 'batch_loss' is a list of the history of the losses of the model on the training\n",
        "    batches during train time.\n",
        "  > 'batch_acc' is a list of the history of the accuracies of the model on the \n",
        "    training batches during train time.\n",
        "Documents the process in real time using the tqdm package.\n",
        "'''\n",
        "def train_model(model, device):\n",
        "    optimizer = torch.optim.SGD(model.parameters(), lr=lr) # optimizer for training\n",
        "    batch_loss = [] # list to track losses history\n",
        "    batch_acc = [] # list to track accuracies history\n",
        "\n",
        "    for epoch in range(epochs):\n",
        "        epoch_desc = f'epoch {epoch+1} / {epochs}' # string description of the epoch\n",
        "\n",
        "        # process each training batch\n",
        "        for (imgs, labels) in tqdm(train_dataloader, epoch_desc, position=0, leave=True):\n",
        "            # trasfer batch to working device\n",
        "            imgs = imgs.to(device)\n",
        "            labels = labels.to(device)\n",
        "            # run forward and backward passes on the batch\n",
        "            optimizer.zero_grad()\n",
        "            model.train()\n",
        "            y_model = model(imgs)\n",
        "            loss = CE_loss(y_model, labels)\n",
        "            loss.backward()\n",
        "            optimizer.step()\n",
        "            # record performance on current batch\n",
        "            predicted_labels = y_model.argmax(dim=1)\n",
        "            acc = (predicted_labels == labels).sum()/len(labels)\n",
        "            batch_loss.append(loss.item())\n",
        "            batch_acc.append(acc.item())\n",
        "        \n",
        "    return batch_loss, batch_acc"
      ],
      "metadata": {
        "id": "zUOu7nLc0OUA"
      },
      "execution_count": null,
      "outputs": []
    },
    {
      "cell_type": "code",
      "source": [
        "'''\n",
        "Tests a given 10-class classification model on the test partition of the\n",
        "Fashion-MNIST dataset.\n",
        "Input:\n",
        "  > 'model' - nn.Module representing the model to test.\n",
        "  > 'device' - device to work on.\n",
        "Output: a pair (test_loss, test_acc) of the loss and the accuracy of the model\n",
        "  on the test partition (respectively)\n",
        "'''\n",
        "def test_model(model, device):\n",
        "    with torch.no_grad():\n",
        "        # load test data\n",
        "        imgs, labels = next(iter(test_dataloader))\n",
        "        imgs = imgs.to(device)\n",
        "        labels = labels.to(device)\n",
        "        # evaluate model on test data \n",
        "        model.eval()\n",
        "        y_model = model(imgs)\n",
        "        loss = CE_loss(y_model, labels)\n",
        "        predicted_labels = y_model.argmax(dim=1)\n",
        "        acc = (predicted_labels == labels).sum()/len(labels)\n",
        "    return loss, acc"
      ],
      "metadata": {
        "id": "teJXE8Hf0VMX"
      },
      "execution_count": null,
      "outputs": []
    },
    {
      "cell_type": "markdown",
      "source": [
        "###Part D: Training a Network with PyTorch's Built-In Dropout & Normalization Layers"
      ],
      "metadata": {
        "id": "meU1Om0zUKV4"
      }
    },
    {
      "cell_type": "markdown",
      "source": [
        "In this part we will need to create sequence structure that consists of a combination of PyTorch's built-in dropout and normalization layers, to replace our DropNorm layer.\n",
        "\n",
        "Let's review the way the DropNorm layer works:\n",
        "* First, it randomly drops features in a constant rate. The way to do it using built-in layers is by a Dropout layer (in package torch.nn).\n",
        "* Next, it normalizes each sample's features according to their mean and variance and then rescales and shift each feature according to a pair of learned parameters associated with it. This is exactly what a layer-normalization process does, and we can use PyTorch's implementation of it - LayerNorm (in package torch.nn).\n",
        "\n",
        "By creating a Sequential model that concatenates both of these layers together we can obtain a structure that we will use instead of DropNorm layers."
      ],
      "metadata": {
        "id": "KIGRfiJq2M15"
      }
    },
    {
      "cell_type": "code",
      "source": [
        "# for this part - we need to use the above mentioned sequence of PyTorch built-in\n",
        "# layers as the replacement for the DropNorm layer; the following lambda expression\n",
        "# generates such a sequence given the input (sample) shape\n",
        "get_layer = lambda in_shape: nn.Sequential(nn.Dropout(p=drop_rate),\n",
        "                                           nn.LayerNorm(in_shape))\n",
        "\n",
        "# create and fit a model\n",
        "model = create_model(get_layer, device)\n",
        "batch_loss, batch_acc = train_model(model, device)\n",
        "\n",
        "# plot loss and accuracy history for the train batches\n",
        "plt.plot(batch_acc, label='train (batch) accuracy')\n",
        "plt.plot(batch_loss, label='train (batch) loss')\n",
        "plt.xticks([])\n",
        "plt.yticks(torch.arange(0.0,2.5,0.2))\n",
        "plt.legend()\n",
        "plt.show()\n",
        "\n",
        "test_loss, test_acc = test_model(model, device)\n",
        "print(f'Results on test set:\\n',\n",
        "      f'\\tloss = {test_loss}\\n',\n",
        "      f'\\taccuracy = {test_acc}\\n')"
      ],
      "metadata": {
        "colab": {
          "base_uri": "https://localhost:8080/",
          "height": 510
        },
        "id": "GLNuFOBR0OzM",
        "outputId": "93f6da4f-6fa0-4e7b-8822-0bf8f93de28b"
      },
      "execution_count": null,
      "outputs": [
        {
          "output_type": "stream",
          "name": "stderr",
          "text": [
            "epoch 1 / 10: 100%|██████████| 118/118 [00:23<00:00,  5.04it/s]\n",
            "epoch 2 / 10: 100%|██████████| 118/118 [00:17<00:00,  6.75it/s]\n",
            "epoch 3 / 10: 100%|██████████| 118/118 [00:17<00:00,  6.61it/s]\n",
            "epoch 4 / 10: 100%|██████████| 118/118 [00:17<00:00,  6.71it/s]\n",
            "epoch 5 / 10: 100%|██████████| 118/118 [00:17<00:00,  6.74it/s]\n",
            "epoch 6 / 10: 100%|██████████| 118/118 [00:18<00:00,  6.33it/s]\n",
            "epoch 7 / 10: 100%|██████████| 118/118 [00:17<00:00,  6.71it/s]\n",
            "epoch 8 / 10: 100%|██████████| 118/118 [00:17<00:00,  6.72it/s]\n",
            "epoch 9 / 10: 100%|██████████| 118/118 [00:17<00:00,  6.76it/s]\n",
            "epoch 10 / 10: 100%|██████████| 118/118 [00:17<00:00,  6.73it/s]\n"
          ]
        },
        {
          "output_type": "display_data",
          "data": {
            "text/plain": [
              "<Figure size 432x288 with 1 Axes>"
            ],
            "image/png": "[encoded data removed]"
          },
          "metadata": {
            "needs_background": "light"
          }
        },
        {
          "output_type": "stream",
          "name": "stdout",
          "text": [
            "Results on test set:\n",
            " \tloss = 0.5417680144309998\n",
            " \taccuracy = 0.8230999708175659\n",
            "\n"
          ]
        }
      ]
    },
    {
      "cell_type": "markdown",
      "source": [
        "###Part E: Training a Network With DropNorm layers"
      ],
      "metadata": {
        "id": "0eedGwWEVHaX"
      }
    },
    {
      "cell_type": "code",
      "source": [
        "# for this part - we want the designated layer to be our DropNorm layer, so I set\n",
        "# the get_layer parameter to a function that calls DropNorm's constructor\n",
        "get_layer = lambda in_shape: DropNorm(in_shape=in_shape, drop_rate=drop_rate)\n",
        "\n",
        "# create and fit a model\n",
        "model = create_model(get_layer, device)\n",
        "batch_loss, batch_acc = train_model(model, device)\n",
        "\n",
        "# plot loss and accuracy history for the train batches\n",
        "plt.plot(batch_acc, label='train (batch) accuracy')\n",
        "plt.plot(batch_loss, label='train (batch) loss')\n",
        "plt.xticks([])\n",
        "plt.yticks(torch.arange(0.0,2.5,0.2))\n",
        "plt.legend()\n",
        "plt.show()\n",
        "\n",
        "test_loss, test_acc = test_model(model, device)\n",
        "print(f'Results on test set:\\n',\n",
        "      f'\\tloss = {test_loss}\\n',\n",
        "      f'\\taccuracy = {test_acc}\\n')"
      ],
      "metadata": {
        "colab": {
          "base_uri": "https://localhost:8080/",
          "height": 510
        },
        "id": "9TN06nDVVPdE",
        "outputId": "40afd9ef-cebc-438d-a46a-3038dab804af"
      },
      "execution_count": null,
      "outputs": [
        {
          "output_type": "stream",
          "name": "stderr",
          "text": [
            "epoch 1 / 10: 100%|██████████| 118/118 [00:17<00:00,  6.68it/s]\n",
            "epoch 2 / 10: 100%|██████████| 118/118 [00:17<00:00,  6.79it/s]\n",
            "epoch 3 / 10: 100%|██████████| 118/118 [00:17<00:00,  6.78it/s]\n",
            "epoch 4 / 10: 100%|██████████| 118/118 [00:17<00:00,  6.67it/s]\n",
            "epoch 5 / 10: 100%|██████████| 118/118 [00:17<00:00,  6.59it/s]\n",
            "epoch 6 / 10: 100%|██████████| 118/118 [00:17<00:00,  6.71it/s]\n",
            "epoch 7 / 10: 100%|██████████| 118/118 [00:17<00:00,  6.61it/s]\n",
            "epoch 8 / 10: 100%|██████████| 118/118 [00:17<00:00,  6.56it/s]\n",
            "epoch 9 / 10: 100%|██████████| 118/118 [00:17<00:00,  6.63it/s]\n",
            "epoch 10 / 10: 100%|██████████| 118/118 [00:18<00:00,  6.50it/s]\n"
          ]
        },
        {
          "output_type": "display_data",
          "data": {
            "text/plain": [
              "<Figure size 432x288 with 1 Axes>"
            ],
            "image/png": "[encoded data removed]"
          },
          "metadata": {
            "needs_background": "light"
          }
        },
        {
          "output_type": "stream",
          "name": "stdout",
          "text": [
            "Results on test set:\n",
            " \tloss = 0.4569340944290161\n",
            " \taccuracy = 0.8342999815940857\n",
            "\n"
          ]
        }
      ]
    },
    {
      "cell_type": "markdown",
      "source": [
        "###Part F: Comparison and Conclusions"
      ],
      "metadata": {
        "id": "Hw1sSL3e0155"
      }
    },
    {
      "cell_type": "markdown",
      "source": [
        "Before we begin, in order to make the discussion cleaner - let us call the network with built-in PyTorch layers \"network A\", and the network with our DropNorm layer \"network B\".\n",
        "\n",
        "In fact, both networks produced very similiar performance results, though network B was a bit better:\n",
        "* The test loss of network B was around 0.4569, while the test loss of network A was around 0.5418.\n",
        "* The test accuracy of network B was around 83.43%, while the test accuracy of network A was around 82.31%.\n",
        "\n",
        "However if we take a look at the training-history curves, we can see that the training process of network B was a bit \"noisier\" (with sharper jumps up and down during the process) than that of network A.\n",
        "\n",
        "Now, in order to decide which network we might want to use more, let's examine more closely the difference between a DropNorm layer and a sequence of a Dropout layer and a LayerNorm layer. Both do practically the same, except for one crucial differnce: DropNorm layer performs the layer-normalization process **on the remaining neurons only**, while the LayerNorm part of the above mentioned sequence of 2 layers is not aware of the dropped neurons (dropped by the Dropout layer that came before it) and treats them as standard neurons with activation 0. That means that **the dropped neurons (with value 0) take part in the normalization and rescaling & shifting process** - affecting the variance of the features of each sample (and therefore - affecting the normalization) and are affected by the shifting by the learned parameter beta.\n",
        "\n",
        "Now the debatable question is - do we want our network to act like that? I think not. Zeroing neurons and still taking them into account can heavily affect the variance of the features (by increasing it). This, in turn, can produce unwelcomed behaviour - such as making the activations smaller by some factor each time (since we divide by the SD of the features as part of the normalization process). Forward propagating data through many of these layers can decrease the variance of the features exponentially, leading to vanishing gradiants. Moreover, now the dropped features will be shifted by the learned parameter beta, and will therefore have affect on later parts of the network (since their activations will no longer be 0). This is probably unwanted.\n",
        "\n",
        "This emphasizes the uniqueness of the DropNorm layer - it is a concatenation of a dropout layer and a layer-normalization layer that is actually aware of the dropped neurons and makes sure to omit them from the normalization process. It is designated for this combo of actions!\n",
        "\n",
        "To sum up, I would choose to use network B - the network with our DropNorm layers. Though the performances were pretty similiar in our case, I believe that according to the above-mentioned issues of the other option, DropNorm layer will work better in models of larger scale."
      ],
      "metadata": {
        "id": "8kHBAfx61D_3"
      }
    },
    {
      "cell_type": "markdown",
      "source": [
        "##Part G: Theoretical Anaysis of Backpropagation Through DropNorm Layers\n"
      ],
      "metadata": {
        "id": "JwN6Y0rKABvO"
      }
    },
    {
      "cell_type": "markdown",
      "source": [
        "Let's assume our input consists of N four-dimensional samples $\\{X_n\\}_{n=1}^N$ such that each $X_n$ is a vector of 4 (real) features: $X_n=(X_{n1},X_{n2},X_{n3},X_{n4})$. We will address features by their index (feature $1$ will be the first feature, feature $2$ will be the second feature, etc.). Let's also assume that the output of a DropNorm layer for input tensor $X=[X_{ni}]_{n=1,...,N;\\space i=1,...,4}$ is a tensor $Y=[Y_{ni}]_{n=1,...,N;\\space i=1,...,4}$, and that $Y$ is later used in some other parts of a network to calculate a loss function $C$. We will denote the parameters of that DropNorm layer with $\\gamma=(\\gamma_1,\\gamma_2,\\gamma_3,\\gamma_4)$ and $\\beta=(\\beta_1,\\beta_2,\\beta_3,\\beta_4)$. We will also assume that we are given with $\\gradc{Y}$, and will calculate $\\gradc{X}$.\n",
        "$\\newcommand{\\gradc}[1]{\\frac{\\partial C}{\\partial #1}}$\n",
        "$\\newcommand{\\grad}[2]{\\frac{\\partial #1}{\\partial #2}}$\n",
        "$\\newcommand{\\gradc}[1]{\\frac{\\partial C}{\\partial #1}}$\n",
        "$\\newcommand{\\grad}[2]{\\frac{\\partial #1}{\\partial #2}}$\n",
        "$\\newcommand{\\split}[5]{\n",
        "\\begin{equation*} #1=\\begin{cases} #2 & #3 \\\\ #4 & #5 \\end{cases}\n",
        "\\end{equation*}}$\n",
        "$\\newcommand{\\forinf}[3]{\\split{#1}{#2}{i\\in F}{#3}{i\\notin F}}$\n",
        "\n",
        "The first part of the DropNorm layer is to drop some features. Let's call the set of (indices of) the features that **were not dropped** $F\\subseteq\\{1,2,3,4\\}$ (the dropped features are $\\bar{F}$).\n",
        "\n",
        "Each output sample $Y_n$ depends only on the $n$'th input sample (since normalization is done per-sample individually and then the rescaling and shifting does not mix features at all), so we can examine each sample individually. Let's say we have an output sample $y=(y_1,y_2,y_3,y_3)$ and that the corresponding input sample is $x=(x_1,x_2,x_3,x_4)$.\n",
        "\n",
        "Let's denote the mean and variance of the features that were not dropped in sample x in:\n",
        "$\\mu_F(x)=mean(\\{x_i\\space|\\space i\\in F\\})=\\frac{1}{|F|}\\sum_{i\\in F}x_i$\n",
        "$\\newcommand{\\muf}{\\mu_F(x)}$\n",
        "\n",
        "$\\sigma_F^2(x)=var(\\{x_i\\space|\\space i\\in F\\})=\\frac{1}{|F|}\\sum_{i\\in F} (x_i-\\mu_F(x))^2$\n",
        "$\\newcommand{\\varf}{\\sigma_F^2(x)}$\n",
        "\n",
        "So we can obtain:\n",
        "\n",
        "* $\\forinf{\\grad{\\muf}{x_i}}{\\frac{1}{|F|}}{0}$\n",
        "\n",
        "* $\\forinf{\\grad{\\varf}{x_i}}{\\frac{2}{|F|}(x_i-\\muf)}{0}$\n",
        "\n",
        "> The first derivative is simple. The derivation of the second derivative can be found in [Note #1](https://drive.google.com/file/d/1d2bBF-SG2RGZzmgk57i86NP17sT2wCpM/view?usp=sharing).\n",
        "\n",
        "We will also denote the normalized remaining features with:\n",
        "\n",
        "$\\hat{x_i}=\\frac{x_i-\\muf}{\\sqrt{\\varf+ϵ}},\\space i\\in F$\n",
        "\n",
        "It can be shown that for any $i,j\\in F,\\space i\\not=j$ the following holds:\n",
        "\n",
        "* $\\grad{\\hat{x_i}}{x_i} = \\frac{1-\\frac{1}{|F|}(\\hat{x_i}^2+1)}{\\sqrt{\\varf+\\epsilon}}$\n",
        "\n",
        "* $\\grad{\\hat{x_i}}{x_j} = \\frac{-\\frac{1}{|F|}(\\hat{x_i}\\hat{x_j}+1)}{\\sqrt{\\varf+\\epsilon}}$\n",
        "\n",
        "> The derivation of the first derivative can be found in [Note #2](https://drive.google.com/file/d/1-RkCEkX3I_7-c5DPzD4rpFnleLnm-pHo/view?usp=sharing) and the derivation of the second derivative can be found in [Note #3](https://drive.google.com/file/d/1EL_fAr6pdcrRym2qGxrQ1J35dSSqcKi2/view?usp=sharing).\n",
        "\n",
        "So in general for each $i,j\\in F$:\n",
        "\n",
        "* $\\grad{\\hat{x_i}}{x_j} = \\frac{1\\{i=j\\}-\\frac{1}{|F|}(\\hat{x_i}\\hat{x_j}+1)}{\\sqrt{\\varf+\\epsilon}}$\n",
        "\n",
        "Finally, we can express the output $y$ as:\n",
        "\n",
        "$\\forinf{y_i}{\\gamma_i\\hat{x_i}+\\beta_i}{0}$\n",
        "\n",
        "And we can easily obtain:\n",
        "\n",
        "* $\\forinf{\\grad{y_i}{\\gamma_i}}{\\hat{x_i}}{0}$\n",
        "\n",
        "* $\\forinf{\\grad{y_i}{\\beta_i}}{1}{0}$\n",
        "\n",
        "* $\\forinf{\\grad{y_i}{\\hat{x_i}}}{\\gamma_i}{0}$\n",
        "\n",
        "Now, armed with all the partial derivatives across the computation of the forward propagation for input sample $x$, we can write the required gradiants. Note - as explained above, each input sample $X_n$ affects the output tensor (and therefore - the cost) only through the corresponding output sample $Y_n$, so for any pair of mathcing input-output samples $(x,y)$ we can say that the following holds for every $i=1,2,3,4$:\n",
        "\n",
        "$\\gradc{x_i}=\\sum_{j=1}^{4}\\gradc{y_j}\\grad{y_j}{x_i}$\n",
        "\n",
        "$y_j$ is not affected by the input sample $x$ at all if $j$ is not in $F$ (i.e. if the $j$'th feature was dropped), so instead we can write:\n",
        "\n",
        "(1) $\\gradc{x_i}=\\sum_{j\\in F}\\gradc{y_j}\\grad{y_j}{x_i}$\n",
        "\n",
        "$y_j$ is not affected by $x_i$ at all if $i$ is not in $F$ (i.e. if the $i$'th feature was dropped), so we can also say that:\n",
        "\n",
        "(2) $\\forall i\\notin F:\\space \\gradc{x_i}=0$\n",
        "\n",
        "So from now on we will assume that $i\\in F$. Let $j$ be some element in $F$. We will calculate $\\grad{y_j}{x_i}$. $y_j$ is derived only from $\\hat{x_j}$ which in turn is affected directly by $x_i$. Therefore:\n",
        "\n",
        "$\\grad{y_j}{x_i}=\\grad{y_j}{\\hat{x_j}}\\grad{\\hat{x_j}}{x_i}=\\gamma_j \\frac{1\\{i=j\\}-\\frac{1}{|F|}(\\hat{x_i}\\hat{x_j}+1)}{\\sqrt{\\varf+\\epsilon}}$\n",
        "\n",
        "Using (1) we can get:\n",
        "\n",
        "(3) $\\forall i\\in F:\\space \\gradc{x_i}=\\sum_{j\\in F}\\gradc{y_j}\\grad{y_j}{x_i}=\\sum_{j\\in F}\\grad{C}{y_j}\\frac{1\\{i=j\\}-\\frac{1}{|F|}(\\hat{x_i}\\hat{x_j}+1)}{\\sqrt{\\varf+\\epsilon}}\\gamma_j$\n",
        "\n",
        "(2) and (3) holds for every input sample $x\\in\\{X_n\\}_{n=1}^N$ so to sum up the first part of the solution:\n",
        "\n",
        "$\\forall n\\in\\{1,...,N\\},\\space i\\in\\{1,2,3,4\\}:$\n",
        "\n",
        "  $\\forinf{\\grad{C}{X_{ni}}}{\\sum_{j\\in F}\\grad{C}{Y_{nj}}\\frac{1\\{i=j\\}-\\frac{1}{|F|}(\\hat{X_{ni}}\\hat{X_{nj}}+1)}{\\sqrt{\\sigma_F^2(X_n)+\\epsilon}}\\gamma_j}{0}$\n",
        "\n",
        "Next - we need to calculate the gradiant of the cost with respect to the layer's learned parameters $\\gamma$ and $\\beta$. For each $i\\in\\{1,2,3,4\\}$, $\\gamma_i$ and $\\beta_i$ affect only the $i$'th features in the output of the layer, so they affect the cost only through those elements in the output tensor. Therefore we can say that -\n",
        "\n",
        "$\\forall i\\in\\{1,2,3,4\\}:$\n",
        "* $\\forinf{\\gradc{\\gamma_i}=\\sum_{n=1}^N{\\gradc{Y_{ni}}\\grad{Y_{ni}}{\\gamma_i}}}{\\sum_{n=1}^N{ \\gradc{Y_{ni}}\\hat{X_{ni}}}}{0}$\n",
        "* $\\forinf{\\gradc{\\beta_i}=\\sum_{n=1}^N{\\gradc{Y_{ni}}\\grad{Y_{ni}}{\\beta_i}}}{\\sum_{n=1}^N{ \\gradc{Y_{ni}}}}{0}$\n",
        "\n",
        "***Summary***\n",
        "\n",
        "In conclusion, the backward propagation through the DropNorm layer of input tensor $X$ and output tensor $Y$ with batch of size $N$ and 1-dimensional samples with 4 features, works in the following way:\n",
        "\n",
        "$\\forall n\\in\\{1,...,N\\},\\space i\\in\\{1,2,3,4\\}:$\n",
        "* $\\forinf{\\grad{C}{X_{ni}}}{\\sum_{j\\in F}\\grad{C}{Y_{nj}}\\frac{1\\{i=j\\}-\\frac{1}{|F|}(\\hat{X_{ni}}\\hat{X_{nj}}+1)}{\\sqrt{\\sigma_F^2(X_n)+\\epsilon}}\\gamma_j}{0}$\n",
        "* $\\forinf{\\gradc{\\gamma_i}}{\\sum_{n=1}^N{ \\gradc{Y_{ni}}\\hat{X_{ni}}}}{0}$\n",
        "* $\\forinf{\\gradc{\\beta_i}}{\\sum_{n=1}^N{ \\gradc{Y_{ni}}}}{0}$\n",
        "\n",
        "Where $\\forall n\\in\\{1,...,N\\},\\space i\\in\\{1,2,3,4\\}$ we define:\n",
        "* $\\mu_F(X_n)=mean(\\{X_{ni}\\space|\\space i\\in F\\})=\\frac{1}{|F|}\\sum_{i\\in F}X_{ni}$\n",
        "* $\\sigma_F^2(X_n)=var(\\{X_{ni}\\space|\\space i\\in F\\})=\\frac{1}{|F|}\\sum_{i\\in F} (X_{ni}-\\mu_F(X_n))^2$\n",
        "* $\\hat{X_{ni}}=\\frac{X_{ni}-\\mu_F(X_n)}{\\sqrt{\\sigma_F^2(X_n)+ϵ}}\\space\\space\\space (i\\in F)$\n",
        "\n",
        "And $F\\subseteq\\{1,2,3,4\\}$ is the set of indices of the features that were not dropped by the layer."
      ],
      "metadata": {
        "id": "NUYcsnNg8ihF"
      }
    },
    {
      "cell_type": "markdown",
      "source": [
        "---\n",
        "#Question 3 - Regression Network for Predicting Diabetes Progression\n",
        "\n",
        "In this question we use the diabetes dataset introduced in the paper \"Least angle regression\" by B. Efrom et al. in 2004 to train a regression network to predict the progression of the disease among patients over a year, based on 10 baseline variables. \n",
        "\n",
        "We practice importing and using our own datasets - extending the Dataset class of the PyTorch library."
      ],
      "metadata": {
        "id": "5mWy-8gMnX77"
      }
    },
    {
      "cell_type": "markdown",
      "source": [
        "##Parts A-C: Custom Dataset"
      ],
      "metadata": {
        "id": "iZxlF1HwvD0l"
      }
    },
    {
      "cell_type": "code",
      "source": [
        "'''\n",
        "A class that represents a dataset containing tabular data.\n",
        "Features:\n",
        "* The user specifies which columns represent the covariates and which columns\n",
        "    represent the targets.\n",
        "* The data can be transformed automatically to PyTorch tensors (of type\n",
        "    torch.float32) if the user wishes for this to happen.\n",
        "* The user can specify the Dataset to contain only a specific part of the rows\n",
        "    (and not all of them).\n",
        "'''\n",
        "class TabularDataset(Dataset):\n",
        "    '''\n",
        "    Constructor - creates a new Dataset object for your tabular data.\n",
        "    Input:\n",
        "      > 'data_src' - the source of the data. Can be one of the two:\n",
        "        * A string representing a path for a tab-separated csv file - in which\n",
        "          case the tabular data in it is imported and used.\n",
        "        * An instance of a pandas dataframe - in which case its tabular data is\n",
        "          used directly.\n",
        "      > 'covariate_cols' - list of names of columns that represent the covariates.\n",
        "      > 'target_cols' - list of names of columns that represent the targets.\n",
        "      > 'to_tensor' - a boolean stating whether the user wishes\n",
        "       to automatically\n",
        "        transform the data to PyTorch tensor format (of datatype torch.float32).\n",
        "        Default='True'.\n",
        "      > 'rows': A list of indices of rows the user wishes to include in the dataset.\n",
        "        Default: None (which means that all the rows are included).\n",
        "      > 'transform' - an optional transformation that will be applied on the\n",
        "        covariate tensors. Default: None (no transformation).\n",
        "      > 'target_transform' - an optional transformation that will be applied on\n",
        "        the target tensors. Default: None (no transformations).\n",
        "    '''\n",
        "    def __init__(self, data_src, covariate_cols, target_cols, to_tensor=True,\n",
        "                 rows=None, transform=None, target_transform=None):\n",
        "        # import data from csv file if necessary\n",
        "        if not isinstance(data_src, pd.DataFrame):\n",
        "            data_src = pd.read_csv(data_src, sep='\\t')\n",
        "        self.data = data_src\n",
        "        \n",
        "        # if necessary - include required rows only\n",
        "        if rows != None:\n",
        "            self.data = self.data.iloc[rows]\n",
        "\n",
        "        # store additional info\n",
        "        self.covariate_cols = covariate_cols\n",
        "        self.target_cols = target_cols\n",
        "        self.to_tensor = to_tensor\n",
        "        self.transform = transform\n",
        "        self.target_transform = target_transform\n",
        "\n",
        "    '''\n",
        "    Gets the number of samples in the dataset.\n",
        "    '''\n",
        "    def __len__(self):\n",
        "        return self.data.shape[0]\n",
        "    \n",
        "    '''\n",
        "    Gets a specific sample of the dataset.\n",
        "    Input: index of the sample.\n",
        "    Output: a pair of the covariates and the targets of the required sample.\n",
        "    Note: both covariates and targets are casted to type torch.float32.\n",
        "    '''\n",
        "    def __getitem__(self, idx):\n",
        "        # get the covariates (x) and the targets (y)\n",
        "        x = self.data[self.covariate_cols].iloc[idx]\n",
        "        y = self.data[self.target_cols].iloc[idx]\n",
        "\n",
        "        # transform to tensor if required\n",
        "        if self.to_tensor != None:\n",
        "            x = torch.tensor(x.values, dtype=torch.float32)\n",
        "            y = torch.tensor(y.values, dtype=torch.float32)\n",
        "\n",
        "        # apply transformations if necessary\n",
        "        if self.transform != None:\n",
        "            x = self.transform(x)\n",
        "        if self.target_transform:\n",
        "            y = self.target_transform(y)\n",
        "        \n",
        "        return x, y\n",
        "    \n",
        "    '''\n",
        "    Splits the rows of a csv file to create 2 different TabularDatasets.\n",
        "    Input:\n",
        "      > 'csv_file' - a path for a tab-separated csv file containing the data.\n",
        "      > 'train_part' - the fraction of the original dataset that will constitue\n",
        "        the first TabularDataset (should be between 0.0 and 1.0). This fraction\n",
        "        is round down if necessary.\n",
        "      > 'to_shuffle' - whether the user wishes to randomly split the rows (instead\n",
        "        of simply taking the first 'train_part' rows for the first dataset, and\n",
        "        the rest for the second). Default: True.\n",
        "      > 'covariate_cols', 'target_cols', 'to_tensor', 'transform',\n",
        "        'target_transform' - all are the same as in TabularDataset.__init__.\n",
        "    Output: a pair (train_datset, test_dataset) of brand new TabularDatasets,\n",
        "      the first containing 'train_part' of the rows in 'csv_file', and the second\n",
        "      containing the rest of the rows.\n",
        "    '''\n",
        "    @classmethod\n",
        "    def train_test_split(cls, csv_file, train_part,\n",
        "                         covariate_cols, target_cols, to_shuffle=True,\n",
        "                         to_tensor=True, transform=None, target_transform=None):\n",
        "        # get the data\n",
        "        data_src = pd.read_csv(csv_file, sep='\\t')\n",
        "\n",
        "        # create a list of indices of rows, shuffled if necessary\n",
        "        N = data_src.shape[0]\n",
        "        rows = torch.arange(N) if (not to_shuffle) else torch.randperm(N)\n",
        "\n",
        "        # split it to 2 lists of rows - for train and for test\n",
        "        split_point = math.floor(N*train_part)\n",
        "        train_rows = rows[: split_point]\n",
        "        test_rows = rows[split_point :]\n",
        "\n",
        "        # use the dataframe and the row lists to create the dataset\n",
        "        train_dataset = TabularDataset(data_src, covariate_cols, target_cols,\n",
        "                                       to_tensor, train_rows, transform,\n",
        "                                       target_transform)\n",
        "        test_dataset = TabularDataset(data_src, covariate_cols, target_cols,\n",
        "                                      to_tensor, test_rows, transform,\n",
        "                                      target_transform)\n",
        "        \n",
        "        return train_dataset, test_dataset"
      ],
      "metadata": {
        "id": "KQri2_QjvXm4"
      },
      "execution_count": null,
      "outputs": []
    },
    {
      "cell_type": "code",
      "source": [
        "# specify details of our specific diabetes dataset\n",
        "csv_file = 'diabetes.csv'\n",
        "covariate_cols = ['AGE', 'SEX', 'BMI', 'BP', 'S1',\n",
        "                  'S2', 'S3', 'S4', 'S5', 'S6'] # covariate features\n",
        "target_cols = ['Y'] # target features\n",
        "\n",
        "# create tabular Dataset for our data\n",
        "diabetes_dataset = TabularDataset(csv_file, covariate_cols, target_cols)"
      ],
      "metadata": {
        "id": "U2NV0KQ3X6fa"
      },
      "execution_count": null,
      "outputs": []
    },
    {
      "cell_type": "markdown",
      "source": [
        "##Part D: A Dataloader for Our Data"
      ],
      "metadata": {
        "id": "0M0JP-6IqOn9"
      }
    },
    {
      "cell_type": "code",
      "source": [
        "# create a Dataloader object for our data\n",
        "diabetes_dataloader = DataLoader(diabetes_dataset, batch_size=10)"
      ],
      "metadata": {
        "id": "PLEUHcQmqSzd"
      },
      "execution_count": null,
      "outputs": []
    },
    {
      "cell_type": "markdown",
      "source": [
        "##Part E: First Batch of Data"
      ],
      "metadata": {
        "id": "lSRYZwjQq2wW"
      }
    },
    {
      "cell_type": "code",
      "source": [
        "# get first batch of data from the dataloader\n",
        "covariates, targets = next(iter(diabetes_dataloader))\n",
        "\n",
        "# print some info about it\n",
        "print(f'Batch covariates shape: {covariates.shape}')\n",
        "print(f'Batch covariates tensor:')\n",
        "print(covariates)\n",
        "print(f'Batch targets shape: {targets.shape}')\n",
        "print(f'Batch targets tensor:')\n",
        "print(targets)"
      ],
      "metadata": {
        "colab": {
          "base_uri": "https://localhost:8080/"
        },
        "id": "apIbLwUkrGZX",
        "outputId": "26c9a343-a075-465d-8e1c-5f1d68dd4abd"
      },
      "execution_count": null,
      "outputs": [
        {
          "output_type": "stream",
          "name": "stdout",
          "text": [
            "Batch covariates shape: torch.Size([10, 10])\n",
            "Batch covariates tensor:\n",
            "tensor([[ 59.0000,   2.0000,  32.1000, 101.0000, 157.0000,  93.2000,  38.0000,\n",
            "           4.0000,   4.8598,  87.0000],\n",
            "        [ 48.0000,   1.0000,  21.6000,  87.0000, 183.0000, 103.2000,  70.0000,\n",
            "           3.0000,   3.8918,  69.0000],\n",
            "        [ 72.0000,   2.0000,  30.5000,  93.0000, 156.0000,  93.6000,  41.0000,\n",
            "           4.0000,   4.6728,  85.0000],\n",
            "        [ 24.0000,   1.0000,  25.3000,  84.0000, 198.0000, 131.4000,  40.0000,\n",
            "           5.0000,   4.8903,  89.0000],\n",
            "        [ 50.0000,   1.0000,  23.0000, 101.0000, 192.0000, 125.4000,  52.0000,\n",
            "           4.0000,   4.2905,  80.0000],\n",
            "        [ 23.0000,   1.0000,  22.6000,  89.0000, 139.0000,  64.8000,  61.0000,\n",
            "           2.0000,   4.1897,  68.0000],\n",
            "        [ 36.0000,   2.0000,  22.0000,  90.0000, 160.0000,  99.6000,  50.0000,\n",
            "           3.0000,   3.9512,  82.0000],\n",
            "        [ 66.0000,   2.0000,  26.2000, 114.0000, 255.0000, 185.0000,  56.0000,\n",
            "           4.5500,   4.2485,  92.0000],\n",
            "        [ 60.0000,   2.0000,  32.1000,  83.0000, 179.0000, 119.4000,  42.0000,\n",
            "           4.0000,   4.4773,  94.0000],\n",
            "        [ 29.0000,   1.0000,  30.0000,  85.0000, 180.0000,  93.4000,  43.0000,\n",
            "           4.0000,   5.3845,  88.0000]])\n",
            "Batch targets shape: torch.Size([10, 1])\n",
            "Batch targets tensor:\n",
            "tensor([[151.],\n",
            "        [ 75.],\n",
            "        [141.],\n",
            "        [206.],\n",
            "        [135.],\n",
            "        [ 97.],\n",
            "        [138.],\n",
            "        [ 63.],\n",
            "        [110.],\n",
            "        [310.]])\n"
          ]
        }
      ]
    },
    {
      "cell_type": "markdown",
      "source": [
        "##Part F: Training a Deep Regression Network for The Diabetes Dataset"
      ],
      "metadata": {
        "id": "gaZpNGXnsnNV"
      }
    },
    {
      "cell_type": "code",
      "source": [
        "''' Get available device, preferably GPU '''\n",
        "if torch.cuda.is_available():\n",
        "    device = torch.device('cuda:0')\n",
        "else:\n",
        "    device = torch.device('cpu')\n",
        "print('Using device:', device)"
      ],
      "metadata": {
        "colab": {
          "base_uri": "https://localhost:8080/"
        },
        "id": "b5tpucaaLv9s",
        "outputId": "934f3bc4-990e-4873-8729-edd0d5a38329"
      },
      "execution_count": null,
      "outputs": [
        {
          "output_type": "stream",
          "name": "stdout",
          "text": [
            "Using device: cpu\n"
          ]
        }
      ]
    },
    {
      "cell_type": "code",
      "source": [
        "# create disjoint train and test datasets by randomly splitting the diabetes \n",
        "# dataset (with the train datset containing 80% of the rows)\n",
        "train_dataset, test_dataset = TabularDataset.train_test_split(\n",
        "                                csv_file=csv_file,\n",
        "                                train_part=0.8,\n",
        "                                covariate_cols=covariate_cols,\n",
        "                                target_cols=target_cols\n",
        "                                )\n",
        "print(f'Size of train dataset: {len(train_dataset)}')\n",
        "print(f'Size of test dataset: {len(test_dataset)}')\n",
        "\n",
        "# wrap Dataloader around them for easy access\n",
        "train_dataloader = DataLoader(train_dataset, batch_size=100)\n",
        "test_dataloader = DataLoader(test_dataset, batch_size=len(test_dataset))\n",
        "print(f'Number of train batches: {len(train_dataloader)}')"
      ],
      "metadata": {
        "colab": {
          "base_uri": "https://localhost:8080/"
        },
        "id": "z7KdgCLNxOF6",
        "outputId": "c78bf611-b236-47ce-89a6-5447e72a5ac6"
      },
      "execution_count": null,
      "outputs": [
        {
          "output_type": "stream",
          "name": "stdout",
          "text": [
            "Size of train dataset: 353\n",
            "Size of test dataset: 89\n",
            "Number of train batches: 4\n"
          ]
        }
      ]
    },
    {
      "cell_type": "code",
      "source": [
        "# create a deep regression network for the diabetes dataset (remember that we)\n",
        "# have 10 input features)\n",
        "model = nn.Sequential(nn.Linear(10, 512), nn.LeakyReLU(),\n",
        "                      nn.Linear(512, 64), nn.LeakyReLU(), nn.Dropout(),\n",
        "                      nn.Linear(64, 16), nn.LeakyReLU(),\n",
        "                      nn.Linear(16, 4), nn.LeakyReLU(),\n",
        "                      nn.Linear(4, 1)).to(device)\n",
        "\n",
        "# loss measure (remember that the task at hand is regression)\n",
        "MSE_loss = nn.MSELoss()\n",
        "\n",
        "# attach an optimizer\n",
        "optimizer = torch.optim.Adam(model.parameters(), lr=0.0035)"
      ],
      "metadata": {
        "id": "T9wVLTY-BfOf"
      },
      "execution_count": null,
      "outputs": []
    },
    {
      "cell_type": "code",
      "source": [
        "''' In this cell we train the network '''\n",
        "batch_loss = [] # list to track loss history\n",
        "epochs = 50 # number of epochs\n",
        "\n",
        "for epoch in tqdm(range(epochs), 'Training', position=0, leave=True):\n",
        "    epoch_desc = f'epoch {epoch+1} / {epochs}' # string description of the epoch\n",
        "\n",
        "    # process each training batch\n",
        "    for (X, y) in train_dataloader:\n",
        "        # trasfer batch to working device\n",
        "        X = X.to(device)\n",
        "        y = y.to(device)\n",
        "        # run forward and backward passes on the batch\n",
        "        optimizer.zero_grad()\n",
        "        model.train()\n",
        "        y_model = model(X)\n",
        "        loss = MSE_loss(y_model, y)\n",
        "        loss.backward()\n",
        "        optimizer.step()\n",
        "        # record performance on current batch\n",
        "        batch_loss.append(loss.item())\n",
        "\n",
        "# plot the batch loss history for the training process\n",
        "plt.plot(batch_loss, label='train (batch) loss')\n",
        "plt.xticks([])\n",
        "plt.legend()\n",
        "plt.show()\n",
        "  "
      ],
      "metadata": {
        "colab": {
          "base_uri": "https://localhost:8080/",
          "height": 270
        },
        "id": "ID_nHLbfEwnN",
        "outputId": "075832fe-ecdf-42bd-c01a-2104c7ad059b"
      },
      "execution_count": null,
      "outputs": [
        {
          "output_type": "stream",
          "name": "stderr",
          "text": [
            "Training: 100%|██████████| 50/50 [00:25<00:00,  1.99it/s]\n"
          ]
        },
        {
          "output_type": "display_data",
          "data": {
            "text/plain": [
              "<Figure size 432x288 with 1 Axes>"
            ],
            "image/png": "[encoded data removed]"
          },
          "metadata": {
            "needs_background": "light"
          }
        }
      ]
    },
    {
      "cell_type": "markdown",
      "source": [
        "##Part G: Evaluating Our Model On a Separated Test Set"
      ],
      "metadata": {
        "id": "q9voj86qVIS9"
      }
    },
    {
      "cell_type": "code",
      "source": [
        "with torch.no_grad():\n",
        "    # load test data (that we separated from the train data in advance previously)\n",
        "    X, y = next(iter(test_dataloader))\n",
        "    X = X.to(device)\n",
        "    y = y.to(device)\n",
        "\n",
        "    # evaluate model on test data \n",
        "    model.eval()\n",
        "    y_model = model(X)\n",
        "    loss = MSE_loss(y_model, y)\n",
        "\n",
        "    print(f'MSE loss on test data = {loss}')\n",
        "    print(f'sqrt(loss) = {torch.sqrt(loss)}')"
      ],
      "metadata": {
        "colab": {
          "base_uri": "https://localhost:8080/"
        },
        "id": "eO4M1L26VV0j",
        "outputId": "2ad43e61-edc8-4130-9110-4582a26cbab8"
      },
      "execution_count": null,
      "outputs": [
        {
          "output_type": "stream",
          "name": "stdout",
          "text": [
            "MSE loss on test data = 3187.6552734375\n",
            "sqrt(loss) = 56.45932388305664\n"
          ]
        }
      ]
    },
    {
      "cell_type": "markdown",
      "source": [
        "GL ^_^"
      ],
      "metadata": {
        "id": "U5fqntD1tnbo"
      }
    }
  ]
}